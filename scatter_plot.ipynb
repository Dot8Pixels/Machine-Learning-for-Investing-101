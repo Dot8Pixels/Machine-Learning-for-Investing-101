{
 "cells": [
  {
   "cell_type": "code",
   "execution_count": 1,
   "metadata": {},
   "outputs": [],
   "source": [
    "import pandas as pd\n",
    "import yfinance as yf\n",
    "import numpy as np"
   ]
  },
  {
   "cell_type": "code",
   "execution_count": 2,
   "metadata": {},
   "outputs": [
    {
     "name": "stdout",
     "output_type": "stream",
     "text": [
      "[*********************100%***********************]  2 of 2 completed\n"
     ]
    }
   ],
   "source": [
    "data = yf.download(\"SPY AAPL\", start=\"2020-01-01\", end=\"2021-09-30\")"
   ]
  },
  {
   "cell_type": "code",
   "execution_count": 3,
   "metadata": {},
   "outputs": [],
   "source": [
    "df = data.Close.copy()"
   ]
  },
  {
   "cell_type": "code",
   "execution_count": 5,
   "metadata": {},
   "outputs": [
    {
     "data": {
      "text/html": [
       "<div>\n",
       "<style scoped>\n",
       "    .dataframe tbody tr th:only-of-type {\n",
       "        vertical-align: middle;\n",
       "    }\n",
       "\n",
       "    .dataframe tbody tr th {\n",
       "        vertical-align: top;\n",
       "    }\n",
       "\n",
       "    .dataframe thead tr th {\n",
       "        text-align: left;\n",
       "    }\n",
       "\n",
       "    .dataframe thead tr:last-of-type th {\n",
       "        text-align: right;\n",
       "    }\n",
       "</style>\n",
       "<table border=\"1\" class=\"dataframe\">\n",
       "  <thead>\n",
       "    <tr>\n",
       "      <th></th>\n",
       "      <th colspan=\"2\" halign=\"left\">Adj Close</th>\n",
       "      <th colspan=\"2\" halign=\"left\">Close</th>\n",
       "      <th colspan=\"2\" halign=\"left\">High</th>\n",
       "      <th colspan=\"2\" halign=\"left\">Low</th>\n",
       "      <th colspan=\"2\" halign=\"left\">Open</th>\n",
       "      <th colspan=\"2\" halign=\"left\">Volume</th>\n",
       "    </tr>\n",
       "    <tr>\n",
       "      <th></th>\n",
       "      <th>AAPL</th>\n",
       "      <th>SPY</th>\n",
       "      <th>AAPL</th>\n",
       "      <th>SPY</th>\n",
       "      <th>AAPL</th>\n",
       "      <th>SPY</th>\n",
       "      <th>AAPL</th>\n",
       "      <th>SPY</th>\n",
       "      <th>AAPL</th>\n",
       "      <th>SPY</th>\n",
       "      <th>AAPL</th>\n",
       "      <th>SPY</th>\n",
       "    </tr>\n",
       "    <tr>\n",
       "      <th>Date</th>\n",
       "      <th></th>\n",
       "      <th></th>\n",
       "      <th></th>\n",
       "      <th></th>\n",
       "      <th></th>\n",
       "      <th></th>\n",
       "      <th></th>\n",
       "      <th></th>\n",
       "      <th></th>\n",
       "      <th></th>\n",
       "      <th></th>\n",
       "      <th></th>\n",
       "    </tr>\n",
       "  </thead>\n",
       "  <tbody>\n",
       "    <tr>\n",
       "      <th>2019-12-31</th>\n",
       "      <td>72.139954</td>\n",
       "      <td>310.837585</td>\n",
       "      <td>73.412498</td>\n",
       "      <td>321.859985</td>\n",
       "      <td>73.419998</td>\n",
       "      <td>322.130005</td>\n",
       "      <td>72.379997</td>\n",
       "      <td>320.149994</td>\n",
       "      <td>72.482498</td>\n",
       "      <td>320.529999</td>\n",
       "      <td>100805600</td>\n",
       "      <td>57077300</td>\n",
       "    </tr>\n",
       "    <tr>\n",
       "      <th>2020-01-02</th>\n",
       "      <td>73.785912</td>\n",
       "      <td>313.744537</td>\n",
       "      <td>75.087502</td>\n",
       "      <td>324.869995</td>\n",
       "      <td>75.150002</td>\n",
       "      <td>324.890015</td>\n",
       "      <td>73.797501</td>\n",
       "      <td>322.529999</td>\n",
       "      <td>74.059998</td>\n",
       "      <td>323.540009</td>\n",
       "      <td>135480400</td>\n",
       "      <td>59151200</td>\n",
       "    </tr>\n",
       "    <tr>\n",
       "      <th>2020-01-03</th>\n",
       "      <td>73.068573</td>\n",
       "      <td>311.368744</td>\n",
       "      <td>74.357498</td>\n",
       "      <td>322.410004</td>\n",
       "      <td>75.144997</td>\n",
       "      <td>323.640015</td>\n",
       "      <td>74.125000</td>\n",
       "      <td>321.100006</td>\n",
       "      <td>74.287498</td>\n",
       "      <td>321.160004</td>\n",
       "      <td>146322800</td>\n",
       "      <td>77709700</td>\n",
       "    </tr>\n",
       "    <tr>\n",
       "      <th>2020-01-06</th>\n",
       "      <td>73.650795</td>\n",
       "      <td>312.556610</td>\n",
       "      <td>74.949997</td>\n",
       "      <td>323.640015</td>\n",
       "      <td>74.989998</td>\n",
       "      <td>323.730011</td>\n",
       "      <td>73.187500</td>\n",
       "      <td>320.359985</td>\n",
       "      <td>73.447502</td>\n",
       "      <td>320.489990</td>\n",
       "      <td>118387200</td>\n",
       "      <td>55653900</td>\n",
       "    </tr>\n",
       "    <tr>\n",
       "      <th>2020-01-07</th>\n",
       "      <td>73.304413</td>\n",
       "      <td>311.677826</td>\n",
       "      <td>74.597504</td>\n",
       "      <td>322.730011</td>\n",
       "      <td>75.224998</td>\n",
       "      <td>323.540009</td>\n",
       "      <td>74.370003</td>\n",
       "      <td>322.239990</td>\n",
       "      <td>74.959999</td>\n",
       "      <td>323.019989</td>\n",
       "      <td>108872000</td>\n",
       "      <td>40496400</td>\n",
       "    </tr>\n",
       "    <tr>\n",
       "      <th>...</th>\n",
       "      <td>...</td>\n",
       "      <td>...</td>\n",
       "      <td>...</td>\n",
       "      <td>...</td>\n",
       "      <td>...</td>\n",
       "      <td>...</td>\n",
       "      <td>...</td>\n",
       "      <td>...</td>\n",
       "      <td>...</td>\n",
       "      <td>...</td>\n",
       "      <td>...</td>\n",
       "      <td>...</td>\n",
       "    </tr>\n",
       "    <tr>\n",
       "      <th>2021-09-23</th>\n",
       "      <td>146.214645</td>\n",
       "      <td>440.260712</td>\n",
       "      <td>146.830002</td>\n",
       "      <td>443.179993</td>\n",
       "      <td>147.080002</td>\n",
       "      <td>444.890015</td>\n",
       "      <td>145.639999</td>\n",
       "      <td>439.600006</td>\n",
       "      <td>146.649994</td>\n",
       "      <td>439.850006</td>\n",
       "      <td>64838200</td>\n",
       "      <td>76396000</td>\n",
       "    </tr>\n",
       "    <tr>\n",
       "      <th>2021-09-24</th>\n",
       "      <td>146.304260</td>\n",
       "      <td>440.985931</td>\n",
       "      <td>146.919998</td>\n",
       "      <td>443.910004</td>\n",
       "      <td>147.470001</td>\n",
       "      <td>444.670013</td>\n",
       "      <td>145.559998</td>\n",
       "      <td>441.209991</td>\n",
       "      <td>145.660004</td>\n",
       "      <td>441.440002</td>\n",
       "      <td>53477900</td>\n",
       "      <td>62094800</td>\n",
       "    </tr>\n",
       "    <tr>\n",
       "      <th>2021-09-27</th>\n",
       "      <td>144.760742</td>\n",
       "      <td>439.724304</td>\n",
       "      <td>145.369995</td>\n",
       "      <td>442.640015</td>\n",
       "      <td>145.960007</td>\n",
       "      <td>444.049988</td>\n",
       "      <td>143.820007</td>\n",
       "      <td>441.899994</td>\n",
       "      <td>145.470001</td>\n",
       "      <td>442.809998</td>\n",
       "      <td>74150700</td>\n",
       "      <td>61371100</td>\n",
       "    </tr>\n",
       "    <tr>\n",
       "      <th>2021-09-28</th>\n",
       "      <td>141.315262</td>\n",
       "      <td>430.863037</td>\n",
       "      <td>141.910004</td>\n",
       "      <td>433.720001</td>\n",
       "      <td>144.750000</td>\n",
       "      <td>440.040009</td>\n",
       "      <td>141.690002</td>\n",
       "      <td>432.940002</td>\n",
       "      <td>143.250000</td>\n",
       "      <td>439.690002</td>\n",
       "      <td>108972300</td>\n",
       "      <td>130436300</td>\n",
       "    </tr>\n",
       "    <tr>\n",
       "      <th>2021-09-29</th>\n",
       "      <td>142.231400</td>\n",
       "      <td>431.588226</td>\n",
       "      <td>142.830002</td>\n",
       "      <td>434.450012</td>\n",
       "      <td>144.449997</td>\n",
       "      <td>437.040009</td>\n",
       "      <td>142.029999</td>\n",
       "      <td>433.850006</td>\n",
       "      <td>142.470001</td>\n",
       "      <td>435.190002</td>\n",
       "      <td>74602000</td>\n",
       "      <td>82329200</td>\n",
       "    </tr>\n",
       "  </tbody>\n",
       "</table>\n",
       "<p>441 rows × 12 columns</p>\n",
       "</div>"
      ],
      "text/plain": [
       "             Adj Close                   Close                    High  \\\n",
       "                  AAPL         SPY        AAPL         SPY        AAPL   \n",
       "Date                                                                     \n",
       "2019-12-31   72.139954  310.837585   73.412498  321.859985   73.419998   \n",
       "2020-01-02   73.785912  313.744537   75.087502  324.869995   75.150002   \n",
       "2020-01-03   73.068573  311.368744   74.357498  322.410004   75.144997   \n",
       "2020-01-06   73.650795  312.556610   74.949997  323.640015   74.989998   \n",
       "2020-01-07   73.304413  311.677826   74.597504  322.730011   75.224998   \n",
       "...                ...         ...         ...         ...         ...   \n",
       "2021-09-23  146.214645  440.260712  146.830002  443.179993  147.080002   \n",
       "2021-09-24  146.304260  440.985931  146.919998  443.910004  147.470001   \n",
       "2021-09-27  144.760742  439.724304  145.369995  442.640015  145.960007   \n",
       "2021-09-28  141.315262  430.863037  141.910004  433.720001  144.750000   \n",
       "2021-09-29  142.231400  431.588226  142.830002  434.450012  144.449997   \n",
       "\n",
       "                               Low                    Open              \\\n",
       "                   SPY        AAPL         SPY        AAPL         SPY   \n",
       "Date                                                                     \n",
       "2019-12-31  322.130005   72.379997  320.149994   72.482498  320.529999   \n",
       "2020-01-02  324.890015   73.797501  322.529999   74.059998  323.540009   \n",
       "2020-01-03  323.640015   74.125000  321.100006   74.287498  321.160004   \n",
       "2020-01-06  323.730011   73.187500  320.359985   73.447502  320.489990   \n",
       "2020-01-07  323.540009   74.370003  322.239990   74.959999  323.019989   \n",
       "...                ...         ...         ...         ...         ...   \n",
       "2021-09-23  444.890015  145.639999  439.600006  146.649994  439.850006   \n",
       "2021-09-24  444.670013  145.559998  441.209991  145.660004  441.440002   \n",
       "2021-09-27  444.049988  143.820007  441.899994  145.470001  442.809998   \n",
       "2021-09-28  440.040009  141.690002  432.940002  143.250000  439.690002   \n",
       "2021-09-29  437.040009  142.029999  433.850006  142.470001  435.190002   \n",
       "\n",
       "               Volume             \n",
       "                 AAPL        SPY  \n",
       "Date                              \n",
       "2019-12-31  100805600   57077300  \n",
       "2020-01-02  135480400   59151200  \n",
       "2020-01-03  146322800   77709700  \n",
       "2020-01-06  118387200   55653900  \n",
       "2020-01-07  108872000   40496400  \n",
       "...               ...        ...  \n",
       "2021-09-23   64838200   76396000  \n",
       "2021-09-24   53477900   62094800  \n",
       "2021-09-27   74150700   61371100  \n",
       "2021-09-28  108972300  130436300  \n",
       "2021-09-29   74602000   82329200  \n",
       "\n",
       "[441 rows x 12 columns]"
      ]
     },
     "execution_count": 5,
     "metadata": {},
     "output_type": "execute_result"
    }
   ],
   "source": [
    "data"
   ]
  },
  {
   "cell_type": "code",
   "execution_count": 6,
   "metadata": {},
   "outputs": [
    {
     "data": {
      "text/html": [
       "<div>\n",
       "<style scoped>\n",
       "    .dataframe tbody tr th:only-of-type {\n",
       "        vertical-align: middle;\n",
       "    }\n",
       "\n",
       "    .dataframe tbody tr th {\n",
       "        vertical-align: top;\n",
       "    }\n",
       "\n",
       "    .dataframe thead th {\n",
       "        text-align: right;\n",
       "    }\n",
       "</style>\n",
       "<table border=\"1\" class=\"dataframe\">\n",
       "  <thead>\n",
       "    <tr style=\"text-align: right;\">\n",
       "      <th></th>\n",
       "      <th>AAPL</th>\n",
       "      <th>SPY</th>\n",
       "    </tr>\n",
       "    <tr>\n",
       "      <th>Date</th>\n",
       "      <th></th>\n",
       "      <th></th>\n",
       "    </tr>\n",
       "  </thead>\n",
       "  <tbody>\n",
       "    <tr>\n",
       "      <th>2019-12-31</th>\n",
       "      <td>73.412498</td>\n",
       "      <td>321.859985</td>\n",
       "    </tr>\n",
       "    <tr>\n",
       "      <th>2020-01-02</th>\n",
       "      <td>75.087502</td>\n",
       "      <td>324.869995</td>\n",
       "    </tr>\n",
       "    <tr>\n",
       "      <th>2020-01-03</th>\n",
       "      <td>74.357498</td>\n",
       "      <td>322.410004</td>\n",
       "    </tr>\n",
       "    <tr>\n",
       "      <th>2020-01-06</th>\n",
       "      <td>74.949997</td>\n",
       "      <td>323.640015</td>\n",
       "    </tr>\n",
       "    <tr>\n",
       "      <th>2020-01-07</th>\n",
       "      <td>74.597504</td>\n",
       "      <td>322.730011</td>\n",
       "    </tr>\n",
       "    <tr>\n",
       "      <th>...</th>\n",
       "      <td>...</td>\n",
       "      <td>...</td>\n",
       "    </tr>\n",
       "    <tr>\n",
       "      <th>2021-09-23</th>\n",
       "      <td>146.830002</td>\n",
       "      <td>443.179993</td>\n",
       "    </tr>\n",
       "    <tr>\n",
       "      <th>2021-09-24</th>\n",
       "      <td>146.919998</td>\n",
       "      <td>443.910004</td>\n",
       "    </tr>\n",
       "    <tr>\n",
       "      <th>2021-09-27</th>\n",
       "      <td>145.369995</td>\n",
       "      <td>442.640015</td>\n",
       "    </tr>\n",
       "    <tr>\n",
       "      <th>2021-09-28</th>\n",
       "      <td>141.910004</td>\n",
       "      <td>433.720001</td>\n",
       "    </tr>\n",
       "    <tr>\n",
       "      <th>2021-09-29</th>\n",
       "      <td>142.830002</td>\n",
       "      <td>434.450012</td>\n",
       "    </tr>\n",
       "  </tbody>\n",
       "</table>\n",
       "<p>441 rows × 2 columns</p>\n",
       "</div>"
      ],
      "text/plain": [
       "                  AAPL         SPY\n",
       "Date                              \n",
       "2019-12-31   73.412498  321.859985\n",
       "2020-01-02   75.087502  324.869995\n",
       "2020-01-03   74.357498  322.410004\n",
       "2020-01-06   74.949997  323.640015\n",
       "2020-01-07   74.597504  322.730011\n",
       "...                ...         ...\n",
       "2021-09-23  146.830002  443.179993\n",
       "2021-09-24  146.919998  443.910004\n",
       "2021-09-27  145.369995  442.640015\n",
       "2021-09-28  141.910004  433.720001\n",
       "2021-09-29  142.830002  434.450012\n",
       "\n",
       "[441 rows x 2 columns]"
      ]
     },
     "execution_count": 6,
     "metadata": {},
     "output_type": "execute_result"
    }
   ],
   "source": [
    "df"
   ]
  },
  {
   "cell_type": "code",
   "execution_count": 8,
   "metadata": {},
   "outputs": [
    {
     "data": {
      "text/plain": [
       "<AxesSubplot:xlabel='Date'>"
      ]
     },
     "execution_count": 8,
     "metadata": {},
     "output_type": "execute_result"
    },
    {
     "data": {
      "image/png": "[encoded data removed]",
      "text/plain": [
       "<Figure size 432x288 with 1 Axes>"
      ]
     },
     "metadata": {
      "needs_background": "light"
     },
     "output_type": "display_data"
    }
   ],
   "source": [
    "df.plot()"
   ]
  },
  {
   "cell_type": "code",
   "execution_count": 7,
   "metadata": {},
   "outputs": [
    {
     "data": {
      "text/plain": [
       "<AxesSubplot:xlabel='Date'>"
      ]
     },
     "execution_count": 7,
     "metadata": {},
     "output_type": "execute_result"
    },
    {
     "data": {
      "image/png": "[encoded data removed]",
      "text/plain": [
       "<Figure size 432x288 with 1 Axes>"
      ]
     },
     "metadata": {
      "needs_background": "light"
     },
     "output_type": "display_data"
    }
   ],
   "source": [
    "df.pct_change(1).plot()"
   ]
  },
  {
   "cell_type": "code",
   "execution_count": 11,
   "metadata": {},
   "outputs": [],
   "source": [
    "df_ret = df.pct_change(1)"
   ]
  },
  {
   "cell_type": "code",
   "execution_count": 12,
   "metadata": {},
   "outputs": [
    {
     "data": {
      "text/html": [
       "<div>\n",
       "<style scoped>\n",
       "    .dataframe tbody tr th:only-of-type {\n",
       "        vertical-align: middle;\n",
       "    }\n",
       "\n",
       "    .dataframe tbody tr th {\n",
       "        vertical-align: top;\n",
       "    }\n",
       "\n",
       "    .dataframe thead th {\n",
       "        text-align: right;\n",
       "    }\n",
       "</style>\n",
       "<table border=\"1\" class=\"dataframe\">\n",
       "  <thead>\n",
       "    <tr style=\"text-align: right;\">\n",
       "      <th></th>\n",
       "      <th>AAPL</th>\n",
       "      <th>SPY</th>\n",
       "    </tr>\n",
       "    <tr>\n",
       "      <th>Date</th>\n",
       "      <th></th>\n",
       "      <th></th>\n",
       "    </tr>\n",
       "  </thead>\n",
       "  <tbody>\n",
       "    <tr>\n",
       "      <th>2019-12-31</th>\n",
       "      <td>NaN</td>\n",
       "      <td>NaN</td>\n",
       "    </tr>\n",
       "    <tr>\n",
       "      <th>2020-01-02</th>\n",
       "      <td>0.022816</td>\n",
       "      <td>0.009352</td>\n",
       "    </tr>\n",
       "    <tr>\n",
       "      <th>2020-01-03</th>\n",
       "      <td>-0.009722</td>\n",
       "      <td>-0.007572</td>\n",
       "    </tr>\n",
       "    <tr>\n",
       "      <th>2020-01-06</th>\n",
       "      <td>0.007968</td>\n",
       "      <td>0.003815</td>\n",
       "    </tr>\n",
       "    <tr>\n",
       "      <th>2020-01-07</th>\n",
       "      <td>-0.004703</td>\n",
       "      <td>-0.002812</td>\n",
       "    </tr>\n",
       "    <tr>\n",
       "      <th>...</th>\n",
       "      <td>...</td>\n",
       "      <td>...</td>\n",
       "    </tr>\n",
       "    <tr>\n",
       "      <th>2021-09-23</th>\n",
       "      <td>0.006719</td>\n",
       "      <td>0.012150</td>\n",
       "    </tr>\n",
       "    <tr>\n",
       "      <th>2021-09-24</th>\n",
       "      <td>0.000613</td>\n",
       "      <td>0.001647</td>\n",
       "    </tr>\n",
       "    <tr>\n",
       "      <th>2021-09-27</th>\n",
       "      <td>-0.010550</td>\n",
       "      <td>-0.002861</td>\n",
       "    </tr>\n",
       "    <tr>\n",
       "      <th>2021-09-28</th>\n",
       "      <td>-0.023801</td>\n",
       "      <td>-0.020152</td>\n",
       "    </tr>\n",
       "    <tr>\n",
       "      <th>2021-09-29</th>\n",
       "      <td>0.006483</td>\n",
       "      <td>0.001683</td>\n",
       "    </tr>\n",
       "  </tbody>\n",
       "</table>\n",
       "<p>441 rows × 2 columns</p>\n",
       "</div>"
      ],
      "text/plain": [
       "                AAPL       SPY\n",
       "Date                          \n",
       "2019-12-31       NaN       NaN\n",
       "2020-01-02  0.022816  0.009352\n",
       "2020-01-03 -0.009722 -0.007572\n",
       "2020-01-06  0.007968  0.003815\n",
       "2020-01-07 -0.004703 -0.002812\n",
       "...              ...       ...\n",
       "2021-09-23  0.006719  0.012150\n",
       "2021-09-24  0.000613  0.001647\n",
       "2021-09-27 -0.010550 -0.002861\n",
       "2021-09-28 -0.023801 -0.020152\n",
       "2021-09-29  0.006483  0.001683\n",
       "\n",
       "[441 rows x 2 columns]"
      ]
     },
     "execution_count": 12,
     "metadata": {},
     "output_type": "execute_result"
    }
   ],
   "source": [
    "df_ret"
   ]
  },
  {
   "cell_type": "code",
   "execution_count": 14,
   "metadata": {},
   "outputs": [
    {
     "data": {
      "text/plain": [
       "<AxesSubplot:xlabel='SPY', ylabel='AAPL'>"
      ]
     },
     "execution_count": 14,
     "metadata": {},
     "output_type": "execute_result"
    },
    {
     "data": {
      "image/png": "[encoded data removed]",
      "text/plain": [
       "<Figure size 432x288 with 1 Axes>"
      ]
     },
     "metadata": {
      "needs_background": "light"
     },
     "output_type": "display_data"
    }
   ],
   "source": [
    "df_ret.plot.scatter(x=\"SPY\", y=\"AAPL\")"
   ]
  },
  {
   "cell_type": "code",
   "execution_count": 15,
   "metadata": {},
   "outputs": [
    {
     "data": {
      "text/plain": [
       "<AxesSubplot:xlabel='SPY', ylabel='AAPL'>"
      ]
     },
     "execution_count": 15,
     "metadata": {},
     "output_type": "execute_result"
    },
    {
     "data": {
      "image/png": "[encoded data removed]",
      "text/plain": [
       "<Figure size 432x288 with 1 Axes>"
      ]
     },
     "metadata": {
      "needs_background": "light"
     },
     "output_type": "display_data"
    }
   ],
   "source": [
    "df.pct_change(1).plot.scatter(x=\"SPY\", y=\"AAPL\")"
   ]
  },
  {
   "cell_type": "code",
   "execution_count": 16,
   "metadata": {},
   "outputs": [
    {
     "data": {
      "text/plain": [
       "<AxesSubplot:xlabel='SPY', ylabel='AAPL'>"
      ]
     },
     "execution_count": 16,
     "metadata": {},
     "output_type": "execute_result"
    },
    {
     "data": {
      "image/png": "[encoded data removed]",
      "text/plain": [
       "<Figure size 432x288 with 1 Axes>"
      ]
     },
     "metadata": {
      "needs_background": "light"
     },
     "output_type": "display_data"
    }
   ],
   "source": [
    "df.pct_change(7).plot.scatter(x=\"SPY\", y=\"AAPL\")"
   ]
  },
  {
   "cell_type": "markdown",
   "metadata": {},
   "source": [
    "### <B> OLS (Ordinary Least Squares) Based <B>\n",
    "^β = (XTX)−1XTy"
   ]
  },
  {
   "cell_type": "code",
   "execution_count": 17,
   "metadata": {},
   "outputs": [],
   "source": [
    "x = df_ret.SPY\n",
    "y = df_ret.AAPL"
   ]
  },
  {
   "cell_type": "code",
   "execution_count": 18,
   "metadata": {},
   "outputs": [],
   "source": [
    "x = x.dropna()\n",
    "y = y.dropna()"
   ]
  },
  {
   "cell_type": "code",
   "execution_count": 20,
   "metadata": {},
   "outputs": [
    {
     "data": {
      "text/plain": [
       "Date\n",
       "2020-01-02    0.009352\n",
       "2020-01-03   -0.007572\n",
       "2020-01-06    0.003815\n",
       "2020-01-07   -0.002812\n",
       "2020-01-08    0.005330\n",
       "                ...   \n",
       "2021-09-23    0.012150\n",
       "2021-09-24    0.001647\n",
       "2021-09-27   -0.002861\n",
       "2021-09-28   -0.020152\n",
       "2021-09-29    0.001683\n",
       "Name: SPY, Length: 440, dtype: float64"
      ]
     },
     "execution_count": 20,
     "metadata": {},
     "output_type": "execute_result"
    }
   ],
   "source": [
    "x"
   ]
  },
  {
   "cell_type": "code",
   "execution_count": 21,
   "metadata": {},
   "outputs": [
    {
     "data": {
      "text/plain": [
       "pandas.core.series.Series"
      ]
     },
     "execution_count": 21,
     "metadata": {},
     "output_type": "execute_result"
    }
   ],
   "source": [
    "type(x)"
   ]
  },
  {
   "cell_type": "code",
   "execution_count": 22,
   "metadata": {},
   "outputs": [],
   "source": [
    "m,c = np.polyfit(x,y,1)"
   ]
  },
  {
   "cell_type": "code",
   "execution_count": 23,
   "metadata": {},
   "outputs": [
    {
     "data": {
      "text/plain": [
       "1.1789066817783902"
      ]
     },
     "execution_count": 23,
     "metadata": {},
     "output_type": "execute_result"
    }
   ],
   "source": [
    "m # slope"
   ]
  },
  {
   "cell_type": "code",
   "execution_count": 25,
   "metadata": {},
   "outputs": [
    {
     "data": {
      "text/plain": [
       "0.0008443130008306685"
      ]
     },
     "execution_count": 25,
     "metadata": {},
     "output_type": "execute_result"
    }
   ],
   "source": [
    "c # intercept"
   ]
  },
  {
   "cell_type": "code",
   "execution_count": 26,
   "metadata": {},
   "outputs": [],
   "source": [
    "import matplotlib.pyplot as plt"
   ]
  },
  {
   "cell_type": "code",
   "execution_count": 27,
   "metadata": {},
   "outputs": [
    {
     "data": {
      "text/plain": [
       "[<matplotlib.lines.Line2D at 0x194ef59f220>]"
      ]
     },
     "execution_count": 27,
     "metadata": {},
     "output_type": "execute_result"
    },
    {
     "data": {
      "image/png": "[encoded data removed]",
      "text/plain": [
       "<Figure size 432x288 with 1 Axes>"
      ]
     },
     "metadata": {
      "needs_background": "light"
     },
     "output_type": "display_data"
    }
   ],
   "source": [
    "plt.plot(x, y, 'o')"
   ]
  },
  {
   "cell_type": "code",
   "execution_count": 28,
   "metadata": {},
   "outputs": [
    {
     "data": {
      "text/plain": [
       "[<matplotlib.lines.Line2D at 0x194ef606310>]"
      ]
     },
     "execution_count": 28,
     "metadata": {},
     "output_type": "execute_result"
    },
    {
     "data": {
      "image/png": "[encoded data removed]",
      "text/plain": [
       "<Figure size 432x288 with 1 Axes>"
      ]
     },
     "metadata": {
      "needs_background": "light"
     },
     "output_type": "display_data"
    }
   ],
   "source": [
    "plt.plot(x, y)"
   ]
  },
  {
   "cell_type": "code",
   "execution_count": 31,
   "metadata": {},
   "outputs": [
    {
     "data": {
      "text/plain": [
       "[<matplotlib.lines.Line2D at 0x194ef73adc0>]"
      ]
     },
     "execution_count": 31,
     "metadata": {},
     "output_type": "execute_result"
    },
    {
     "data": {
      "image/png": "[encoded data removed]",
      "text/plain": [
       "<Figure size 432x288 with 1 Axes>"
      ]
     },
     "metadata": {
      "needs_background": "light"
     },
     "output_type": "display_data"
    }
   ],
   "source": [
    "plt.plot(x, y, \"o\")\n",
    "plt.plot(x, m*x+c)"
   ]
  },
  {
   "cell_type": "code",
   "execution_count": 33,
   "metadata": {},
   "outputs": [
    {
     "data": {
      "text/plain": [
       "Date\n",
       "2020-01-02    0.009352\n",
       "2020-01-03   -0.007572\n",
       "2020-01-06    0.003815\n",
       "2020-01-07   -0.002812\n",
       "2020-01-08    0.005330\n",
       "                ...   \n",
       "2021-09-23    0.012150\n",
       "2021-09-24    0.001647\n",
       "2021-09-27   -0.002861\n",
       "2021-09-28   -0.020152\n",
       "2021-09-29    0.001683\n",
       "Name: SPY, Length: 440, dtype: float64"
      ]
     },
     "execution_count": 33,
     "metadata": {},
     "output_type": "execute_result"
    }
   ],
   "source": [
    "x"
   ]
  },
  {
   "cell_type": "code",
   "execution_count": 34,
   "metadata": {},
   "outputs": [
    {
     "data": {
      "text/plain": [
       "array([ 9.35192289e-03, -7.57223348e-03,  3.81505218e-03, -2.81177735e-03,\n",
       "        5.32953603e-03,  6.78064912e-03, -2.87770537e-03,  6.87734737e-03,\n",
       "       -1.52462260e-03,  2.25985710e-03,  8.31838559e-03,  3.11253094e-03,\n",
       "       -1.95819970e-03,  1.20762289e-04,  1.14687296e-03, -8.89307909e-03,\n",
       "       -1.60294102e-02,  1.04791797e-02, -8.26025633e-04,  3.24535416e-03,\n",
       "       -1.81579035e-02,  7.42853961e-03,  1.52412764e-02,  1.15480089e-02,\n",
       "        3.36485515e-03, -5.32965663e-03,  7.46532323e-03,  1.73304979e-03,\n",
       "        6.44277158e-03, -1.06696655e-03,  1.60211401e-03, -2.57699971e-03,\n",
       "        4.78123511e-03, -4.10824657e-03, -1.02982671e-02, -3.31653988e-02,\n",
       "       -3.03021498e-02, -3.67821500e-03, -4.49116861e-02, -4.20153931e-03,\n",
       "        4.33065083e-02, -2.86324572e-02,  4.20330253e-02, -3.32416876e-02,\n",
       "       -1.65311120e-02, -7.80944703e-02,  5.17448925e-02, -4.87484482e-02,\n",
       "       -9.56771619e-02,  8.54863031e-02, -1.09423735e-01,  5.39920643e-02,\n",
       "       -5.06329229e-02,  2.12497711e-03, -4.86881698e-02, -2.55682082e-02,\n",
       "        9.06032618e-02,  1.49701809e-02,  5.83898023e-02, -2.97856573e-02,\n",
       "        3.24757154e-02, -1.49053850e-02, -4.50048733e-02,  2.30753934e-02,\n",
       "       -1.44541928e-02,  6.71662144e-02,  1.01948028e-03,  3.35684145e-02,\n",
       "        1.52173610e-02, -9.13015253e-03,  2.94928708e-02, -2.12481011e-02,\n",
       "        4.82429540e-03,  2.70154367e-02, -1.76179809e-02, -3.03632512e-02,\n",
       "        2.21945406e-02, -7.17288814e-05,  1.39387087e-02,  1.44184421e-02,\n",
       "       -4.59842140e-03,  2.61784908e-02, -9.31066658e-03, -2.64734307e-02,\n",
       "        2.75822609e-03,  9.23932380e-03, -6.77872192e-03,  1.20668168e-02,\n",
       "        1.65461968e-02,  2.05161941e-04, -1.99315780e-02, -1.76858656e-02,\n",
       "        1.19673119e-02,  4.59696653e-03,  3.04596942e-02, -1.02711823e-02,\n",
       "        1.69880174e-02, -6.90394316e-03,  1.89906928e-03,  1.23205527e-02,\n",
       "        1.48790036e-02, -1.84494963e-03,  4.45590685e-03,  4.04173383e-03,\n",
       "        8.28014688e-03,  1.33082520e-02, -2.62671325e-03,  2.56295329e-02,\n",
       "        1.20874802e-02, -7.45669422e-03, -5.58000093e-03, -5.76489487e-02,\n",
       "        1.19756704e-02,  9.33564451e-03,  1.92476922e-02, -4.15384659e-03,\n",
       "        3.85019302e-04, -1.00711532e-02,  6.41517747e-03,  4.60367233e-03,\n",
       "       -2.55087062e-02,  1.07205426e-02, -2.37514826e-02,  1.46975632e-02,\n",
       "        1.28095448e-02,  7.00481179e-03,  5.50696262e-03,  1.54372630e-02,\n",
       "       -1.03137964e-02,  7.64865162e-03, -5.69292123e-03,  1.02105459e-02,\n",
       "       -8.65896291e-03,  1.29590177e-02,  9.18723364e-03, -3.29345204e-03,\n",
       "        2.89906996e-03,  8.08158055e-03,  2.12753585e-03,  5.69205726e-03,\n",
       "       -1.19316957e-02, -6.44038465e-03,  7.29243425e-03, -6.34239151e-03,\n",
       "        1.22987251e-02, -3.56792470e-03,  7.90220282e-03,  6.95216099e-03,\n",
       "        3.86261438e-03,  6.21095500e-03,  6.68453620e-03,  7.17915717e-04,\n",
       "        2.98891107e-03, -8.25466958e-03,  1.39423522e-02, -1.80777580e-03,\n",
       "        2.97175609e-05,  3.17660413e-03,  2.16037104e-03, -4.16372431e-03,\n",
       "        3.11356569e-03,  3.54739332e-03,  1.01331517e-02,  3.49930492e-03,\n",
       "        1.00256081e-02,  2.18655014e-03,  6.45939220e-03, -3.62253712e-03,\n",
       "        9.41859256e-03,  1.44639989e-02, -3.44143057e-02, -8.16470426e-03,\n",
       "       -2.73229287e-02,  1.97473583e-02, -1.73636474e-02,  5.09098514e-04,\n",
       "        1.31712684e-02,  5.05236074e-03, -3.96862172e-03, -8.79526274e-03,\n",
       "       -1.54537950e-02, -1.11295713e-02,  1.01843795e-02, -2.31909580e-02,\n",
       "        2.66546402e-03,  1.61669582e-02,  1.66093489e-02, -5.44602565e-03,\n",
       "        7.58197060e-03,  6.42000001e-03, -9.49445800e-03,  1.77330862e-02,\n",
       "       -1.42159670e-02,  1.74066737e-02,  8.86251006e-03,  8.93015107e-03,\n",
       "        1.60876070e-02, -6.52608416e-03, -6.28341524e-03, -1.23585976e-03,\n",
       "       -6.04291957e-04, -1.52034284e-02,  4.00571644e-03, -1.89292879e-03,\n",
       "        5.48529252e-03,  3.39518144e-03, -1.84799125e-02, -3.44740086e-03,\n",
       "       -3.41789294e-02,  1.01634950e-02, -1.04248813e-02,  1.12084387e-02,\n",
       "        1.76559248e-02,  2.23492242e-02,  1.95027698e-02, -2.28376469e-04,\n",
       "        1.25656667e-02, -1.46657552e-03,  7.42855276e-03, -9.70090516e-03,\n",
       "        1.38444969e-02,  1.24825500e-02, -5.37830534e-03, -1.20348189e-02,\n",
       "        4.21017179e-03, -6.84781770e-03,  5.99444168e-03,  1.61137187e-02,\n",
       "       -1.54175859e-03,  2.78500456e-03, -4.42713397e-03,  1.09373902e-02,\n",
       "        2.10376360e-03, -2.72652202e-04,  8.61764335e-03, -2.05491349e-03,\n",
       "        2.92616191e-03, -8.96887161e-03, -3.27095857e-04, -1.17258795e-03,\n",
       "       -4.47716130e-03,  1.35194225e-02,  1.56935278e-03,  5.59196243e-03,\n",
       "       -8.22049656e-03, -3.57551154e-03, -1.68541060e-03,  8.98641484e-04,\n",
       "        3.89039543e-03,  8.59082230e-03, -1.90778931e-03,  1.42679909e-03,\n",
       "        5.08082125e-03, -1.36139838e-02,  6.88732875e-03,  5.97851318e-03,\n",
       "        1.48574983e-02,  5.69771466e-03, -6.74082584e-03,  2.11219128e-04,\n",
       "        2.69297875e-03, -3.50198020e-03, -7.29265790e-03,  7.85196059e-03,\n",
       "        1.38386923e-02,  9.11655872e-04, -3.53941647e-03,  3.94381986e-03,\n",
       "       -1.56093051e-03, -2.44404614e-02,  8.60020082e-03, -2.00195892e-02,\n",
       "        1.66455091e-02,  1.41402245e-02,  7.86314559e-04,  1.13657098e-02,\n",
       "        3.93585801e-03,  7.22194004e-03, -6.65821001e-04, -4.35652601e-04,\n",
       "        1.61506590e-03,  4.93978459e-03, -8.66001535e-04,  2.29484727e-04,\n",
       "       -4.25600389e-03, -1.76597676e-03, -7.69171605e-03,  1.21437930e-03,\n",
       "        1.10193265e-02, -2.40957774e-02, -5.15262022e-03,  2.42401976e-02,\n",
       "       -7.80321919e-03, -1.32457055e-02, -1.23748127e-02,  1.83965820e-02,\n",
       "       -4.97876505e-03,  1.42775128e-02,  6.22458626e-03,  1.01391559e-02,\n",
       "        1.34678114e-03,  5.96357437e-03, -1.26132034e-03,  3.40988126e-03,\n",
       "       -1.45496618e-02, -5.10881768e-03,  7.98496781e-03, -7.87079744e-03,\n",
       "       -5.08346851e-03,  5.62557611e-03,  1.61149566e-02, -5.05106827e-04,\n",
       "       -2.65295820e-03,  4.05334163e-03,  1.07990789e-02,  1.43531120e-02,\n",
       "       -5.90585301e-04,  1.15729643e-03,  4.74677856e-03,  7.27014908e-03,\n",
       "        3.64588247e-04,  2.96368346e-03, -3.41513635e-03,  1.07424542e-02,\n",
       "        3.34242591e-03, -4.91304765e-03, -7.32154353e-03,  9.46210003e-03,\n",
       "       -9.13312242e-03,  1.08424124e-02,  2.08762091e-03, -2.15503319e-04,\n",
       "       -2.87399694e-04,  6.37279277e-03, -6.57051322e-03,  2.15678035e-03,\n",
       "       -6.16933767e-03,  3.12797470e-04,  7.98558587e-03,  7.27799112e-03,\n",
       "       -9.90238019e-03, -8.92475227e-03, -2.12452330e-02,  1.20125184e-02,\n",
       "        1.53553374e-02, -2.54452348e-03, -8.61567835e-03, -2.62178250e-03,\n",
       "        1.07579555e-02, -8.18715900e-04,  1.01942714e-02, -2.21872549e-03,\n",
       "        1.98454741e-03,  5.24974865e-04,  1.78873807e-03, -8.80856846e-04,\n",
       "        1.57260019e-03, -3.71136395e-03,  9.14587289e-03, -9.70193223e-04,\n",
       "        2.13165488e-04, -1.49191268e-03,  4.64838488e-03,  1.65249222e-03,\n",
       "        2.23895787e-03, -1.83416912e-03, -5.58336217e-03, -3.31629518e-04,\n",
       "       -1.67073199e-02,  1.43159446e-02,  5.34619607e-03, -1.20531130e-03,\n",
       "        5.91575950e-03,  3.55205652e-03,  2.01593000e-03,  5.38075153e-04,\n",
       "        8.41677207e-04,  5.53659564e-03,  7.64353925e-03, -1.82147132e-03,\n",
       "        3.53405586e-03, -8.14799544e-03,  1.06747782e-02,  3.58191954e-03,\n",
       "       -3.40896468e-03,  1.49221493e-03, -3.41552876e-03, -7.84359669e-03,\n",
       "       -1.47679213e-02,  1.43304147e-02,  8.09629809e-03,  2.09412884e-03,\n",
       "        1.02879968e-02,  2.45484968e-03, -4.55756949e-03, -4.10066261e-04,\n",
       "        4.14740875e-03, -4.85642610e-03, -2.09804430e-03,  8.13546376e-03,\n",
       "       -4.91892313e-03,  6.33285961e-03,  1.65243674e-03, -8.13544621e-04,\n",
       "        1.24395039e-03,  2.48487874e-03,  2.99695024e-03,  1.81983802e-03,\n",
       "        2.35465501e-03, -6.55523339e-03, -1.09449954e-02,  1.54832344e-03,\n",
       "        7.95707752e-03,  8.79651873e-03,  1.58742441e-03,  2.09836024e-03,\n",
       "       -5.90317408e-03,  8.94095403e-03,  4.39758131e-03, -1.48157666e-03,\n",
       "        5.31469208e-04,  3.07661506e-03, -2.42758818e-04, -3.57551683e-03,\n",
       "       -1.21824260e-03, -4.28021703e-03, -7.88455713e-03,  2.55923160e-03,\n",
       "       -5.39650951e-03,  8.35263828e-03, -1.58522695e-03, -1.29034134e-02,\n",
       "       -1.66741854e-02, -9.44621818e-04,  9.75481498e-03,  1.21500194e-02,\n",
       "        1.64721106e-03, -2.86091551e-03, -2.01518460e-02,  1.68313886e-03])"
      ]
     },
     "execution_count": 34,
     "metadata": {},
     "output_type": "execute_result"
    }
   ],
   "source": [
    "x.values"
   ]
  },
  {
   "cell_type": "code",
   "execution_count": 35,
   "metadata": {},
   "outputs": [
    {
     "data": {
      "text/plain": [
       "numpy.ndarray"
      ]
     },
     "execution_count": 35,
     "metadata": {},
     "output_type": "execute_result"
    }
   ],
   "source": [
    "type(x.values)"
   ]
  },
  {
   "cell_type": "code",
   "execution_count": 36,
   "metadata": {},
   "outputs": [
    {
     "data": {
      "text/plain": [
       "array([ 9.35192289e-03, -7.57223348e-03,  3.81505218e-03, -2.81177735e-03,\n",
       "        5.32953603e-03,  6.78064912e-03, -2.87770537e-03,  6.87734737e-03,\n",
       "       -1.52462260e-03,  2.25985710e-03,  8.31838559e-03,  3.11253094e-03,\n",
       "       -1.95819970e-03,  1.20762289e-04,  1.14687296e-03, -8.89307909e-03,\n",
       "       -1.60294102e-02,  1.04791797e-02, -8.26025633e-04,  3.24535416e-03,\n",
       "       -1.81579035e-02,  7.42853961e-03,  1.52412764e-02,  1.15480089e-02,\n",
       "        3.36485515e-03, -5.32965663e-03,  7.46532323e-03,  1.73304979e-03,\n",
       "        6.44277158e-03, -1.06696655e-03,  1.60211401e-03, -2.57699971e-03,\n",
       "        4.78123511e-03, -4.10824657e-03, -1.02982671e-02, -3.31653988e-02,\n",
       "       -3.03021498e-02, -3.67821500e-03, -4.49116861e-02, -4.20153931e-03,\n",
       "        4.33065083e-02, -2.86324572e-02,  4.20330253e-02, -3.32416876e-02,\n",
       "       -1.65311120e-02, -7.80944703e-02,  5.17448925e-02, -4.87484482e-02,\n",
       "       -9.56771619e-02,  8.54863031e-02, -1.09423735e-01,  5.39920643e-02,\n",
       "       -5.06329229e-02,  2.12497711e-03, -4.86881698e-02, -2.55682082e-02,\n",
       "        9.06032618e-02,  1.49701809e-02,  5.83898023e-02, -2.97856573e-02,\n",
       "        3.24757154e-02, -1.49053850e-02, -4.50048733e-02,  2.30753934e-02,\n",
       "       -1.44541928e-02,  6.71662144e-02,  1.01948028e-03,  3.35684145e-02,\n",
       "        1.52173610e-02, -9.13015253e-03,  2.94928708e-02, -2.12481011e-02,\n",
       "        4.82429540e-03,  2.70154367e-02, -1.76179809e-02, -3.03632512e-02,\n",
       "        2.21945406e-02, -7.17288814e-05,  1.39387087e-02,  1.44184421e-02,\n",
       "       -4.59842140e-03,  2.61784908e-02, -9.31066658e-03, -2.64734307e-02,\n",
       "        2.75822609e-03,  9.23932380e-03, -6.77872192e-03,  1.20668168e-02,\n",
       "        1.65461968e-02,  2.05161941e-04, -1.99315780e-02, -1.76858656e-02,\n",
       "        1.19673119e-02,  4.59696653e-03,  3.04596942e-02, -1.02711823e-02,\n",
       "        1.69880174e-02, -6.90394316e-03,  1.89906928e-03,  1.23205527e-02,\n",
       "        1.48790036e-02, -1.84494963e-03,  4.45590685e-03,  4.04173383e-03,\n",
       "        8.28014688e-03,  1.33082520e-02, -2.62671325e-03,  2.56295329e-02,\n",
       "        1.20874802e-02, -7.45669422e-03, -5.58000093e-03, -5.76489487e-02,\n",
       "        1.19756704e-02,  9.33564451e-03,  1.92476922e-02, -4.15384659e-03,\n",
       "        3.85019302e-04, -1.00711532e-02,  6.41517747e-03,  4.60367233e-03,\n",
       "       -2.55087062e-02,  1.07205426e-02, -2.37514826e-02,  1.46975632e-02,\n",
       "        1.28095448e-02,  7.00481179e-03,  5.50696262e-03,  1.54372630e-02,\n",
       "       -1.03137964e-02,  7.64865162e-03, -5.69292123e-03,  1.02105459e-02,\n",
       "       -8.65896291e-03,  1.29590177e-02,  9.18723364e-03, -3.29345204e-03,\n",
       "        2.89906996e-03,  8.08158055e-03,  2.12753585e-03,  5.69205726e-03,\n",
       "       -1.19316957e-02, -6.44038465e-03,  7.29243425e-03, -6.34239151e-03,\n",
       "        1.22987251e-02, -3.56792470e-03,  7.90220282e-03,  6.95216099e-03,\n",
       "        3.86261438e-03,  6.21095500e-03,  6.68453620e-03,  7.17915717e-04,\n",
       "        2.98891107e-03, -8.25466958e-03,  1.39423522e-02, -1.80777580e-03,\n",
       "        2.97175609e-05,  3.17660413e-03,  2.16037104e-03, -4.16372431e-03,\n",
       "        3.11356569e-03,  3.54739332e-03,  1.01331517e-02,  3.49930492e-03,\n",
       "        1.00256081e-02,  2.18655014e-03,  6.45939220e-03, -3.62253712e-03,\n",
       "        9.41859256e-03,  1.44639989e-02, -3.44143057e-02, -8.16470426e-03,\n",
       "       -2.73229287e-02,  1.97473583e-02, -1.73636474e-02,  5.09098514e-04,\n",
       "        1.31712684e-02,  5.05236074e-03, -3.96862172e-03, -8.79526274e-03,\n",
       "       -1.54537950e-02, -1.11295713e-02,  1.01843795e-02, -2.31909580e-02,\n",
       "        2.66546402e-03,  1.61669582e-02,  1.66093489e-02, -5.44602565e-03,\n",
       "        7.58197060e-03,  6.42000001e-03, -9.49445800e-03,  1.77330862e-02,\n",
       "       -1.42159670e-02,  1.74066737e-02,  8.86251006e-03,  8.93015107e-03,\n",
       "        1.60876070e-02, -6.52608416e-03, -6.28341524e-03, -1.23585976e-03,\n",
       "       -6.04291957e-04, -1.52034284e-02,  4.00571644e-03, -1.89292879e-03,\n",
       "        5.48529252e-03,  3.39518144e-03, -1.84799125e-02, -3.44740086e-03,\n",
       "       -3.41789294e-02,  1.01634950e-02, -1.04248813e-02,  1.12084387e-02,\n",
       "        1.76559248e-02,  2.23492242e-02,  1.95027698e-02, -2.28376469e-04,\n",
       "        1.25656667e-02, -1.46657552e-03,  7.42855276e-03, -9.70090516e-03,\n",
       "        1.38444969e-02,  1.24825500e-02, -5.37830534e-03, -1.20348189e-02,\n",
       "        4.21017179e-03, -6.84781770e-03,  5.99444168e-03,  1.61137187e-02,\n",
       "       -1.54175859e-03,  2.78500456e-03, -4.42713397e-03,  1.09373902e-02,\n",
       "        2.10376360e-03, -2.72652202e-04,  8.61764335e-03, -2.05491349e-03,\n",
       "        2.92616191e-03, -8.96887161e-03, -3.27095857e-04, -1.17258795e-03,\n",
       "       -4.47716130e-03,  1.35194225e-02,  1.56935278e-03,  5.59196243e-03,\n",
       "       -8.22049656e-03, -3.57551154e-03, -1.68541060e-03,  8.98641484e-04,\n",
       "        3.89039543e-03,  8.59082230e-03, -1.90778931e-03,  1.42679909e-03,\n",
       "        5.08082125e-03, -1.36139838e-02,  6.88732875e-03,  5.97851318e-03,\n",
       "        1.48574983e-02,  5.69771466e-03, -6.74082584e-03,  2.11219128e-04,\n",
       "        2.69297875e-03, -3.50198020e-03, -7.29265790e-03,  7.85196059e-03,\n",
       "        1.38386923e-02,  9.11655872e-04, -3.53941647e-03,  3.94381986e-03,\n",
       "       -1.56093051e-03, -2.44404614e-02,  8.60020082e-03, -2.00195892e-02,\n",
       "        1.66455091e-02,  1.41402245e-02,  7.86314559e-04,  1.13657098e-02,\n",
       "        3.93585801e-03,  7.22194004e-03, -6.65821001e-04, -4.35652601e-04,\n",
       "        1.61506590e-03,  4.93978459e-03, -8.66001535e-04,  2.29484727e-04,\n",
       "       -4.25600389e-03, -1.76597676e-03, -7.69171605e-03,  1.21437930e-03,\n",
       "        1.10193265e-02, -2.40957774e-02, -5.15262022e-03,  2.42401976e-02,\n",
       "       -7.80321919e-03, -1.32457055e-02, -1.23748127e-02,  1.83965820e-02,\n",
       "       -4.97876505e-03,  1.42775128e-02,  6.22458626e-03,  1.01391559e-02,\n",
       "        1.34678114e-03,  5.96357437e-03, -1.26132034e-03,  3.40988126e-03,\n",
       "       -1.45496618e-02, -5.10881768e-03,  7.98496781e-03, -7.87079744e-03,\n",
       "       -5.08346851e-03,  5.62557611e-03,  1.61149566e-02, -5.05106827e-04,\n",
       "       -2.65295820e-03,  4.05334163e-03,  1.07990789e-02,  1.43531120e-02,\n",
       "       -5.90585301e-04,  1.15729643e-03,  4.74677856e-03,  7.27014908e-03,\n",
       "        3.64588247e-04,  2.96368346e-03, -3.41513635e-03,  1.07424542e-02,\n",
       "        3.34242591e-03, -4.91304765e-03, -7.32154353e-03,  9.46210003e-03,\n",
       "       -9.13312242e-03,  1.08424124e-02,  2.08762091e-03, -2.15503319e-04,\n",
       "       -2.87399694e-04,  6.37279277e-03, -6.57051322e-03,  2.15678035e-03,\n",
       "       -6.16933767e-03,  3.12797470e-04,  7.98558587e-03,  7.27799112e-03,\n",
       "       -9.90238019e-03, -8.92475227e-03, -2.12452330e-02,  1.20125184e-02,\n",
       "        1.53553374e-02, -2.54452348e-03, -8.61567835e-03, -2.62178250e-03,\n",
       "        1.07579555e-02, -8.18715900e-04,  1.01942714e-02, -2.21872549e-03,\n",
       "        1.98454741e-03,  5.24974865e-04,  1.78873807e-03, -8.80856846e-04,\n",
       "        1.57260019e-03, -3.71136395e-03,  9.14587289e-03, -9.70193223e-04,\n",
       "        2.13165488e-04, -1.49191268e-03,  4.64838488e-03,  1.65249222e-03,\n",
       "        2.23895787e-03, -1.83416912e-03, -5.58336217e-03, -3.31629518e-04,\n",
       "       -1.67073199e-02,  1.43159446e-02,  5.34619607e-03, -1.20531130e-03,\n",
       "        5.91575950e-03,  3.55205652e-03,  2.01593000e-03,  5.38075153e-04,\n",
       "        8.41677207e-04,  5.53659564e-03,  7.64353925e-03, -1.82147132e-03,\n",
       "        3.53405586e-03, -8.14799544e-03,  1.06747782e-02,  3.58191954e-03,\n",
       "       -3.40896468e-03,  1.49221493e-03, -3.41552876e-03, -7.84359669e-03,\n",
       "       -1.47679213e-02,  1.43304147e-02,  8.09629809e-03,  2.09412884e-03,\n",
       "        1.02879968e-02,  2.45484968e-03, -4.55756949e-03, -4.10066261e-04,\n",
       "        4.14740875e-03, -4.85642610e-03, -2.09804430e-03,  8.13546376e-03,\n",
       "       -4.91892313e-03,  6.33285961e-03,  1.65243674e-03, -8.13544621e-04,\n",
       "        1.24395039e-03,  2.48487874e-03,  2.99695024e-03,  1.81983802e-03,\n",
       "        2.35465501e-03, -6.55523339e-03, -1.09449954e-02,  1.54832344e-03,\n",
       "        7.95707752e-03,  8.79651873e-03,  1.58742441e-03,  2.09836024e-03,\n",
       "       -5.90317408e-03,  8.94095403e-03,  4.39758131e-03, -1.48157666e-03,\n",
       "        5.31469208e-04,  3.07661506e-03, -2.42758818e-04, -3.57551683e-03,\n",
       "       -1.21824260e-03, -4.28021703e-03, -7.88455713e-03,  2.55923160e-03,\n",
       "       -5.39650951e-03,  8.35263828e-03, -1.58522695e-03, -1.29034134e-02,\n",
       "       -1.66741854e-02, -9.44621818e-04,  9.75481498e-03,  1.21500194e-02,\n",
       "        1.64721106e-03, -2.86091551e-03, -2.01518460e-02,  1.68313886e-03])"
      ]
     },
     "execution_count": 36,
     "metadata": {},
     "output_type": "execute_result"
    }
   ],
   "source": [
    "x.to_numpy()"
   ]
  },
  {
   "cell_type": "code",
   "execution_count": null,
   "metadata": {},
   "outputs": [],
   "source": []
  }
 ],
 "metadata": {
  "interpreter": {
   "hash": "d2497507432cfc585cd7327480b40494886a92263503e9edae1616dd76c3ce3b"
  },
  "kernelspec": {
   "display_name": "Python 3.8.13 ('investing')",
   "language": "python",
   "name": "python3"
  },
  "language_info": {
   "codemirror_mode": {
    "name": "ipython",
    "version": 3
   },
   "file_extension": ".py",
   "mimetype": "text/x-python",
   "name": "python",
   "nbconvert_exporter": "python",
   "pygments_lexer": "ipython3",
   "version": "3.8.13"
  },
  "orig_nbformat": 4
 },
 "nbformat": 4,
 "nbformat_minor": 2
}
