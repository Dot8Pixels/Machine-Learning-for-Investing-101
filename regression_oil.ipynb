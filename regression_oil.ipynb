{
 "cells": [
  {
   "cell_type": "code",
   "execution_count": 199,
   "metadata": {},
   "outputs": [],
   "source": [
    "import pandas as pd\n",
    "import yfinance as yf\n",
    "import numpy as np\n",
    "import matplotlib.pyplot as plt"
   ]
  },
  {
   "cell_type": "code",
   "execution_count": 200,
   "metadata": {},
   "outputs": [],
   "source": [
    "start = '2017-01-01'\n",
    "end = '2021-10-01'"
   ]
  },
  {
   "cell_type": "code",
   "execution_count": 201,
   "metadata": {},
   "outputs": [
    {
     "name": "stdout",
     "output_type": "stream",
     "text": [
      "[*********************100%***********************]  2 of 2 completed\n"
     ]
    }
   ],
   "source": [
    "data = yf.download('CL=F PTTEP.BK', start=start, end=end, period=1)"
   ]
  },
  {
   "cell_type": "code",
   "execution_count": 202,
   "metadata": {},
   "outputs": [],
   "source": [
    "df = data['Adj Close']"
   ]
  },
  {
   "cell_type": "code",
   "execution_count": 203,
   "metadata": {},
   "outputs": [
    {
     "data": {
      "text/html": [
       "<div>\n",
       "<style scoped>\n",
       "    .dataframe tbody tr th:only-of-type {\n",
       "        vertical-align: middle;\n",
       "    }\n",
       "\n",
       "    .dataframe tbody tr th {\n",
       "        vertical-align: top;\n",
       "    }\n",
       "\n",
       "    .dataframe thead th {\n",
       "        text-align: right;\n",
       "    }\n",
       "</style>\n",
       "<table border=\"1\" class=\"dataframe\">\n",
       "  <thead>\n",
       "    <tr style=\"text-align: right;\">\n",
       "      <th></th>\n",
       "      <th>CL=F</th>\n",
       "      <th>PTTEP.BK</th>\n",
       "    </tr>\n",
       "    <tr>\n",
       "      <th>Date</th>\n",
       "      <th></th>\n",
       "      <th></th>\n",
       "    </tr>\n",
       "  </thead>\n",
       "  <tbody>\n",
       "    <tr>\n",
       "      <th>2017-01-03</th>\n",
       "      <td>52.330002</td>\n",
       "      <td>NaN</td>\n",
       "    </tr>\n",
       "    <tr>\n",
       "      <th>2017-01-04</th>\n",
       "      <td>53.259998</td>\n",
       "      <td>76.533470</td>\n",
       "    </tr>\n",
       "    <tr>\n",
       "      <th>2017-01-05</th>\n",
       "      <td>53.759998</td>\n",
       "      <td>76.144981</td>\n",
       "    </tr>\n",
       "    <tr>\n",
       "      <th>2017-01-06</th>\n",
       "      <td>53.990002</td>\n",
       "      <td>76.533470</td>\n",
       "    </tr>\n",
       "    <tr>\n",
       "      <th>2017-01-09</th>\n",
       "      <td>51.959999</td>\n",
       "      <td>75.950729</td>\n",
       "    </tr>\n",
       "    <tr>\n",
       "      <th>...</th>\n",
       "      <td>...</td>\n",
       "      <td>...</td>\n",
       "    </tr>\n",
       "    <tr>\n",
       "      <th>2021-09-24</th>\n",
       "      <td>73.980003</td>\n",
       "      <td>NaN</td>\n",
       "    </tr>\n",
       "    <tr>\n",
       "      <th>2021-09-27</th>\n",
       "      <td>75.449997</td>\n",
       "      <td>114.370789</td>\n",
       "    </tr>\n",
       "    <tr>\n",
       "      <th>2021-09-28</th>\n",
       "      <td>75.290001</td>\n",
       "      <td>116.325844</td>\n",
       "    </tr>\n",
       "    <tr>\n",
       "      <th>2021-09-29</th>\n",
       "      <td>74.830002</td>\n",
       "      <td>116.325844</td>\n",
       "    </tr>\n",
       "    <tr>\n",
       "      <th>2021-09-30</th>\n",
       "      <td>75.029999</td>\n",
       "      <td>114.859550</td>\n",
       "    </tr>\n",
       "  </tbody>\n",
       "</table>\n",
       "<p>1231 rows × 2 columns</p>\n",
       "</div>"
      ],
      "text/plain": [
       "                 CL=F    PTTEP.BK\n",
       "Date                             \n",
       "2017-01-03  52.330002         NaN\n",
       "2017-01-04  53.259998   76.533470\n",
       "2017-01-05  53.759998   76.144981\n",
       "2017-01-06  53.990002   76.533470\n",
       "2017-01-09  51.959999   75.950729\n",
       "...               ...         ...\n",
       "2021-09-24  73.980003         NaN\n",
       "2021-09-27  75.449997  114.370789\n",
       "2021-09-28  75.290001  116.325844\n",
       "2021-09-29  74.830002  116.325844\n",
       "2021-09-30  75.029999  114.859550\n",
       "\n",
       "[1231 rows x 2 columns]"
      ]
     },
     "execution_count": 203,
     "metadata": {},
     "output_type": "execute_result"
    }
   ],
   "source": [
    "df"
   ]
  },
  {
   "cell_type": "code",
   "execution_count": 204,
   "metadata": {},
   "outputs": [
    {
     "data": {
      "text/plain": [
       "CL=F        36\n",
       "PTTEP.BK    77\n",
       "dtype: int64"
      ]
     },
     "execution_count": 204,
     "metadata": {},
     "output_type": "execute_result"
    }
   ],
   "source": [
    "df.isnull().sum()"
   ]
  },
  {
   "cell_type": "code",
   "execution_count": 205,
   "metadata": {},
   "outputs": [
    {
     "name": "stderr",
     "output_type": "stream",
     "text": [
      "c:\\Users\\gunsr\\anaconda3\\envs\\investing\\lib\\site-packages\\pandas\\util\\_decorators.py:311: SettingWithCopyWarning: \n",
      "A value is trying to be set on a copy of a slice from a DataFrame\n",
      "\n",
      "See the caveats in the documentation: https://pandas.pydata.org/pandas-docs/stable/user_guide/indexing.html#returning-a-view-versus-a-copy\n",
      "  return func(*args, **kwargs)\n"
     ]
    }
   ],
   "source": [
    "df.dropna(inplace=True)"
   ]
  },
  {
   "cell_type": "code",
   "execution_count": 206,
   "metadata": {},
   "outputs": [
    {
     "data": {
      "text/plain": [
       "CL=F        0\n",
       "PTTEP.BK    0\n",
       "dtype: int64"
      ]
     },
     "execution_count": 206,
     "metadata": {},
     "output_type": "execute_result"
    }
   ],
   "source": [
    "df.isnull().sum()"
   ]
  },
  {
   "cell_type": "code",
   "execution_count": 207,
   "metadata": {},
   "outputs": [
    {
     "data": {
      "text/plain": [
       "<AxesSubplot:xlabel='Date'>"
      ]
     },
     "execution_count": 207,
     "metadata": {},
     "output_type": "execute_result"
    },
    {
     "data": {
      "image/png": "[encoded data removed]",
      "text/plain": [
       "<Figure size 432x288 with 1 Axes>"
      ]
     },
     "metadata": {
      "needs_background": "light"
     },
     "output_type": "display_data"
    }
   ],
   "source": [
    "df.plot()"
   ]
  },
  {
   "cell_type": "code",
   "execution_count": 208,
   "metadata": {},
   "outputs": [
    {
     "data": {
      "text/plain": [
       "<AxesSubplot:xlabel='Date'>"
      ]
     },
     "execution_count": 208,
     "metadata": {},
     "output_type": "execute_result"
    },
    {
     "data": {
      "image/png": "[encoded data removed]",
      "text/plain": [
       "<Figure size 432x288 with 1 Axes>"
      ]
     },
     "metadata": {
      "needs_background": "light"
     },
     "output_type": "display_data"
    }
   ],
   "source": [
    "df.pct_change().plot()"
   ]
  },
  {
   "cell_type": "code",
   "execution_count": 209,
   "metadata": {},
   "outputs": [
    {
     "data": {
      "text/plain": [
       "<AxesSubplot:xlabel='Date'>"
      ]
     },
     "execution_count": 209,
     "metadata": {},
     "output_type": "execute_result"
    },
    {
     "data": {
      "image/png": "[encoded data removed]",
      "text/plain": [
       "<Figure size 432x288 with 1 Axes>"
      ]
     },
     "metadata": {
      "needs_background": "light"
     },
     "output_type": "display_data"
    }
   ],
   "source": [
    "df.loc['2020-04-15':'2020-04-25'].plot()"
   ]
  },
  {
   "cell_type": "code",
   "execution_count": 210,
   "metadata": {},
   "outputs": [
    {
     "data": {
      "text/plain": [
       "<AxesSubplot:xlabel='Date'>"
      ]
     },
     "execution_count": 210,
     "metadata": {},
     "output_type": "execute_result"
    },
    {
     "data": {
      "image/png": "[encoded data removed]",
      "text/plain": [
       "<Figure size 432x288 with 1 Axes>"
      ]
     },
     "metadata": {
      "needs_background": "light"
     },
     "output_type": "display_data"
    }
   ],
   "source": [
    "df_ret = df.pct_change()\n",
    "df_ret.loc['2020-04-15':'2020-04-25'].plot()"
   ]
  },
  {
   "cell_type": "code",
   "execution_count": 211,
   "metadata": {},
   "outputs": [],
   "source": [
    "start_remove = '2020-04-15'\n",
    "end_remove = '2020-04-25'"
   ]
  },
  {
   "cell_type": "code",
   "execution_count": 212,
   "metadata": {},
   "outputs": [],
   "source": [
    "df_clean = df_ret.loc[:'2020-04-13'].append(df_ret.loc['2020-05-01':])"
   ]
  },
  {
   "cell_type": "code",
   "execution_count": 213,
   "metadata": {},
   "outputs": [
    {
     "data": {
      "text/html": [
       "<div>\n",
       "<style scoped>\n",
       "    .dataframe tbody tr th:only-of-type {\n",
       "        vertical-align: middle;\n",
       "    }\n",
       "\n",
       "    .dataframe tbody tr th {\n",
       "        vertical-align: top;\n",
       "    }\n",
       "\n",
       "    .dataframe thead th {\n",
       "        text-align: right;\n",
       "    }\n",
       "</style>\n",
       "<table border=\"1\" class=\"dataframe\">\n",
       "  <thead>\n",
       "    <tr style=\"text-align: right;\">\n",
       "      <th></th>\n",
       "      <th>CL=F</th>\n",
       "      <th>PTTEP.BK</th>\n",
       "    </tr>\n",
       "    <tr>\n",
       "      <th>Date</th>\n",
       "      <th></th>\n",
       "      <th></th>\n",
       "    </tr>\n",
       "  </thead>\n",
       "  <tbody>\n",
       "    <tr>\n",
       "      <th>2020-04-13</th>\n",
       "      <td>-0.015378</td>\n",
       "      <td>-0.003135</td>\n",
       "    </tr>\n",
       "    <tr>\n",
       "      <th>2020-05-05</th>\n",
       "      <td>0.303609</td>\n",
       "      <td>-0.005917</td>\n",
       "    </tr>\n",
       "    <tr>\n",
       "      <th>2020-05-07</th>\n",
       "      <td>-0.041124</td>\n",
       "      <td>-0.017857</td>\n",
       "    </tr>\n",
       "    <tr>\n",
       "      <th>2020-05-08</th>\n",
       "      <td>0.050531</td>\n",
       "      <td>0.006060</td>\n",
       "    </tr>\n",
       "  </tbody>\n",
       "</table>\n",
       "</div>"
      ],
      "text/plain": [
       "                CL=F  PTTEP.BK\n",
       "Date                          \n",
       "2020-04-13 -0.015378 -0.003135\n",
       "2020-05-05  0.303609 -0.005917\n",
       "2020-05-07 -0.041124 -0.017857\n",
       "2020-05-08  0.050531  0.006060"
      ]
     },
     "execution_count": 213,
     "metadata": {},
     "output_type": "execute_result"
    }
   ],
   "source": [
    "df_clean.loc['2020-04-12':'2020-05-10']"
   ]
  },
  {
   "cell_type": "code",
   "execution_count": 214,
   "metadata": {},
   "outputs": [
    {
     "data": {
      "text/plain": [
       "<AxesSubplot:xlabel='Date'>"
      ]
     },
     "execution_count": 214,
     "metadata": {},
     "output_type": "execute_result"
    },
    {
     "data": {
      "image/png": "[encoded data removed]",
      "text/plain": [
       "<Figure size 1008x432 with 1 Axes>"
      ]
     },
     "metadata": {
      "needs_background": "light"
     },
     "output_type": "display_data"
    }
   ],
   "source": [
    "df_clean.plot(figsize=(14,6))"
   ]
  },
  {
   "cell_type": "code",
   "execution_count": 215,
   "metadata": {},
   "outputs": [
    {
     "data": {
      "text/plain": [
       "<AxesSubplot:xlabel='CL=F', ylabel='PTTEP.BK'>"
      ]
     },
     "execution_count": 215,
     "metadata": {},
     "output_type": "execute_result"
    },
    {
     "data": {
      "image/png": "[encoded data removed]",
      "text/plain": [
       "<Figure size 432x288 with 1 Axes>"
      ]
     },
     "metadata": {
      "needs_background": "light"
     },
     "output_type": "display_data"
    }
   ],
   "source": [
    "df_clean.plot.scatter(x='CL=F', y='PTTEP.BK')"
   ]
  },
  {
   "cell_type": "code",
   "execution_count": 216,
   "metadata": {},
   "outputs": [],
   "source": [
    "X = df_clean['CL=F'].iloc[1:]\n",
    "y = df_clean['PTTEP.BK'].iloc[1:]"
   ]
  },
  {
   "cell_type": "code",
   "execution_count": 217,
   "metadata": {},
   "outputs": [],
   "source": [
    "m,c = np.polyfit(X, y, 1)"
   ]
  },
  {
   "cell_type": "code",
   "execution_count": 218,
   "metadata": {},
   "outputs": [
    {
     "data": {
      "text/plain": [
       "[<matplotlib.lines.Line2D at 0x1992ae36910>]"
      ]
     },
     "execution_count": 218,
     "metadata": {},
     "output_type": "execute_result"
    },
    {
     "data": {
      "image/png": "[encoded data removed]",
      "text/plain": [
       "<Figure size 432x288 with 1 Axes>"
      ]
     },
     "metadata": {
      "needs_background": "light"
     },
     "output_type": "display_data"
    }
   ],
   "source": [
    "df_clean.plot.scatter(x='CL=F', y='PTTEP.BK', c='k')\n",
    "plt.plot(X, m*X+c)"
   ]
  },
  {
   "cell_type": "code",
   "execution_count": 219,
   "metadata": {},
   "outputs": [],
   "source": [
    "Lower_limit = df_clean.quantile(0.01)\n",
    "Upper_limit = df_clean.quantile(0.99)"
   ]
  },
  {
   "cell_type": "code",
   "execution_count": 220,
   "metadata": {},
   "outputs": [
    {
     "data": {
      "text/plain": [
       "CL=F       -0.077004\n",
       "PTTEP.BK   -0.056511\n",
       "Name: 0.01, dtype: float64"
      ]
     },
     "execution_count": 220,
     "metadata": {},
     "output_type": "execute_result"
    }
   ],
   "source": [
    "Lower_limit"
   ]
  },
  {
   "cell_type": "code",
   "execution_count": 221,
   "metadata": {},
   "outputs": [
    {
     "data": {
      "text/plain": [
       "CL=F        0.067670\n",
       "PTTEP.BK    0.064973\n",
       "Name: 0.99, dtype: float64"
      ]
     },
     "execution_count": 221,
     "metadata": {},
     "output_type": "execute_result"
    }
   ],
   "source": [
    "Upper_limit"
   ]
  },
  {
   "cell_type": "code",
   "execution_count": 222,
   "metadata": {},
   "outputs": [],
   "source": [
    "df_cleaner = df_clean[~((df_clean < Lower_limit) | (df_clean > Upper_limit)).any(1)]"
   ]
  },
  {
   "cell_type": "code",
   "execution_count": 223,
   "metadata": {},
   "outputs": [
    {
     "data": {
      "text/html": [
       "<div>\n",
       "<style scoped>\n",
       "    .dataframe tbody tr th:only-of-type {\n",
       "        vertical-align: middle;\n",
       "    }\n",
       "\n",
       "    .dataframe tbody tr th {\n",
       "        vertical-align: top;\n",
       "    }\n",
       "\n",
       "    .dataframe thead th {\n",
       "        text-align: right;\n",
       "    }\n",
       "</style>\n",
       "<table border=\"1\" class=\"dataframe\">\n",
       "  <thead>\n",
       "    <tr style=\"text-align: right;\">\n",
       "      <th></th>\n",
       "      <th>CL=F</th>\n",
       "      <th>PTTEP.BK</th>\n",
       "    </tr>\n",
       "    <tr>\n",
       "      <th>Date</th>\n",
       "      <th></th>\n",
       "      <th></th>\n",
       "    </tr>\n",
       "  </thead>\n",
       "  <tbody>\n",
       "    <tr>\n",
       "      <th>2017-01-04</th>\n",
       "      <td>NaN</td>\n",
       "      <td>NaN</td>\n",
       "    </tr>\n",
       "    <tr>\n",
       "      <th>2017-01-05</th>\n",
       "      <td>0.009388</td>\n",
       "      <td>-0.005076</td>\n",
       "    </tr>\n",
       "    <tr>\n",
       "      <th>2017-01-06</th>\n",
       "      <td>0.004278</td>\n",
       "      <td>0.005102</td>\n",
       "    </tr>\n",
       "    <tr>\n",
       "      <th>2017-01-09</th>\n",
       "      <td>-0.037600</td>\n",
       "      <td>-0.007614</td>\n",
       "    </tr>\n",
       "    <tr>\n",
       "      <th>2017-01-10</th>\n",
       "      <td>-0.021940</td>\n",
       "      <td>-0.017903</td>\n",
       "    </tr>\n",
       "    <tr>\n",
       "      <th>...</th>\n",
       "      <td>...</td>\n",
       "      <td>...</td>\n",
       "    </tr>\n",
       "    <tr>\n",
       "      <th>2021-09-23</th>\n",
       "      <td>0.014814</td>\n",
       "      <td>0.004444</td>\n",
       "    </tr>\n",
       "    <tr>\n",
       "      <th>2021-09-27</th>\n",
       "      <td>0.029331</td>\n",
       "      <td>0.035398</td>\n",
       "    </tr>\n",
       "    <tr>\n",
       "      <th>2021-09-28</th>\n",
       "      <td>-0.002121</td>\n",
       "      <td>0.017094</td>\n",
       "    </tr>\n",
       "    <tr>\n",
       "      <th>2021-09-29</th>\n",
       "      <td>-0.006110</td>\n",
       "      <td>0.000000</td>\n",
       "    </tr>\n",
       "    <tr>\n",
       "      <th>2021-09-30</th>\n",
       "      <td>0.002673</td>\n",
       "      <td>-0.012605</td>\n",
       "    </tr>\n",
       "  </tbody>\n",
       "</table>\n",
       "<p>1063 rows × 2 columns</p>\n",
       "</div>"
      ],
      "text/plain": [
       "                CL=F  PTTEP.BK\n",
       "Date                          \n",
       "2017-01-04       NaN       NaN\n",
       "2017-01-05  0.009388 -0.005076\n",
       "2017-01-06  0.004278  0.005102\n",
       "2017-01-09 -0.037600 -0.007614\n",
       "2017-01-10 -0.021940 -0.017903\n",
       "...              ...       ...\n",
       "2021-09-23  0.014814  0.004444\n",
       "2021-09-27  0.029331  0.035398\n",
       "2021-09-28 -0.002121  0.017094\n",
       "2021-09-29 -0.006110  0.000000\n",
       "2021-09-30  0.002673 -0.012605\n",
       "\n",
       "[1063 rows x 2 columns]"
      ]
     },
     "execution_count": 223,
     "metadata": {},
     "output_type": "execute_result"
    }
   ],
   "source": [
    "df_cleaner"
   ]
  },
  {
   "cell_type": "code",
   "execution_count": 224,
   "metadata": {},
   "outputs": [
    {
     "data": {
      "text/plain": [
       "<AxesSubplot:xlabel='CL=F', ylabel='PTTEP.BK'>"
      ]
     },
     "execution_count": 224,
     "metadata": {},
     "output_type": "execute_result"
    },
    {
     "data": {
      "image/png": "[encoded data removed]",
      "text/plain": [
       "<Figure size 432x288 with 1 Axes>"
      ]
     },
     "metadata": {
      "needs_background": "light"
     },
     "output_type": "display_data"
    }
   ],
   "source": [
    "df_cleaner.plot.scatter(x='CL=F', y='PTTEP.BK')"
   ]
  },
  {
   "cell_type": "code",
   "execution_count": 225,
   "metadata": {},
   "outputs": [
    {
     "data": {
      "text/plain": [
       "CL=F        True\n",
       "PTTEP.BK    True\n",
       "dtype: bool"
      ]
     },
     "execution_count": 225,
     "metadata": {},
     "output_type": "execute_result"
    }
   ],
   "source": [
    "(df_cleaner == 0).any()"
   ]
  },
  {
   "cell_type": "code",
   "execution_count": 226,
   "metadata": {},
   "outputs": [
    {
     "data": {
      "text/html": [
       "<div>\n",
       "<style scoped>\n",
       "    .dataframe tbody tr th:only-of-type {\n",
       "        vertical-align: middle;\n",
       "    }\n",
       "\n",
       "    .dataframe tbody tr th {\n",
       "        vertical-align: top;\n",
       "    }\n",
       "\n",
       "    .dataframe thead th {\n",
       "        text-align: right;\n",
       "    }\n",
       "</style>\n",
       "<table border=\"1\" class=\"dataframe\">\n",
       "  <thead>\n",
       "    <tr style=\"text-align: right;\">\n",
       "      <th></th>\n",
       "      <th>CL=F</th>\n",
       "      <th>PTTEP.BK</th>\n",
       "    </tr>\n",
       "    <tr>\n",
       "      <th>Date</th>\n",
       "      <th></th>\n",
       "      <th></th>\n",
       "    </tr>\n",
       "  </thead>\n",
       "  <tbody>\n",
       "    <tr>\n",
       "      <th>2017-01-04</th>\n",
       "      <td>False</td>\n",
       "      <td>False</td>\n",
       "    </tr>\n",
       "    <tr>\n",
       "      <th>2017-01-05</th>\n",
       "      <td>False</td>\n",
       "      <td>False</td>\n",
       "    </tr>\n",
       "    <tr>\n",
       "      <th>2017-01-06</th>\n",
       "      <td>False</td>\n",
       "      <td>False</td>\n",
       "    </tr>\n",
       "    <tr>\n",
       "      <th>2017-01-09</th>\n",
       "      <td>False</td>\n",
       "      <td>False</td>\n",
       "    </tr>\n",
       "    <tr>\n",
       "      <th>2017-01-10</th>\n",
       "      <td>False</td>\n",
       "      <td>False</td>\n",
       "    </tr>\n",
       "    <tr>\n",
       "      <th>...</th>\n",
       "      <td>...</td>\n",
       "      <td>...</td>\n",
       "    </tr>\n",
       "    <tr>\n",
       "      <th>2021-09-23</th>\n",
       "      <td>False</td>\n",
       "      <td>False</td>\n",
       "    </tr>\n",
       "    <tr>\n",
       "      <th>2021-09-27</th>\n",
       "      <td>False</td>\n",
       "      <td>False</td>\n",
       "    </tr>\n",
       "    <tr>\n",
       "      <th>2021-09-28</th>\n",
       "      <td>False</td>\n",
       "      <td>False</td>\n",
       "    </tr>\n",
       "    <tr>\n",
       "      <th>2021-09-29</th>\n",
       "      <td>False</td>\n",
       "      <td>True</td>\n",
       "    </tr>\n",
       "    <tr>\n",
       "      <th>2021-09-30</th>\n",
       "      <td>False</td>\n",
       "      <td>False</td>\n",
       "    </tr>\n",
       "  </tbody>\n",
       "</table>\n",
       "<p>1063 rows × 2 columns</p>\n",
       "</div>"
      ],
      "text/plain": [
       "             CL=F  PTTEP.BK\n",
       "Date                       \n",
       "2017-01-04  False     False\n",
       "2017-01-05  False     False\n",
       "2017-01-06  False     False\n",
       "2017-01-09  False     False\n",
       "2017-01-10  False     False\n",
       "...           ...       ...\n",
       "2021-09-23  False     False\n",
       "2021-09-27  False     False\n",
       "2021-09-28  False     False\n",
       "2021-09-29  False      True\n",
       "2021-09-30  False     False\n",
       "\n",
       "[1063 rows x 2 columns]"
      ]
     },
     "execution_count": 226,
     "metadata": {},
     "output_type": "execute_result"
    }
   ],
   "source": [
    "df_cleaner == 0"
   ]
  },
  {
   "cell_type": "code",
   "execution_count": 227,
   "metadata": {},
   "outputs": [
    {
     "data": {
      "text/html": [
       "<div>\n",
       "<style scoped>\n",
       "    .dataframe tbody tr th:only-of-type {\n",
       "        vertical-align: middle;\n",
       "    }\n",
       "\n",
       "    .dataframe tbody tr th {\n",
       "        vertical-align: top;\n",
       "    }\n",
       "\n",
       "    .dataframe thead th {\n",
       "        text-align: right;\n",
       "    }\n",
       "</style>\n",
       "<table border=\"1\" class=\"dataframe\">\n",
       "  <thead>\n",
       "    <tr style=\"text-align: right;\">\n",
       "      <th></th>\n",
       "      <th>CL=F</th>\n",
       "      <th>PTTEP.BK</th>\n",
       "    </tr>\n",
       "    <tr>\n",
       "      <th>Date</th>\n",
       "      <th></th>\n",
       "      <th></th>\n",
       "    </tr>\n",
       "  </thead>\n",
       "  <tbody>\n",
       "    <tr>\n",
       "      <th>2017-01-04</th>\n",
       "      <td>NaN</td>\n",
       "      <td>NaN</td>\n",
       "    </tr>\n",
       "    <tr>\n",
       "      <th>2017-01-05</th>\n",
       "      <td>0.009388</td>\n",
       "      <td>-0.005076</td>\n",
       "    </tr>\n",
       "    <tr>\n",
       "      <th>2017-01-06</th>\n",
       "      <td>0.004278</td>\n",
       "      <td>0.005102</td>\n",
       "    </tr>\n",
       "    <tr>\n",
       "      <th>2017-01-09</th>\n",
       "      <td>-0.037600</td>\n",
       "      <td>-0.007614</td>\n",
       "    </tr>\n",
       "    <tr>\n",
       "      <th>2017-01-10</th>\n",
       "      <td>-0.021940</td>\n",
       "      <td>-0.017903</td>\n",
       "    </tr>\n",
       "    <tr>\n",
       "      <th>...</th>\n",
       "      <td>...</td>\n",
       "      <td>...</td>\n",
       "    </tr>\n",
       "    <tr>\n",
       "      <th>2021-09-21</th>\n",
       "      <td>0.003841</td>\n",
       "      <td>0.008969</td>\n",
       "    </tr>\n",
       "    <tr>\n",
       "      <th>2021-09-23</th>\n",
       "      <td>0.014814</td>\n",
       "      <td>0.004444</td>\n",
       "    </tr>\n",
       "    <tr>\n",
       "      <th>2021-09-27</th>\n",
       "      <td>0.029331</td>\n",
       "      <td>0.035398</td>\n",
       "    </tr>\n",
       "    <tr>\n",
       "      <th>2021-09-28</th>\n",
       "      <td>-0.002121</td>\n",
       "      <td>0.017094</td>\n",
       "    </tr>\n",
       "    <tr>\n",
       "      <th>2021-09-30</th>\n",
       "      <td>0.002673</td>\n",
       "      <td>-0.012605</td>\n",
       "    </tr>\n",
       "  </tbody>\n",
       "</table>\n",
       "<p>939 rows × 2 columns</p>\n",
       "</div>"
      ],
      "text/plain": [
       "                CL=F  PTTEP.BK\n",
       "Date                          \n",
       "2017-01-04       NaN       NaN\n",
       "2017-01-05  0.009388 -0.005076\n",
       "2017-01-06  0.004278  0.005102\n",
       "2017-01-09 -0.037600 -0.007614\n",
       "2017-01-10 -0.021940 -0.017903\n",
       "...              ...       ...\n",
       "2021-09-21  0.003841  0.008969\n",
       "2021-09-23  0.014814  0.004444\n",
       "2021-09-27  0.029331  0.035398\n",
       "2021-09-28 -0.002121  0.017094\n",
       "2021-09-30  0.002673 -0.012605\n",
       "\n",
       "[939 rows x 2 columns]"
      ]
     },
     "execution_count": 227,
     "metadata": {},
     "output_type": "execute_result"
    }
   ],
   "source": [
    "df_cleaner.loc[(df_cleaner != 0).all(1)]"
   ]
  },
  {
   "cell_type": "code",
   "execution_count": 228,
   "metadata": {},
   "outputs": [],
   "source": [
    "df_final = df_cleaner.loc[(df_cleaner != 0).all(1)]"
   ]
  },
  {
   "cell_type": "code",
   "execution_count": 229,
   "metadata": {},
   "outputs": [
    {
     "data": {
      "text/html": [
       "<div>\n",
       "<style scoped>\n",
       "    .dataframe tbody tr th:only-of-type {\n",
       "        vertical-align: middle;\n",
       "    }\n",
       "\n",
       "    .dataframe tbody tr th {\n",
       "        vertical-align: top;\n",
       "    }\n",
       "\n",
       "    .dataframe thead th {\n",
       "        text-align: right;\n",
       "    }\n",
       "</style>\n",
       "<table border=\"1\" class=\"dataframe\">\n",
       "  <thead>\n",
       "    <tr style=\"text-align: right;\">\n",
       "      <th></th>\n",
       "      <th>CL=F</th>\n",
       "      <th>PTTEP.BK</th>\n",
       "    </tr>\n",
       "    <tr>\n",
       "      <th>Date</th>\n",
       "      <th></th>\n",
       "      <th></th>\n",
       "    </tr>\n",
       "  </thead>\n",
       "  <tbody>\n",
       "    <tr>\n",
       "      <th>2017-01-04</th>\n",
       "      <td>NaN</td>\n",
       "      <td>NaN</td>\n",
       "    </tr>\n",
       "    <tr>\n",
       "      <th>2017-01-05</th>\n",
       "      <td>0.009388</td>\n",
       "      <td>-0.005076</td>\n",
       "    </tr>\n",
       "    <tr>\n",
       "      <th>2017-01-06</th>\n",
       "      <td>0.004278</td>\n",
       "      <td>0.005102</td>\n",
       "    </tr>\n",
       "    <tr>\n",
       "      <th>2017-01-09</th>\n",
       "      <td>-0.037600</td>\n",
       "      <td>-0.007614</td>\n",
       "    </tr>\n",
       "    <tr>\n",
       "      <th>2017-01-10</th>\n",
       "      <td>-0.021940</td>\n",
       "      <td>-0.017903</td>\n",
       "    </tr>\n",
       "    <tr>\n",
       "      <th>...</th>\n",
       "      <td>...</td>\n",
       "      <td>...</td>\n",
       "    </tr>\n",
       "    <tr>\n",
       "      <th>2021-09-21</th>\n",
       "      <td>0.003841</td>\n",
       "      <td>0.008969</td>\n",
       "    </tr>\n",
       "    <tr>\n",
       "      <th>2021-09-23</th>\n",
       "      <td>0.014814</td>\n",
       "      <td>0.004444</td>\n",
       "    </tr>\n",
       "    <tr>\n",
       "      <th>2021-09-27</th>\n",
       "      <td>0.029331</td>\n",
       "      <td>0.035398</td>\n",
       "    </tr>\n",
       "    <tr>\n",
       "      <th>2021-09-28</th>\n",
       "      <td>-0.002121</td>\n",
       "      <td>0.017094</td>\n",
       "    </tr>\n",
       "    <tr>\n",
       "      <th>2021-09-30</th>\n",
       "      <td>0.002673</td>\n",
       "      <td>-0.012605</td>\n",
       "    </tr>\n",
       "  </tbody>\n",
       "</table>\n",
       "<p>939 rows × 2 columns</p>\n",
       "</div>"
      ],
      "text/plain": [
       "                CL=F  PTTEP.BK\n",
       "Date                          \n",
       "2017-01-04       NaN       NaN\n",
       "2017-01-05  0.009388 -0.005076\n",
       "2017-01-06  0.004278  0.005102\n",
       "2017-01-09 -0.037600 -0.007614\n",
       "2017-01-10 -0.021940 -0.017903\n",
       "...              ...       ...\n",
       "2021-09-21  0.003841  0.008969\n",
       "2021-09-23  0.014814  0.004444\n",
       "2021-09-27  0.029331  0.035398\n",
       "2021-09-28 -0.002121  0.017094\n",
       "2021-09-30  0.002673 -0.012605\n",
       "\n",
       "[939 rows x 2 columns]"
      ]
     },
     "execution_count": 229,
     "metadata": {},
     "output_type": "execute_result"
    }
   ],
   "source": [
    "df_final"
   ]
  },
  {
   "cell_type": "code",
   "execution_count": 230,
   "metadata": {},
   "outputs": [],
   "source": [
    "df_final = df_final.iloc[1:]"
   ]
  },
  {
   "cell_type": "code",
   "execution_count": 231,
   "metadata": {},
   "outputs": [
    {
     "data": {
      "text/html": [
       "<div>\n",
       "<style scoped>\n",
       "    .dataframe tbody tr th:only-of-type {\n",
       "        vertical-align: middle;\n",
       "    }\n",
       "\n",
       "    .dataframe tbody tr th {\n",
       "        vertical-align: top;\n",
       "    }\n",
       "\n",
       "    .dataframe thead th {\n",
       "        text-align: right;\n",
       "    }\n",
       "</style>\n",
       "<table border=\"1\" class=\"dataframe\">\n",
       "  <thead>\n",
       "    <tr style=\"text-align: right;\">\n",
       "      <th></th>\n",
       "      <th>CL=F</th>\n",
       "      <th>PTTEP.BK</th>\n",
       "    </tr>\n",
       "    <tr>\n",
       "      <th>Date</th>\n",
       "      <th></th>\n",
       "      <th></th>\n",
       "    </tr>\n",
       "  </thead>\n",
       "  <tbody>\n",
       "    <tr>\n",
       "      <th>2017-01-05</th>\n",
       "      <td>0.009388</td>\n",
       "      <td>-0.005076</td>\n",
       "    </tr>\n",
       "    <tr>\n",
       "      <th>2017-01-06</th>\n",
       "      <td>0.004278</td>\n",
       "      <td>0.005102</td>\n",
       "    </tr>\n",
       "    <tr>\n",
       "      <th>2017-01-09</th>\n",
       "      <td>-0.037600</td>\n",
       "      <td>-0.007614</td>\n",
       "    </tr>\n",
       "    <tr>\n",
       "      <th>2017-01-10</th>\n",
       "      <td>-0.021940</td>\n",
       "      <td>-0.017903</td>\n",
       "    </tr>\n",
       "    <tr>\n",
       "      <th>2017-01-11</th>\n",
       "      <td>0.028139</td>\n",
       "      <td>0.005208</td>\n",
       "    </tr>\n",
       "    <tr>\n",
       "      <th>...</th>\n",
       "      <td>...</td>\n",
       "      <td>...</td>\n",
       "    </tr>\n",
       "    <tr>\n",
       "      <th>2021-09-21</th>\n",
       "      <td>0.003841</td>\n",
       "      <td>0.008969</td>\n",
       "    </tr>\n",
       "    <tr>\n",
       "      <th>2021-09-23</th>\n",
       "      <td>0.014814</td>\n",
       "      <td>0.004444</td>\n",
       "    </tr>\n",
       "    <tr>\n",
       "      <th>2021-09-27</th>\n",
       "      <td>0.029331</td>\n",
       "      <td>0.035398</td>\n",
       "    </tr>\n",
       "    <tr>\n",
       "      <th>2021-09-28</th>\n",
       "      <td>-0.002121</td>\n",
       "      <td>0.017094</td>\n",
       "    </tr>\n",
       "    <tr>\n",
       "      <th>2021-09-30</th>\n",
       "      <td>0.002673</td>\n",
       "      <td>-0.012605</td>\n",
       "    </tr>\n",
       "  </tbody>\n",
       "</table>\n",
       "<p>938 rows × 2 columns</p>\n",
       "</div>"
      ],
      "text/plain": [
       "                CL=F  PTTEP.BK\n",
       "Date                          \n",
       "2017-01-05  0.009388 -0.005076\n",
       "2017-01-06  0.004278  0.005102\n",
       "2017-01-09 -0.037600 -0.007614\n",
       "2017-01-10 -0.021940 -0.017903\n",
       "2017-01-11  0.028139  0.005208\n",
       "...              ...       ...\n",
       "2021-09-21  0.003841  0.008969\n",
       "2021-09-23  0.014814  0.004444\n",
       "2021-09-27  0.029331  0.035398\n",
       "2021-09-28 -0.002121  0.017094\n",
       "2021-09-30  0.002673 -0.012605\n",
       "\n",
       "[938 rows x 2 columns]"
      ]
     },
     "execution_count": 231,
     "metadata": {},
     "output_type": "execute_result"
    }
   ],
   "source": [
    "df_final"
   ]
  },
  {
   "cell_type": "code",
   "execution_count": 232,
   "metadata": {},
   "outputs": [
    {
     "data": {
      "text/plain": [
       "<AxesSubplot:xlabel='CL=F', ylabel='PTTEP.BK'>"
      ]
     },
     "execution_count": 232,
     "metadata": {},
     "output_type": "execute_result"
    },
    {
     "data": {
      "image/png": "[encoded data removed]",
      "text/plain": [
       "<Figure size 432x288 with 1 Axes>"
      ]
     },
     "metadata": {
      "needs_background": "light"
     },
     "output_type": "display_data"
    }
   ],
   "source": [
    "df_final.plot.scatter(x='CL=F', y='PTTEP.BK')"
   ]
  },
  {
   "cell_type": "code",
   "execution_count": 233,
   "metadata": {},
   "outputs": [],
   "source": [
    "X = df_final['CL=F'].iloc[1:]\n",
    "y = df_final['PTTEP.BK'].iloc[1:]"
   ]
  },
  {
   "cell_type": "code",
   "execution_count": 234,
   "metadata": {},
   "outputs": [],
   "source": [
    "m,c = np.polyfit(X, y, 1)"
   ]
  },
  {
   "cell_type": "code",
   "execution_count": 235,
   "metadata": {},
   "outputs": [
    {
     "data": {
      "text/plain": [
       "[<matplotlib.lines.Line2D at 0x1992b0bf760>]"
      ]
     },
     "execution_count": 235,
     "metadata": {},
     "output_type": "execute_result"
    },
    {
     "data": {
      "image/png": "[encoded data removed]",
      "text/plain": [
       "<Figure size 432x288 with 1 Axes>"
      ]
     },
     "metadata": {
      "needs_background": "light"
     },
     "output_type": "display_data"
    }
   ],
   "source": [
    "df_final.plot.scatter(x='CL=F', y='PTTEP.BK', c='k')\n",
    "plt.plot(X, m*X+c)"
   ]
  },
  {
   "cell_type": "code",
   "execution_count": 236,
   "metadata": {},
   "outputs": [],
   "source": [
    "from sklearn.linear_model import LinearRegression\n",
    "from sklearn.model_selection import train_test_split\n",
    "from sklearn.preprocessing import scale\n",
    "from sklearn import metrics"
   ]
  },
  {
   "cell_type": "code",
   "execution_count": 237,
   "metadata": {},
   "outputs": [],
   "source": [
    "start = '2017-01-01'\n",
    "end = '2021-10-01'"
   ]
  },
  {
   "cell_type": "code",
   "execution_count": 238,
   "metadata": {},
   "outputs": [
    {
     "name": "stdout",
     "output_type": "stream",
     "text": [
      "[*********************100%***********************]  5 of 5 completed\n"
     ]
    }
   ],
   "source": [
    "data = yf.download('CL=F PTTEP.BK GPSC.BK PTTGC.BK PTT.BK', start=start, end=end)"
   ]
  },
  {
   "cell_type": "code",
   "execution_count": 239,
   "metadata": {},
   "outputs": [],
   "source": [
    "df = data['Adj Close']"
   ]
  },
  {
   "cell_type": "code",
   "execution_count": 240,
   "metadata": {},
   "outputs": [
    {
     "data": {
      "text/html": [
       "<div>\n",
       "<style scoped>\n",
       "    .dataframe tbody tr th:only-of-type {\n",
       "        vertical-align: middle;\n",
       "    }\n",
       "\n",
       "    .dataframe tbody tr th {\n",
       "        vertical-align: top;\n",
       "    }\n",
       "\n",
       "    .dataframe thead th {\n",
       "        text-align: right;\n",
       "    }\n",
       "</style>\n",
       "<table border=\"1\" class=\"dataframe\">\n",
       "  <thead>\n",
       "    <tr style=\"text-align: right;\">\n",
       "      <th></th>\n",
       "      <th>CL=F</th>\n",
       "      <th>GPSC.BK</th>\n",
       "      <th>PTT.BK</th>\n",
       "      <th>PTTEP.BK</th>\n",
       "      <th>PTTGC.BK</th>\n",
       "    </tr>\n",
       "    <tr>\n",
       "      <th>Date</th>\n",
       "      <th></th>\n",
       "      <th></th>\n",
       "      <th></th>\n",
       "      <th></th>\n",
       "      <th></th>\n",
       "    </tr>\n",
       "  </thead>\n",
       "  <tbody>\n",
       "    <tr>\n",
       "      <th>2017-01-03</th>\n",
       "      <td>52.330002</td>\n",
       "      <td>NaN</td>\n",
       "      <td>NaN</td>\n",
       "      <td>NaN</td>\n",
       "      <td>NaN</td>\n",
       "    </tr>\n",
       "    <tr>\n",
       "      <th>2017-01-04</th>\n",
       "      <td>53.259998</td>\n",
       "      <td>29.233919</td>\n",
       "      <td>30.196192</td>\n",
       "      <td>76.533470</td>\n",
       "      <td>49.715393</td>\n",
       "    </tr>\n",
       "    <tr>\n",
       "      <th>2017-01-05</th>\n",
       "      <td>53.759998</td>\n",
       "      <td>28.641338</td>\n",
       "      <td>30.752432</td>\n",
       "      <td>76.144981</td>\n",
       "      <td>49.909595</td>\n",
       "    </tr>\n",
       "    <tr>\n",
       "      <th>2017-01-06</th>\n",
       "      <td>53.990002</td>\n",
       "      <td>28.641338</td>\n",
       "      <td>30.911364</td>\n",
       "      <td>76.533470</td>\n",
       "      <td>49.715393</td>\n",
       "    </tr>\n",
       "    <tr>\n",
       "      <th>2017-01-09</th>\n",
       "      <td>51.959999</td>\n",
       "      <td>28.641338</td>\n",
       "      <td>30.434580</td>\n",
       "      <td>75.950729</td>\n",
       "      <td>49.132793</td>\n",
       "    </tr>\n",
       "    <tr>\n",
       "      <th>...</th>\n",
       "      <td>...</td>\n",
       "      <td>...</td>\n",
       "      <td>...</td>\n",
       "      <td>...</td>\n",
       "      <td>...</td>\n",
       "    </tr>\n",
       "    <tr>\n",
       "      <th>2021-09-24</th>\n",
       "      <td>73.980003</td>\n",
       "      <td>NaN</td>\n",
       "      <td>NaN</td>\n",
       "      <td>NaN</td>\n",
       "      <td>NaN</td>\n",
       "    </tr>\n",
       "    <tr>\n",
       "      <th>2021-09-27</th>\n",
       "      <td>75.449997</td>\n",
       "      <td>75.980133</td>\n",
       "      <td>38.509056</td>\n",
       "      <td>114.370789</td>\n",
       "      <td>59.785229</td>\n",
       "    </tr>\n",
       "    <tr>\n",
       "      <th>2021-09-28</th>\n",
       "      <td>75.290001</td>\n",
       "      <td>75.240067</td>\n",
       "      <td>38.509056</td>\n",
       "      <td>116.325844</td>\n",
       "      <td>61.721592</td>\n",
       "    </tr>\n",
       "    <tr>\n",
       "      <th>2021-09-29</th>\n",
       "      <td>74.830002</td>\n",
       "      <td>75.240067</td>\n",
       "      <td>38.460064</td>\n",
       "      <td>116.325844</td>\n",
       "      <td>61.237503</td>\n",
       "    </tr>\n",
       "    <tr>\n",
       "      <th>2021-09-30</th>\n",
       "      <td>75.029999</td>\n",
       "      <td>74.500000</td>\n",
       "      <td>38.215092</td>\n",
       "      <td>114.859550</td>\n",
       "      <td>61.237503</td>\n",
       "    </tr>\n",
       "  </tbody>\n",
       "</table>\n",
       "<p>1231 rows × 5 columns</p>\n",
       "</div>"
      ],
      "text/plain": [
       "                 CL=F    GPSC.BK     PTT.BK    PTTEP.BK   PTTGC.BK\n",
       "Date                                                              \n",
       "2017-01-03  52.330002        NaN        NaN         NaN        NaN\n",
       "2017-01-04  53.259998  29.233919  30.196192   76.533470  49.715393\n",
       "2017-01-05  53.759998  28.641338  30.752432   76.144981  49.909595\n",
       "2017-01-06  53.990002  28.641338  30.911364   76.533470  49.715393\n",
       "2017-01-09  51.959999  28.641338  30.434580   75.950729  49.132793\n",
       "...               ...        ...        ...         ...        ...\n",
       "2021-09-24  73.980003        NaN        NaN         NaN        NaN\n",
       "2021-09-27  75.449997  75.980133  38.509056  114.370789  59.785229\n",
       "2021-09-28  75.290001  75.240067  38.509056  116.325844  61.721592\n",
       "2021-09-29  74.830002  75.240067  38.460064  116.325844  61.237503\n",
       "2021-09-30  75.029999  74.500000  38.215092  114.859550  61.237503\n",
       "\n",
       "[1231 rows x 5 columns]"
      ]
     },
     "execution_count": 240,
     "metadata": {},
     "output_type": "execute_result"
    }
   ],
   "source": [
    "df"
   ]
  },
  {
   "cell_type": "code",
   "execution_count": 241,
   "metadata": {},
   "outputs": [],
   "source": [
    "df = df.fillna(method='ffill').pct_change()"
   ]
  },
  {
   "cell_type": "code",
   "execution_count": 242,
   "metadata": {},
   "outputs": [
    {
     "data": {
      "text/html": [
       "<div>\n",
       "<style scoped>\n",
       "    .dataframe tbody tr th:only-of-type {\n",
       "        vertical-align: middle;\n",
       "    }\n",
       "\n",
       "    .dataframe tbody tr th {\n",
       "        vertical-align: top;\n",
       "    }\n",
       "\n",
       "    .dataframe thead th {\n",
       "        text-align: right;\n",
       "    }\n",
       "</style>\n",
       "<table border=\"1\" class=\"dataframe\">\n",
       "  <thead>\n",
       "    <tr style=\"text-align: right;\">\n",
       "      <th></th>\n",
       "      <th>CL=F</th>\n",
       "      <th>GPSC.BK</th>\n",
       "      <th>PTT.BK</th>\n",
       "      <th>PTTEP.BK</th>\n",
       "      <th>PTTGC.BK</th>\n",
       "    </tr>\n",
       "    <tr>\n",
       "      <th>Date</th>\n",
       "      <th></th>\n",
       "      <th></th>\n",
       "      <th></th>\n",
       "      <th></th>\n",
       "      <th></th>\n",
       "    </tr>\n",
       "  </thead>\n",
       "  <tbody>\n",
       "    <tr>\n",
       "      <th>2017-01-03</th>\n",
       "      <td>NaN</td>\n",
       "      <td>NaN</td>\n",
       "      <td>NaN</td>\n",
       "      <td>NaN</td>\n",
       "      <td>NaN</td>\n",
       "    </tr>\n",
       "    <tr>\n",
       "      <th>2017-01-04</th>\n",
       "      <td>0.017772</td>\n",
       "      <td>NaN</td>\n",
       "      <td>NaN</td>\n",
       "      <td>NaN</td>\n",
       "      <td>NaN</td>\n",
       "    </tr>\n",
       "    <tr>\n",
       "      <th>2017-01-05</th>\n",
       "      <td>0.009388</td>\n",
       "      <td>-0.020270</td>\n",
       "      <td>0.018421</td>\n",
       "      <td>-0.005076</td>\n",
       "      <td>0.003906</td>\n",
       "    </tr>\n",
       "    <tr>\n",
       "      <th>2017-01-06</th>\n",
       "      <td>0.004278</td>\n",
       "      <td>0.000000</td>\n",
       "      <td>0.005168</td>\n",
       "      <td>0.005102</td>\n",
       "      <td>-0.003891</td>\n",
       "    </tr>\n",
       "    <tr>\n",
       "      <th>2017-01-09</th>\n",
       "      <td>-0.037600</td>\n",
       "      <td>0.000000</td>\n",
       "      <td>-0.015424</td>\n",
       "      <td>-0.007614</td>\n",
       "      <td>-0.011719</td>\n",
       "    </tr>\n",
       "    <tr>\n",
       "      <th>...</th>\n",
       "      <td>...</td>\n",
       "      <td>...</td>\n",
       "      <td>...</td>\n",
       "      <td>...</td>\n",
       "      <td>...</td>\n",
       "    </tr>\n",
       "    <tr>\n",
       "      <th>2021-09-24</th>\n",
       "      <td>0.009277</td>\n",
       "      <td>0.000000</td>\n",
       "      <td>0.000000</td>\n",
       "      <td>0.000000</td>\n",
       "      <td>0.000000</td>\n",
       "    </tr>\n",
       "    <tr>\n",
       "      <th>2021-09-27</th>\n",
       "      <td>0.019870</td>\n",
       "      <td>-0.012821</td>\n",
       "      <td>0.012500</td>\n",
       "      <td>0.035398</td>\n",
       "      <td>0.020661</td>\n",
       "    </tr>\n",
       "    <tr>\n",
       "      <th>2021-09-28</th>\n",
       "      <td>-0.002121</td>\n",
       "      <td>-0.009740</td>\n",
       "      <td>0.000000</td>\n",
       "      <td>0.017094</td>\n",
       "      <td>0.032389</td>\n",
       "    </tr>\n",
       "    <tr>\n",
       "      <th>2021-09-29</th>\n",
       "      <td>-0.006110</td>\n",
       "      <td>0.000000</td>\n",
       "      <td>-0.001272</td>\n",
       "      <td>0.000000</td>\n",
       "      <td>-0.007843</td>\n",
       "    </tr>\n",
       "    <tr>\n",
       "      <th>2021-09-30</th>\n",
       "      <td>0.002673</td>\n",
       "      <td>-0.009836</td>\n",
       "      <td>-0.006370</td>\n",
       "      <td>-0.012605</td>\n",
       "      <td>0.000000</td>\n",
       "    </tr>\n",
       "  </tbody>\n",
       "</table>\n",
       "<p>1231 rows × 5 columns</p>\n",
       "</div>"
      ],
      "text/plain": [
       "                CL=F   GPSC.BK    PTT.BK  PTTEP.BK  PTTGC.BK\n",
       "Date                                                        \n",
       "2017-01-03       NaN       NaN       NaN       NaN       NaN\n",
       "2017-01-04  0.017772       NaN       NaN       NaN       NaN\n",
       "2017-01-05  0.009388 -0.020270  0.018421 -0.005076  0.003906\n",
       "2017-01-06  0.004278  0.000000  0.005168  0.005102 -0.003891\n",
       "2017-01-09 -0.037600  0.000000 -0.015424 -0.007614 -0.011719\n",
       "...              ...       ...       ...       ...       ...\n",
       "2021-09-24  0.009277  0.000000  0.000000  0.000000  0.000000\n",
       "2021-09-27  0.019870 -0.012821  0.012500  0.035398  0.020661\n",
       "2021-09-28 -0.002121 -0.009740  0.000000  0.017094  0.032389\n",
       "2021-09-29 -0.006110  0.000000 -0.001272  0.000000 -0.007843\n",
       "2021-09-30  0.002673 -0.009836 -0.006370 -0.012605  0.000000\n",
       "\n",
       "[1231 rows x 5 columns]"
      ]
     },
     "execution_count": 242,
     "metadata": {},
     "output_type": "execute_result"
    }
   ],
   "source": [
    "df"
   ]
  },
  {
   "cell_type": "code",
   "execution_count": 243,
   "metadata": {},
   "outputs": [],
   "source": [
    "df = df.dropna()"
   ]
  },
  {
   "cell_type": "code",
   "execution_count": 244,
   "metadata": {},
   "outputs": [],
   "source": [
    "df = df[(df != 0).all(1)]"
   ]
  },
  {
   "cell_type": "code",
   "execution_count": 245,
   "metadata": {},
   "outputs": [
    {
     "data": {
      "text/html": [
       "<div>\n",
       "<style scoped>\n",
       "    .dataframe tbody tr th:only-of-type {\n",
       "        vertical-align: middle;\n",
       "    }\n",
       "\n",
       "    .dataframe tbody tr th {\n",
       "        vertical-align: top;\n",
       "    }\n",
       "\n",
       "    .dataframe thead th {\n",
       "        text-align: right;\n",
       "    }\n",
       "</style>\n",
       "<table border=\"1\" class=\"dataframe\">\n",
       "  <thead>\n",
       "    <tr style=\"text-align: right;\">\n",
       "      <th></th>\n",
       "      <th>CL=F</th>\n",
       "      <th>GPSC.BK</th>\n",
       "      <th>PTT.BK</th>\n",
       "      <th>PTTEP.BK</th>\n",
       "      <th>PTTGC.BK</th>\n",
       "    </tr>\n",
       "    <tr>\n",
       "      <th>Date</th>\n",
       "      <th></th>\n",
       "      <th></th>\n",
       "      <th></th>\n",
       "      <th></th>\n",
       "      <th></th>\n",
       "    </tr>\n",
       "  </thead>\n",
       "  <tbody>\n",
       "    <tr>\n",
       "      <th>2017-01-05</th>\n",
       "      <td>0.009388</td>\n",
       "      <td>-0.020270</td>\n",
       "      <td>0.018421</td>\n",
       "      <td>-0.005076</td>\n",
       "      <td>0.003906</td>\n",
       "    </tr>\n",
       "    <tr>\n",
       "      <th>2017-01-10</th>\n",
       "      <td>-0.021940</td>\n",
       "      <td>0.006897</td>\n",
       "      <td>0.013055</td>\n",
       "      <td>-0.017903</td>\n",
       "      <td>0.003953</td>\n",
       "    </tr>\n",
       "    <tr>\n",
       "      <th>2017-01-11</th>\n",
       "      <td>0.028139</td>\n",
       "      <td>0.006849</td>\n",
       "      <td>-0.007732</td>\n",
       "      <td>0.005208</td>\n",
       "      <td>-0.003937</td>\n",
       "    </tr>\n",
       "    <tr>\n",
       "      <th>2017-01-17</th>\n",
       "      <td>0.002100</td>\n",
       "      <td>-0.006849</td>\n",
       "      <td>-0.005142</td>\n",
       "      <td>-0.007752</td>\n",
       "      <td>-0.019157</td>\n",
       "    </tr>\n",
       "    <tr>\n",
       "      <th>2017-01-18</th>\n",
       "      <td>-0.026677</td>\n",
       "      <td>-0.006897</td>\n",
       "      <td>-0.005168</td>\n",
       "      <td>-0.015625</td>\n",
       "      <td>0.019531</td>\n",
       "    </tr>\n",
       "    <tr>\n",
       "      <th>...</th>\n",
       "      <td>...</td>\n",
       "      <td>...</td>\n",
       "      <td>...</td>\n",
       "      <td>...</td>\n",
       "      <td>...</td>\n",
       "    </tr>\n",
       "    <tr>\n",
       "      <th>2021-09-08</th>\n",
       "      <td>0.013899</td>\n",
       "      <td>0.003106</td>\n",
       "      <td>-0.006667</td>\n",
       "      <td>-0.013889</td>\n",
       "      <td>0.004219</td>\n",
       "    </tr>\n",
       "    <tr>\n",
       "      <th>2021-09-10</th>\n",
       "      <td>0.023188</td>\n",
       "      <td>-0.006231</td>\n",
       "      <td>0.020134</td>\n",
       "      <td>0.004717</td>\n",
       "      <td>-0.004149</td>\n",
       "    </tr>\n",
       "    <tr>\n",
       "      <th>2021-09-14</th>\n",
       "      <td>0.000142</td>\n",
       "      <td>-0.003135</td>\n",
       "      <td>0.019608</td>\n",
       "      <td>0.041667</td>\n",
       "      <td>0.004132</td>\n",
       "    </tr>\n",
       "    <tr>\n",
       "      <th>2021-09-21</th>\n",
       "      <td>0.003841</td>\n",
       "      <td>0.013029</td>\n",
       "      <td>0.012820</td>\n",
       "      <td>0.008969</td>\n",
       "      <td>0.012766</td>\n",
       "    </tr>\n",
       "    <tr>\n",
       "      <th>2021-09-27</th>\n",
       "      <td>0.019870</td>\n",
       "      <td>-0.012821</td>\n",
       "      <td>0.012500</td>\n",
       "      <td>0.035398</td>\n",
       "      <td>0.020661</td>\n",
       "    </tr>\n",
       "  </tbody>\n",
       "</table>\n",
       "<p>663 rows × 5 columns</p>\n",
       "</div>"
      ],
      "text/plain": [
       "                CL=F   GPSC.BK    PTT.BK  PTTEP.BK  PTTGC.BK\n",
       "Date                                                        \n",
       "2017-01-05  0.009388 -0.020270  0.018421 -0.005076  0.003906\n",
       "2017-01-10 -0.021940  0.006897  0.013055 -0.017903  0.003953\n",
       "2017-01-11  0.028139  0.006849 -0.007732  0.005208 -0.003937\n",
       "2017-01-17  0.002100 -0.006849 -0.005142 -0.007752 -0.019157\n",
       "2017-01-18 -0.026677 -0.006897 -0.005168 -0.015625  0.019531\n",
       "...              ...       ...       ...       ...       ...\n",
       "2021-09-08  0.013899  0.003106 -0.006667 -0.013889  0.004219\n",
       "2021-09-10  0.023188 -0.006231  0.020134  0.004717 -0.004149\n",
       "2021-09-14  0.000142 -0.003135  0.019608  0.041667  0.004132\n",
       "2021-09-21  0.003841  0.013029  0.012820  0.008969  0.012766\n",
       "2021-09-27  0.019870 -0.012821  0.012500  0.035398  0.020661\n",
       "\n",
       "[663 rows x 5 columns]"
      ]
     },
     "execution_count": 245,
     "metadata": {},
     "output_type": "execute_result"
    }
   ],
   "source": [
    "df"
   ]
  },
  {
   "cell_type": "code",
   "execution_count": 246,
   "metadata": {},
   "outputs": [],
   "source": [
    "df = df[['CL=F', 'GPSC.BK', 'PTTEP.BK', 'PTTGC.BK', 'PTT.BK']]"
   ]
  },
  {
   "cell_type": "code",
   "execution_count": 247,
   "metadata": {},
   "outputs": [
    {
     "data": {
      "text/html": [
       "<div>\n",
       "<style scoped>\n",
       "    .dataframe tbody tr th:only-of-type {\n",
       "        vertical-align: middle;\n",
       "    }\n",
       "\n",
       "    .dataframe tbody tr th {\n",
       "        vertical-align: top;\n",
       "    }\n",
       "\n",
       "    .dataframe thead th {\n",
       "        text-align: right;\n",
       "    }\n",
       "</style>\n",
       "<table border=\"1\" class=\"dataframe\">\n",
       "  <thead>\n",
       "    <tr style=\"text-align: right;\">\n",
       "      <th></th>\n",
       "      <th>CL=F</th>\n",
       "      <th>GPSC.BK</th>\n",
       "      <th>PTTEP.BK</th>\n",
       "      <th>PTTGC.BK</th>\n",
       "      <th>PTT.BK</th>\n",
       "    </tr>\n",
       "    <tr>\n",
       "      <th>Date</th>\n",
       "      <th></th>\n",
       "      <th></th>\n",
       "      <th></th>\n",
       "      <th></th>\n",
       "      <th></th>\n",
       "    </tr>\n",
       "  </thead>\n",
       "  <tbody>\n",
       "    <tr>\n",
       "      <th>2017-01-05</th>\n",
       "      <td>0.009388</td>\n",
       "      <td>-0.02027</td>\n",
       "      <td>-0.005076</td>\n",
       "      <td>0.003906</td>\n",
       "      <td>0.018421</td>\n",
       "    </tr>\n",
       "  </tbody>\n",
       "</table>\n",
       "</div>"
      ],
      "text/plain": [
       "                CL=F  GPSC.BK  PTTEP.BK  PTTGC.BK    PTT.BK\n",
       "Date                                                       \n",
       "2017-01-05  0.009388 -0.02027 -0.005076  0.003906  0.018421"
      ]
     },
     "execution_count": 247,
     "metadata": {},
     "output_type": "execute_result"
    }
   ],
   "source": [
    "df.head(1)"
   ]
  },
  {
   "cell_type": "code",
   "execution_count": 248,
   "metadata": {},
   "outputs": [],
   "source": [
    "X = df.iloc[:,:-1]\n",
    "y = df.iloc[:,-1]"
   ]
  },
  {
   "cell_type": "code",
   "execution_count": 249,
   "metadata": {},
   "outputs": [
    {
     "data": {
      "text/html": [
       "<div>\n",
       "<style scoped>\n",
       "    .dataframe tbody tr th:only-of-type {\n",
       "        vertical-align: middle;\n",
       "    }\n",
       "\n",
       "    .dataframe tbody tr th {\n",
       "        vertical-align: top;\n",
       "    }\n",
       "\n",
       "    .dataframe thead th {\n",
       "        text-align: right;\n",
       "    }\n",
       "</style>\n",
       "<table border=\"1\" class=\"dataframe\">\n",
       "  <thead>\n",
       "    <tr style=\"text-align: right;\">\n",
       "      <th></th>\n",
       "      <th>CL=F</th>\n",
       "      <th>GPSC.BK</th>\n",
       "      <th>PTTEP.BK</th>\n",
       "      <th>PTTGC.BK</th>\n",
       "    </tr>\n",
       "    <tr>\n",
       "      <th>Date</th>\n",
       "      <th></th>\n",
       "      <th></th>\n",
       "      <th></th>\n",
       "      <th></th>\n",
       "    </tr>\n",
       "  </thead>\n",
       "  <tbody>\n",
       "    <tr>\n",
       "      <th>2017-01-05</th>\n",
       "      <td>0.009388</td>\n",
       "      <td>-0.020270</td>\n",
       "      <td>-0.005076</td>\n",
       "      <td>0.003906</td>\n",
       "    </tr>\n",
       "    <tr>\n",
       "      <th>2017-01-10</th>\n",
       "      <td>-0.021940</td>\n",
       "      <td>0.006897</td>\n",
       "      <td>-0.017903</td>\n",
       "      <td>0.003953</td>\n",
       "    </tr>\n",
       "    <tr>\n",
       "      <th>2017-01-11</th>\n",
       "      <td>0.028139</td>\n",
       "      <td>0.006849</td>\n",
       "      <td>0.005208</td>\n",
       "      <td>-0.003937</td>\n",
       "    </tr>\n",
       "    <tr>\n",
       "      <th>2017-01-17</th>\n",
       "      <td>0.002100</td>\n",
       "      <td>-0.006849</td>\n",
       "      <td>-0.007752</td>\n",
       "      <td>-0.019157</td>\n",
       "    </tr>\n",
       "    <tr>\n",
       "      <th>2017-01-18</th>\n",
       "      <td>-0.026677</td>\n",
       "      <td>-0.006897</td>\n",
       "      <td>-0.015625</td>\n",
       "      <td>0.019531</td>\n",
       "    </tr>\n",
       "    <tr>\n",
       "      <th>...</th>\n",
       "      <td>...</td>\n",
       "      <td>...</td>\n",
       "      <td>...</td>\n",
       "      <td>...</td>\n",
       "    </tr>\n",
       "    <tr>\n",
       "      <th>2021-09-08</th>\n",
       "      <td>0.013899</td>\n",
       "      <td>0.003106</td>\n",
       "      <td>-0.013889</td>\n",
       "      <td>0.004219</td>\n",
       "    </tr>\n",
       "    <tr>\n",
       "      <th>2021-09-10</th>\n",
       "      <td>0.023188</td>\n",
       "      <td>-0.006231</td>\n",
       "      <td>0.004717</td>\n",
       "      <td>-0.004149</td>\n",
       "    </tr>\n",
       "    <tr>\n",
       "      <th>2021-09-14</th>\n",
       "      <td>0.000142</td>\n",
       "      <td>-0.003135</td>\n",
       "      <td>0.041667</td>\n",
       "      <td>0.004132</td>\n",
       "    </tr>\n",
       "    <tr>\n",
       "      <th>2021-09-21</th>\n",
       "      <td>0.003841</td>\n",
       "      <td>0.013029</td>\n",
       "      <td>0.008969</td>\n",
       "      <td>0.012766</td>\n",
       "    </tr>\n",
       "    <tr>\n",
       "      <th>2021-09-27</th>\n",
       "      <td>0.019870</td>\n",
       "      <td>-0.012821</td>\n",
       "      <td>0.035398</td>\n",
       "      <td>0.020661</td>\n",
       "    </tr>\n",
       "  </tbody>\n",
       "</table>\n",
       "<p>663 rows × 4 columns</p>\n",
       "</div>"
      ],
      "text/plain": [
       "                CL=F   GPSC.BK  PTTEP.BK  PTTGC.BK\n",
       "Date                                              \n",
       "2017-01-05  0.009388 -0.020270 -0.005076  0.003906\n",
       "2017-01-10 -0.021940  0.006897 -0.017903  0.003953\n",
       "2017-01-11  0.028139  0.006849  0.005208 -0.003937\n",
       "2017-01-17  0.002100 -0.006849 -0.007752 -0.019157\n",
       "2017-01-18 -0.026677 -0.006897 -0.015625  0.019531\n",
       "...              ...       ...       ...       ...\n",
       "2021-09-08  0.013899  0.003106 -0.013889  0.004219\n",
       "2021-09-10  0.023188 -0.006231  0.004717 -0.004149\n",
       "2021-09-14  0.000142 -0.003135  0.041667  0.004132\n",
       "2021-09-21  0.003841  0.013029  0.008969  0.012766\n",
       "2021-09-27  0.019870 -0.012821  0.035398  0.020661\n",
       "\n",
       "[663 rows x 4 columns]"
      ]
     },
     "execution_count": 249,
     "metadata": {},
     "output_type": "execute_result"
    }
   ],
   "source": [
    "X"
   ]
  },
  {
   "cell_type": "code",
   "execution_count": 250,
   "metadata": {},
   "outputs": [
    {
     "data": {
      "text/plain": [
       "Date\n",
       "2017-01-05    0.018421\n",
       "2017-01-10    0.013055\n",
       "2017-01-11   -0.007732\n",
       "2017-01-17   -0.005142\n",
       "2017-01-18   -0.005168\n",
       "                ...   \n",
       "2021-09-08   -0.006667\n",
       "2021-09-10    0.020134\n",
       "2021-09-14    0.019608\n",
       "2021-09-21    0.012820\n",
       "2021-09-27    0.012500\n",
       "Name: PTT.BK, Length: 663, dtype: float64"
      ]
     },
     "execution_count": 250,
     "metadata": {},
     "output_type": "execute_result"
    }
   ],
   "source": [
    "y"
   ]
  },
  {
   "cell_type": "markdown",
   "metadata": {},
   "source": [
    "### Resubstitution"
   ]
  },
  {
   "cell_type": "code",
   "execution_count": 251,
   "metadata": {},
   "outputs": [],
   "source": [
    "model = LinearRegression()\n",
    "reg = model.fit(X, y)"
   ]
  },
  {
   "cell_type": "code",
   "execution_count": 252,
   "metadata": {},
   "outputs": [
    {
     "data": {
      "text/plain": [
       "0.751435734569647"
      ]
     },
     "execution_count": 252,
     "metadata": {},
     "output_type": "execute_result"
    }
   ],
   "source": [
    "reg.score(X, y)"
   ]
  },
  {
   "cell_type": "code",
   "execution_count": 253,
   "metadata": {},
   "outputs": [
    {
     "data": {
      "text/plain": [
       "array([0.00881988, 0.04138212, 0.49392393, 0.25141417])"
      ]
     },
     "execution_count": 253,
     "metadata": {},
     "output_type": "execute_result"
    }
   ],
   "source": [
    "reg.coef_"
   ]
  },
  {
   "cell_type": "code",
   "execution_count": 254,
   "metadata": {},
   "outputs": [
    {
     "data": {
      "text/plain": [
       "CL=F        0.013899\n",
       "GPSC.BK     0.003106\n",
       "PTTEP.BK   -0.013889\n",
       "PTTGC.BK    0.004219\n",
       "Name: 2021-09-08 00:00:00, dtype: float64"
      ]
     },
     "execution_count": 254,
     "metadata": {},
     "output_type": "execute_result"
    }
   ],
   "source": [
    "X.iloc[-5]"
   ]
  },
  {
   "cell_type": "code",
   "execution_count": 255,
   "metadata": {},
   "outputs": [
    {
     "name": "stderr",
     "output_type": "stream",
     "text": [
      "c:\\Users\\gunsr\\anaconda3\\envs\\investing\\lib\\site-packages\\sklearn\\base.py:450: UserWarning: X does not have valid feature names, but LinearRegression was fitted with feature names\n",
      "  warnings.warn(\n"
     ]
    },
    {
     "data": {
      "text/plain": [
       "array([-0.00552167])"
      ]
     },
     "execution_count": 255,
     "metadata": {},
     "output_type": "execute_result"
    }
   ],
   "source": [
    "reg.predict(X.iloc[-5].values.reshape(1, -1))"
   ]
  },
  {
   "cell_type": "code",
   "execution_count": 256,
   "metadata": {},
   "outputs": [
    {
     "data": {
      "text/plain": [
       "-0.006666633858078197"
      ]
     },
     "execution_count": 256,
     "metadata": {},
     "output_type": "execute_result"
    }
   ],
   "source": [
    "y.iloc[-5]"
   ]
  },
  {
   "cell_type": "markdown",
   "metadata": {},
   "source": [
    "### Holdout"
   ]
  },
  {
   "cell_type": "code",
   "execution_count": 257,
   "metadata": {},
   "outputs": [],
   "source": [
    "X_train, X_test, y_train, y_test = train_test_split(X, y, test_size=0.3, random_state=2)"
   ]
  },
  {
   "cell_type": "code",
   "execution_count": 258,
   "metadata": {},
   "outputs": [
    {
     "data": {
      "text/html": [
       "<div>\n",
       "<style scoped>\n",
       "    .dataframe tbody tr th:only-of-type {\n",
       "        vertical-align: middle;\n",
       "    }\n",
       "\n",
       "    .dataframe tbody tr th {\n",
       "        vertical-align: top;\n",
       "    }\n",
       "\n",
       "    .dataframe thead th {\n",
       "        text-align: right;\n",
       "    }\n",
       "</style>\n",
       "<table border=\"1\" class=\"dataframe\">\n",
       "  <thead>\n",
       "    <tr style=\"text-align: right;\">\n",
       "      <th></th>\n",
       "      <th>CL=F</th>\n",
       "      <th>GPSC.BK</th>\n",
       "      <th>PTTEP.BK</th>\n",
       "      <th>PTTGC.BK</th>\n",
       "    </tr>\n",
       "    <tr>\n",
       "      <th>Date</th>\n",
       "      <th></th>\n",
       "      <th></th>\n",
       "      <th></th>\n",
       "      <th></th>\n",
       "    </tr>\n",
       "  </thead>\n",
       "  <tbody>\n",
       "    <tr>\n",
       "      <th>2017-11-29</th>\n",
       "      <td>-0.011899</td>\n",
       "      <td>-0.013274</td>\n",
       "      <td>-0.016043</td>\n",
       "      <td>0.009554</td>\n",
       "    </tr>\n",
       "    <tr>\n",
       "      <th>2020-03-31</th>\n",
       "      <td>0.019413</td>\n",
       "      <td>0.036364</td>\n",
       "      <td>0.071428</td>\n",
       "      <td>0.109091</td>\n",
       "    </tr>\n",
       "    <tr>\n",
       "      <th>2021-07-19</th>\n",
       "      <td>-0.075059</td>\n",
       "      <td>0.012618</td>\n",
       "      <td>-0.022321</td>\n",
       "      <td>-0.012931</td>\n",
       "    </tr>\n",
       "    <tr>\n",
       "      <th>2020-06-24</th>\n",
       "      <td>-0.058459</td>\n",
       "      <td>-0.025974</td>\n",
       "      <td>-0.036364</td>\n",
       "      <td>-0.036842</td>\n",
       "    </tr>\n",
       "    <tr>\n",
       "      <th>2018-03-19</th>\n",
       "      <td>-0.004491</td>\n",
       "      <td>0.006689</td>\n",
       "      <td>-0.004274</td>\n",
       "      <td>-0.024876</td>\n",
       "    </tr>\n",
       "    <tr>\n",
       "      <th>...</th>\n",
       "      <td>...</td>\n",
       "      <td>...</td>\n",
       "      <td>...</td>\n",
       "      <td>...</td>\n",
       "    </tr>\n",
       "    <tr>\n",
       "      <th>2020-10-16</th>\n",
       "      <td>-0.001953</td>\n",
       "      <td>0.004464</td>\n",
       "      <td>-0.003106</td>\n",
       "      <td>-0.011976</td>\n",
       "    </tr>\n",
       "    <tr>\n",
       "      <th>2021-02-19</th>\n",
       "      <td>-0.021150</td>\n",
       "      <td>-0.015823</td>\n",
       "      <td>-0.021930</td>\n",
       "      <td>-0.030534</td>\n",
       "    </tr>\n",
       "    <tr>\n",
       "      <th>2020-07-20</th>\n",
       "      <td>0.005420</td>\n",
       "      <td>-0.003356</td>\n",
       "      <td>-0.002660</td>\n",
       "      <td>0.010582</td>\n",
       "    </tr>\n",
       "    <tr>\n",
       "      <th>2020-10-01</th>\n",
       "      <td>-0.037295</td>\n",
       "      <td>0.021739</td>\n",
       "      <td>0.006329</td>\n",
       "      <td>0.019108</td>\n",
       "    </tr>\n",
       "    <tr>\n",
       "      <th>2018-04-25</th>\n",
       "      <td>0.005170</td>\n",
       "      <td>-0.003379</td>\n",
       "      <td>-0.028985</td>\n",
       "      <td>-0.010152</td>\n",
       "    </tr>\n",
       "  </tbody>\n",
       "</table>\n",
       "<p>464 rows × 4 columns</p>\n",
       "</div>"
      ],
      "text/plain": [
       "                CL=F   GPSC.BK  PTTEP.BK  PTTGC.BK\n",
       "Date                                              \n",
       "2017-11-29 -0.011899 -0.013274 -0.016043  0.009554\n",
       "2020-03-31  0.019413  0.036364  0.071428  0.109091\n",
       "2021-07-19 -0.075059  0.012618 -0.022321 -0.012931\n",
       "2020-06-24 -0.058459 -0.025974 -0.036364 -0.036842\n",
       "2018-03-19 -0.004491  0.006689 -0.004274 -0.024876\n",
       "...              ...       ...       ...       ...\n",
       "2020-10-16 -0.001953  0.004464 -0.003106 -0.011976\n",
       "2021-02-19 -0.021150 -0.015823 -0.021930 -0.030534\n",
       "2020-07-20  0.005420 -0.003356 -0.002660  0.010582\n",
       "2020-10-01 -0.037295  0.021739  0.006329  0.019108\n",
       "2018-04-25  0.005170 -0.003379 -0.028985 -0.010152\n",
       "\n",
       "[464 rows x 4 columns]"
      ]
     },
     "execution_count": 258,
     "metadata": {},
     "output_type": "execute_result"
    }
   ],
   "source": [
    "X_train"
   ]
  },
  {
   "cell_type": "code",
   "execution_count": 259,
   "metadata": {},
   "outputs": [
    {
     "data": {
      "text/plain": [
       "Date\n",
       "2017-11-29   -0.004831\n",
       "2020-03-31    0.060345\n",
       "2021-07-19   -0.026667\n",
       "2020-06-24   -0.032258\n",
       "2018-03-19   -0.021898\n",
       "                ...   \n",
       "2020-10-16   -0.007576\n",
       "2021-02-19   -0.012346\n",
       "2020-07-20   -0.006452\n",
       "2020-10-01    0.031250\n",
       "2018-04-25   -0.008621\n",
       "Name: PTT.BK, Length: 464, dtype: float64"
      ]
     },
     "execution_count": 259,
     "metadata": {},
     "output_type": "execute_result"
    }
   ],
   "source": [
    "y_train"
   ]
  },
  {
   "cell_type": "code",
   "execution_count": 260,
   "metadata": {},
   "outputs": [],
   "source": [
    "model = LinearRegression()\n",
    "reg = model.fit(X_train, y_train)"
   ]
  },
  {
   "cell_type": "code",
   "execution_count": 261,
   "metadata": {},
   "outputs": [
    {
     "data": {
      "text/plain": [
       "0.6081402508817301"
      ]
     },
     "execution_count": 261,
     "metadata": {},
     "output_type": "execute_result"
    }
   ],
   "source": [
    "reg.score(X_test, y_test)"
   ]
  },
  {
   "cell_type": "code",
   "execution_count": 262,
   "metadata": {},
   "outputs": [],
   "source": [
    "y_pred = model.predict(X_test)"
   ]
  },
  {
   "cell_type": "code",
   "execution_count": 263,
   "metadata": {},
   "outputs": [
    {
     "data": {
      "text/plain": [
       "array([-1.70860533e-02, -3.23585374e-03, -2.47881858e-02, -8.46150692e-03,\n",
       "       -1.36529945e-03,  4.05564461e-05,  2.66685575e-03,  4.17573772e-02,\n",
       "       -2.02939159e-02,  7.71734689e-04,  9.71780961e-03,  3.19722733e-03,\n",
       "        2.98609010e-02,  2.04381380e-02,  4.14562794e-03, -1.21697748e-02,\n",
       "       -5.84192237e-03, -7.67034512e-03,  3.97945188e-03,  2.87854317e-03,\n",
       "        9.37288292e-03, -3.27017569e-03,  2.67948581e-02,  4.17612021e-02,\n",
       "       -8.98922107e-03,  3.34777119e-02,  1.63684542e-02, -2.12600685e-02,\n",
       "        2.93177927e-03, -1.08683332e-02,  8.26559898e-03, -1.94291367e-02,\n",
       "        3.31594194e-02, -6.06248229e-03,  2.67370685e-02,  8.53521038e-03,\n",
       "        4.31399630e-03, -1.02581419e-02,  4.28199726e-03, -1.64003061e-02,\n",
       "       -1.15604469e-02, -1.88403982e-03,  1.50137115e-02, -1.09247767e-02,\n",
       "       -2.49577534e-02, -1.15254258e-02,  4.59198593e-03,  2.73362038e-02,\n",
       "       -2.84399546e-02, -2.48091455e-03,  1.43355108e-02,  3.67856173e-03,\n",
       "       -4.47391016e-02,  7.72462899e-04,  8.24672984e-08,  8.65891180e-03,\n",
       "       -9.16894331e-03,  1.08478358e-02,  6.36960007e-03, -1.28124355e-02,\n",
       "       -9.95667731e-03,  2.64641465e-02,  6.93877937e-03,  2.74823198e-03,\n",
       "        1.27028811e-03,  6.25844964e-03, -1.89974088e-02, -1.21335980e-02,\n",
       "       -7.20054857e-03,  1.49208125e-02, -6.76604837e-04, -8.16922513e-03,\n",
       "        9.94345437e-03, -2.42905374e-02,  1.37679394e-04, -2.43140478e-02,\n",
       "        3.18561754e-04,  1.49544024e-02, -6.98411273e-03,  4.71990374e-03,\n",
       "        1.62684496e-02,  2.83294235e-03,  2.96538077e-04,  1.39713130e-03,\n",
       "        5.69494162e-03, -1.01808144e-02,  1.16820739e-03,  8.17746670e-03,\n",
       "       -1.34270454e-02, -5.50424314e-03,  4.41682625e-03,  1.35586957e-02,\n",
       "        1.54857899e-02, -6.40384265e-03, -7.79501346e-03, -1.30252539e-02,\n",
       "        3.81778974e-02,  9.98826456e-03,  1.54165399e-02, -9.75536777e-03,\n",
       "       -4.66379233e-02, -4.13252482e-04, -9.97181918e-03, -4.74822989e-03,\n",
       "        1.98854735e-03, -2.91685177e-03,  5.12685912e-03,  2.08844637e-02,\n",
       "        1.82748070e-02,  1.32890868e-02, -7.78337765e-03, -2.86235251e-03,\n",
       "        5.26965074e-03, -4.66423249e-03,  1.32027873e-02, -6.38315677e-03,\n",
       "       -2.19732853e-02,  1.03312023e-02,  4.98479751e-03,  3.57148648e-03,\n",
       "        5.42372241e-03,  1.49596799e-02, -4.14847519e-04, -7.77689110e-03,\n",
       "        5.60067135e-03,  1.73070005e-02, -2.60680381e-03, -3.53195856e-02,\n",
       "        1.13196897e-02, -4.14113765e-02,  6.24081916e-02,  6.70456328e-03,\n",
       "       -9.55828017e-02,  5.67480522e-02, -3.38099433e-03, -7.80925922e-03,\n",
       "       -6.73252793e-03, -3.02108155e-03,  5.63820187e-02, -8.02558717e-03,\n",
       "        9.79757464e-03,  3.56498032e-03, -7.00015632e-03,  2.31648727e-02,\n",
       "        1.17068087e-03, -9.22895561e-03, -3.44056454e-02, -1.33310615e-02,\n",
       "        2.76679132e-02, -2.28906843e-02, -7.46181025e-04, -3.26080216e-03,\n",
       "        1.42877540e-02, -2.73973834e-03, -1.11848537e-02,  5.77473345e-03,\n",
       "       -3.89262642e-03,  4.48306964e-03, -1.97083095e-02, -1.66497064e-02,\n",
       "       -1.64337720e-04,  2.40105756e-02,  6.33526010e-03, -1.13607141e-02,\n",
       "        8.00032374e-03,  7.58128356e-03, -5.28676619e-03,  1.31508573e-02,\n",
       "        2.55643739e-03,  1.09891873e-02, -5.91037646e-03,  3.41158056e-03,\n",
       "        6.08139276e-03, -3.22424292e-03,  6.26176175e-03, -1.27783333e-02,\n",
       "        3.01434126e-02, -2.81285671e-02, -5.74207497e-03, -9.71095629e-02,\n",
       "        1.09061275e-02,  1.40916974e-02,  6.04432335e-04, -4.80382873e-03,\n",
       "       -4.39353923e-03,  5.85429303e-03, -2.12091140e-02,  9.05356252e-03,\n",
       "       -1.58190509e-02, -5.06634627e-04,  5.79650912e-03,  1.20673666e-02,\n",
       "       -6.30602992e-03, -6.45621427e-03, -6.97864448e-03,  7.18058187e-03,\n",
       "       -6.61882815e-03,  1.36400505e-03,  1.78277579e-02])"
      ]
     },
     "execution_count": 263,
     "metadata": {},
     "output_type": "execute_result"
    }
   ],
   "source": [
    "y_pred"
   ]
  },
  {
   "cell_type": "code",
   "execution_count": 264,
   "metadata": {},
   "outputs": [
    {
     "name": "stdout",
     "output_type": "stream",
     "text": [
      "Score =  0.6081402508817301\n"
     ]
    }
   ],
   "source": [
    "print(\"Score = \", metrics.r2_score(y_test, y_pred))"
   ]
  },
  {
   "cell_type": "code",
   "execution_count": 265,
   "metadata": {},
   "outputs": [
    {
     "data": {
      "text/plain": [
       "array([0.01504384, 0.04233154, 0.48009616, 0.29157328])"
      ]
     },
     "execution_count": 265,
     "metadata": {},
     "output_type": "execute_result"
    }
   ],
   "source": [
    "reg.coef_"
   ]
  },
  {
   "cell_type": "code",
   "execution_count": 266,
   "metadata": {},
   "outputs": [],
   "source": [
    "m = model.coef_\n",
    "b = model.intercept_"
   ]
  },
  {
   "cell_type": "code",
   "execution_count": 267,
   "metadata": {},
   "outputs": [
    {
     "data": {
      "text/plain": [
       "array([0.01504384, 0.04233154, 0.48009616, 0.29157328])"
      ]
     },
     "execution_count": 267,
     "metadata": {},
     "output_type": "execute_result"
    }
   ],
   "source": [
    "m"
   ]
  },
  {
   "cell_type": "code",
   "execution_count": 268,
   "metadata": {},
   "outputs": [
    {
     "data": {
      "text/plain": [
       "-0.0001895907701252998"
      ]
     },
     "execution_count": 268,
     "metadata": {},
     "output_type": "execute_result"
    }
   ],
   "source": [
    "b"
   ]
  },
  {
   "cell_type": "code",
   "execution_count": 269,
   "metadata": {},
   "outputs": [
    {
     "data": {
      "text/plain": [
       "<matplotlib.collections.PathCollection at 0x1992b16b9d0>"
      ]
     },
     "execution_count": 269,
     "metadata": {},
     "output_type": "execute_result"
    },
    {
     "data": {
      "image/png": "[encoded data removed]",
      "text/plain": [
       "<Figure size 432x288 with 1 Axes>"
      ]
     },
     "metadata": {
      "needs_background": "light"
     },
     "output_type": "display_data"
    }
   ],
   "source": [
    "plt.scatter(y_pred, y_test)"
   ]
  },
  {
   "cell_type": "code",
   "execution_count": 271,
   "metadata": {},
   "outputs": [
    {
     "name": "stdout",
     "output_type": "stream",
     "text": [
      "MAE =  0.00949483578407298\n",
      "MSE =  0.0001655114433014599\n",
      "RMSE =  0.012865125079122236\n"
     ]
    }
   ],
   "source": [
    "print(\"MAE = \", metrics.mean_absolute_error(y_test, y_pred))\n",
    "print(\"MSE = \", metrics.mean_squared_error(y_test, y_pred))\n",
    "print(\"RMSE = \", np.sqrt(metrics.mean_squared_error(y_test, y_pred)))"
   ]
  },
  {
   "cell_type": "code",
   "execution_count": null,
   "metadata": {},
   "outputs": [],
   "source": []
  }
 ],
 "metadata": {
  "kernelspec": {
   "display_name": "Python 3.8.13 ('investing')",
   "language": "python",
   "name": "python3"
  },
  "language_info": {
   "codemirror_mode": {
    "name": "ipython",
    "version": 3
   },
   "file_extension": ".py",
   "mimetype": "text/x-python",
   "name": "python",
   "nbconvert_exporter": "python",
   "pygments_lexer": "ipython3",
   "version": "3.8.13"
  },
  "orig_nbformat": 4,
  "vscode": {
   "interpreter": {
    "hash": "d2497507432cfc585cd7327480b40494886a92263503e9edae1616dd76c3ce3b"
   }
  }
 },
 "nbformat": 4,
 "nbformat_minor": 2
}
