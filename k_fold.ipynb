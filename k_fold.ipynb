{
 "cells": [
  {
   "cell_type": "code",
   "execution_count": 48,
   "metadata": {},
   "outputs": [],
   "source": [
    "import pandas as pd\n",
    "import yfinance as yf\n",
    "import numpy as np\n",
    "import matplotlib.pyplot as plt"
   ]
  },
  {
   "cell_type": "code",
   "execution_count": 49,
   "metadata": {},
   "outputs": [],
   "source": [
    "from sklearn.linear_model import LinearRegression\n",
    "from sklearn.model_selection import train_test_split\n",
    "from sklearn.preprocessing import scale\n",
    "from sklearn import metrics"
   ]
  },
  {
   "cell_type": "code",
   "execution_count": 50,
   "metadata": {},
   "outputs": [],
   "source": [
    "start = '2017-01-01'\n",
    "end = '2021-10-01'"
   ]
  },
  {
   "cell_type": "code",
   "execution_count": 51,
   "metadata": {},
   "outputs": [
    {
     "name": "stdout",
     "output_type": "stream",
     "text": [
      "[*********************100%***********************]  5 of 5 completed\n"
     ]
    }
   ],
   "source": [
    "data = yf.download('CL=F PTTEP.BK GPSC.BK PTTGC.BK PTT.BK', start=start, end=end)"
   ]
  },
  {
   "cell_type": "code",
   "execution_count": 52,
   "metadata": {},
   "outputs": [],
   "source": [
    "df = data['Adj Close']"
   ]
  },
  {
   "cell_type": "code",
   "execution_count": 53,
   "metadata": {},
   "outputs": [
    {
     "data": {
      "text/html": [
       "<div>\n",
       "<style scoped>\n",
       "    .dataframe tbody tr th:only-of-type {\n",
       "        vertical-align: middle;\n",
       "    }\n",
       "\n",
       "    .dataframe tbody tr th {\n",
       "        vertical-align: top;\n",
       "    }\n",
       "\n",
       "    .dataframe thead th {\n",
       "        text-align: right;\n",
       "    }\n",
       "</style>\n",
       "<table border=\"1\" class=\"dataframe\">\n",
       "  <thead>\n",
       "    <tr style=\"text-align: right;\">\n",
       "      <th></th>\n",
       "      <th>CL=F</th>\n",
       "      <th>GPSC.BK</th>\n",
       "      <th>PTT.BK</th>\n",
       "      <th>PTTEP.BK</th>\n",
       "      <th>PTTGC.BK</th>\n",
       "    </tr>\n",
       "    <tr>\n",
       "      <th>Date</th>\n",
       "      <th></th>\n",
       "      <th></th>\n",
       "      <th></th>\n",
       "      <th></th>\n",
       "      <th></th>\n",
       "    </tr>\n",
       "  </thead>\n",
       "  <tbody>\n",
       "    <tr>\n",
       "      <th>2017-01-03</th>\n",
       "      <td>52.330002</td>\n",
       "      <td>NaN</td>\n",
       "      <td>NaN</td>\n",
       "      <td>NaN</td>\n",
       "      <td>NaN</td>\n",
       "    </tr>\n",
       "    <tr>\n",
       "      <th>2017-01-04</th>\n",
       "      <td>53.259998</td>\n",
       "      <td>29.233921</td>\n",
       "      <td>30.196190</td>\n",
       "      <td>74.474815</td>\n",
       "      <td>49.715393</td>\n",
       "    </tr>\n",
       "    <tr>\n",
       "      <th>2017-01-05</th>\n",
       "      <td>53.759998</td>\n",
       "      <td>28.641338</td>\n",
       "      <td>30.752438</td>\n",
       "      <td>74.096779</td>\n",
       "      <td>49.909592</td>\n",
       "    </tr>\n",
       "    <tr>\n",
       "      <th>2017-01-06</th>\n",
       "      <td>53.990002</td>\n",
       "      <td>28.641338</td>\n",
       "      <td>30.911364</td>\n",
       "      <td>74.474815</td>\n",
       "      <td>49.715393</td>\n",
       "    </tr>\n",
       "    <tr>\n",
       "      <th>2017-01-09</th>\n",
       "      <td>51.959999</td>\n",
       "      <td>28.641338</td>\n",
       "      <td>30.434578</td>\n",
       "      <td>73.907745</td>\n",
       "      <td>49.132797</td>\n",
       "    </tr>\n",
       "    <tr>\n",
       "      <th>...</th>\n",
       "      <td>...</td>\n",
       "      <td>...</td>\n",
       "      <td>...</td>\n",
       "      <td>...</td>\n",
       "      <td>...</td>\n",
       "    </tr>\n",
       "    <tr>\n",
       "      <th>2021-09-24</th>\n",
       "      <td>73.980003</td>\n",
       "      <td>NaN</td>\n",
       "      <td>NaN</td>\n",
       "      <td>NaN</td>\n",
       "      <td>NaN</td>\n",
       "    </tr>\n",
       "    <tr>\n",
       "      <th>2021-09-27</th>\n",
       "      <td>75.449997</td>\n",
       "      <td>75.980133</td>\n",
       "      <td>38.509056</td>\n",
       "      <td>111.294357</td>\n",
       "      <td>59.785229</td>\n",
       "    </tr>\n",
       "    <tr>\n",
       "      <th>2021-09-28</th>\n",
       "      <td>75.290001</td>\n",
       "      <td>75.240067</td>\n",
       "      <td>38.509056</td>\n",
       "      <td>113.196823</td>\n",
       "      <td>61.721592</td>\n",
       "    </tr>\n",
       "    <tr>\n",
       "      <th>2021-09-29</th>\n",
       "      <td>74.830002</td>\n",
       "      <td>75.240067</td>\n",
       "      <td>38.460064</td>\n",
       "      <td>113.196823</td>\n",
       "      <td>61.237503</td>\n",
       "    </tr>\n",
       "    <tr>\n",
       "      <th>2021-09-30</th>\n",
       "      <td>75.029999</td>\n",
       "      <td>74.500000</td>\n",
       "      <td>38.215092</td>\n",
       "      <td>111.769974</td>\n",
       "      <td>61.237503</td>\n",
       "    </tr>\n",
       "  </tbody>\n",
       "</table>\n",
       "<p>1231 rows × 5 columns</p>\n",
       "</div>"
      ],
      "text/plain": [
       "                 CL=F    GPSC.BK     PTT.BK    PTTEP.BK   PTTGC.BK\n",
       "Date                                                              \n",
       "2017-01-03  52.330002        NaN        NaN         NaN        NaN\n",
       "2017-01-04  53.259998  29.233921  30.196190   74.474815  49.715393\n",
       "2017-01-05  53.759998  28.641338  30.752438   74.096779  49.909592\n",
       "2017-01-06  53.990002  28.641338  30.911364   74.474815  49.715393\n",
       "2017-01-09  51.959999  28.641338  30.434578   73.907745  49.132797\n",
       "...               ...        ...        ...         ...        ...\n",
       "2021-09-24  73.980003        NaN        NaN         NaN        NaN\n",
       "2021-09-27  75.449997  75.980133  38.509056  111.294357  59.785229\n",
       "2021-09-28  75.290001  75.240067  38.509056  113.196823  61.721592\n",
       "2021-09-29  74.830002  75.240067  38.460064  113.196823  61.237503\n",
       "2021-09-30  75.029999  74.500000  38.215092  111.769974  61.237503\n",
       "\n",
       "[1231 rows x 5 columns]"
      ]
     },
     "execution_count": 53,
     "metadata": {},
     "output_type": "execute_result"
    }
   ],
   "source": [
    "df"
   ]
  },
  {
   "cell_type": "code",
   "execution_count": 54,
   "metadata": {},
   "outputs": [],
   "source": [
    "df = df.pct_change()"
   ]
  },
  {
   "cell_type": "code",
   "execution_count": 55,
   "metadata": {},
   "outputs": [],
   "source": [
    "df = df.dropna()"
   ]
  },
  {
   "cell_type": "code",
   "execution_count": 56,
   "metadata": {},
   "outputs": [
    {
     "data": {
      "text/html": [
       "<div>\n",
       "<style scoped>\n",
       "    .dataframe tbody tr th:only-of-type {\n",
       "        vertical-align: middle;\n",
       "    }\n",
       "\n",
       "    .dataframe tbody tr th {\n",
       "        vertical-align: top;\n",
       "    }\n",
       "\n",
       "    .dataframe thead th {\n",
       "        text-align: right;\n",
       "    }\n",
       "</style>\n",
       "<table border=\"1\" class=\"dataframe\">\n",
       "  <thead>\n",
       "    <tr style=\"text-align: right;\">\n",
       "      <th></th>\n",
       "      <th>CL=F</th>\n",
       "      <th>GPSC.BK</th>\n",
       "      <th>PTT.BK</th>\n",
       "      <th>PTTEP.BK</th>\n",
       "      <th>PTTGC.BK</th>\n",
       "    </tr>\n",
       "    <tr>\n",
       "      <th>Date</th>\n",
       "      <th></th>\n",
       "      <th></th>\n",
       "      <th></th>\n",
       "      <th></th>\n",
       "      <th></th>\n",
       "    </tr>\n",
       "  </thead>\n",
       "  <tbody>\n",
       "    <tr>\n",
       "      <th>2017-01-05</th>\n",
       "      <td>0.009388</td>\n",
       "      <td>-0.020270</td>\n",
       "      <td>0.018421</td>\n",
       "      <td>-0.005076</td>\n",
       "      <td>0.003906</td>\n",
       "    </tr>\n",
       "    <tr>\n",
       "      <th>2017-01-06</th>\n",
       "      <td>0.004278</td>\n",
       "      <td>0.000000</td>\n",
       "      <td>0.005168</td>\n",
       "      <td>0.005102</td>\n",
       "      <td>-0.003891</td>\n",
       "    </tr>\n",
       "    <tr>\n",
       "      <th>2017-01-09</th>\n",
       "      <td>-0.037600</td>\n",
       "      <td>0.000000</td>\n",
       "      <td>-0.015424</td>\n",
       "      <td>-0.007614</td>\n",
       "      <td>-0.011719</td>\n",
       "    </tr>\n",
       "    <tr>\n",
       "      <th>2017-01-10</th>\n",
       "      <td>-0.021940</td>\n",
       "      <td>0.006897</td>\n",
       "      <td>0.013055</td>\n",
       "      <td>-0.017903</td>\n",
       "      <td>0.003952</td>\n",
       "    </tr>\n",
       "    <tr>\n",
       "      <th>2017-01-11</th>\n",
       "      <td>0.028139</td>\n",
       "      <td>0.006849</td>\n",
       "      <td>-0.007732</td>\n",
       "      <td>0.005208</td>\n",
       "      <td>-0.003937</td>\n",
       "    </tr>\n",
       "    <tr>\n",
       "      <th>...</th>\n",
       "      <td>...</td>\n",
       "      <td>...</td>\n",
       "      <td>...</td>\n",
       "      <td>...</td>\n",
       "      <td>...</td>\n",
       "    </tr>\n",
       "    <tr>\n",
       "      <th>2021-09-24</th>\n",
       "      <td>0.009277</td>\n",
       "      <td>0.000000</td>\n",
       "      <td>0.000000</td>\n",
       "      <td>0.000000</td>\n",
       "      <td>0.000000</td>\n",
       "    </tr>\n",
       "    <tr>\n",
       "      <th>2021-09-27</th>\n",
       "      <td>0.019870</td>\n",
       "      <td>-0.012821</td>\n",
       "      <td>0.012500</td>\n",
       "      <td>0.035398</td>\n",
       "      <td>0.020661</td>\n",
       "    </tr>\n",
       "    <tr>\n",
       "      <th>2021-09-28</th>\n",
       "      <td>-0.002121</td>\n",
       "      <td>-0.009740</td>\n",
       "      <td>0.000000</td>\n",
       "      <td>0.017094</td>\n",
       "      <td>0.032389</td>\n",
       "    </tr>\n",
       "    <tr>\n",
       "      <th>2021-09-29</th>\n",
       "      <td>-0.006110</td>\n",
       "      <td>0.000000</td>\n",
       "      <td>-0.001272</td>\n",
       "      <td>0.000000</td>\n",
       "      <td>-0.007843</td>\n",
       "    </tr>\n",
       "    <tr>\n",
       "      <th>2021-09-30</th>\n",
       "      <td>0.002673</td>\n",
       "      <td>-0.009836</td>\n",
       "      <td>-0.006370</td>\n",
       "      <td>-0.012605</td>\n",
       "      <td>0.000000</td>\n",
       "    </tr>\n",
       "  </tbody>\n",
       "</table>\n",
       "<p>1229 rows × 5 columns</p>\n",
       "</div>"
      ],
      "text/plain": [
       "                CL=F   GPSC.BK    PTT.BK  PTTEP.BK  PTTGC.BK\n",
       "Date                                                        \n",
       "2017-01-05  0.009388 -0.020270  0.018421 -0.005076  0.003906\n",
       "2017-01-06  0.004278  0.000000  0.005168  0.005102 -0.003891\n",
       "2017-01-09 -0.037600  0.000000 -0.015424 -0.007614 -0.011719\n",
       "2017-01-10 -0.021940  0.006897  0.013055 -0.017903  0.003952\n",
       "2017-01-11  0.028139  0.006849 -0.007732  0.005208 -0.003937\n",
       "...              ...       ...       ...       ...       ...\n",
       "2021-09-24  0.009277  0.000000  0.000000  0.000000  0.000000\n",
       "2021-09-27  0.019870 -0.012821  0.012500  0.035398  0.020661\n",
       "2021-09-28 -0.002121 -0.009740  0.000000  0.017094  0.032389\n",
       "2021-09-29 -0.006110  0.000000 -0.001272  0.000000 -0.007843\n",
       "2021-09-30  0.002673 -0.009836 -0.006370 -0.012605  0.000000\n",
       "\n",
       "[1229 rows x 5 columns]"
      ]
     },
     "execution_count": 56,
     "metadata": {},
     "output_type": "execute_result"
    }
   ],
   "source": [
    "df"
   ]
  },
  {
   "cell_type": "code",
   "execution_count": 57,
   "metadata": {},
   "outputs": [],
   "source": [
    "df = df[['CL=F', 'GPSC.BK','PTTEP.BK', 'PTTGC.BK', 'PTT.BK']]"
   ]
  },
  {
   "cell_type": "code",
   "execution_count": 58,
   "metadata": {},
   "outputs": [
    {
     "data": {
      "text/html": [
       "<div>\n",
       "<style scoped>\n",
       "    .dataframe tbody tr th:only-of-type {\n",
       "        vertical-align: middle;\n",
       "    }\n",
       "\n",
       "    .dataframe tbody tr th {\n",
       "        vertical-align: top;\n",
       "    }\n",
       "\n",
       "    .dataframe thead th {\n",
       "        text-align: right;\n",
       "    }\n",
       "</style>\n",
       "<table border=\"1\" class=\"dataframe\">\n",
       "  <thead>\n",
       "    <tr style=\"text-align: right;\">\n",
       "      <th></th>\n",
       "      <th>CL=F</th>\n",
       "      <th>GPSC.BK</th>\n",
       "      <th>PTTEP.BK</th>\n",
       "      <th>PTTGC.BK</th>\n",
       "      <th>PTT.BK</th>\n",
       "    </tr>\n",
       "    <tr>\n",
       "      <th>Date</th>\n",
       "      <th></th>\n",
       "      <th></th>\n",
       "      <th></th>\n",
       "      <th></th>\n",
       "      <th></th>\n",
       "    </tr>\n",
       "  </thead>\n",
       "  <tbody>\n",
       "    <tr>\n",
       "      <th>2017-01-05</th>\n",
       "      <td>0.009388</td>\n",
       "      <td>-0.02027</td>\n",
       "      <td>-0.005076</td>\n",
       "      <td>0.003906</td>\n",
       "      <td>0.018421</td>\n",
       "    </tr>\n",
       "  </tbody>\n",
       "</table>\n",
       "</div>"
      ],
      "text/plain": [
       "                CL=F  GPSC.BK  PTTEP.BK  PTTGC.BK    PTT.BK\n",
       "Date                                                       \n",
       "2017-01-05  0.009388 -0.02027 -0.005076  0.003906  0.018421"
      ]
     },
     "execution_count": 58,
     "metadata": {},
     "output_type": "execute_result"
    }
   ],
   "source": [
    "df.head(1)"
   ]
  },
  {
   "cell_type": "code",
   "execution_count": 59,
   "metadata": {},
   "outputs": [],
   "source": [
    "X = df.iloc[:,:-1]\n",
    "y = df.iloc[:, -1]"
   ]
  },
  {
   "cell_type": "code",
   "execution_count": 60,
   "metadata": {},
   "outputs": [],
   "source": [
    "X_train, X_test, y_train, y_test = train_test_split(X, y, test_size=0.2, random_state=12)"
   ]
  },
  {
   "cell_type": "code",
   "execution_count": 61,
   "metadata": {},
   "outputs": [
    {
     "data": {
      "text/html": [
       "<div>\n",
       "<style scoped>\n",
       "    .dataframe tbody tr th:only-of-type {\n",
       "        vertical-align: middle;\n",
       "    }\n",
       "\n",
       "    .dataframe tbody tr th {\n",
       "        vertical-align: top;\n",
       "    }\n",
       "\n",
       "    .dataframe thead th {\n",
       "        text-align: right;\n",
       "    }\n",
       "</style>\n",
       "<table border=\"1\" class=\"dataframe\">\n",
       "  <thead>\n",
       "    <tr style=\"text-align: right;\">\n",
       "      <th></th>\n",
       "      <th>CL=F</th>\n",
       "      <th>GPSC.BK</th>\n",
       "      <th>PTTEP.BK</th>\n",
       "      <th>PTTGC.BK</th>\n",
       "    </tr>\n",
       "    <tr>\n",
       "      <th>Date</th>\n",
       "      <th></th>\n",
       "      <th></th>\n",
       "      <th></th>\n",
       "      <th></th>\n",
       "    </tr>\n",
       "  </thead>\n",
       "  <tbody>\n",
       "    <tr>\n",
       "      <th>2017-05-22</th>\n",
       "      <td>0.007948</td>\n",
       "      <td>0.007353</td>\n",
       "      <td>0.005319</td>\n",
       "      <td>0.000000</td>\n",
       "    </tr>\n",
       "    <tr>\n",
       "      <th>2017-11-22</th>\n",
       "      <td>0.020940</td>\n",
       "      <td>0.008621</td>\n",
       "      <td>0.005391</td>\n",
       "      <td>0.003185</td>\n",
       "    </tr>\n",
       "    <tr>\n",
       "      <th>2021-08-12</th>\n",
       "      <td>-0.002311</td>\n",
       "      <td>0.000000</td>\n",
       "      <td>0.000000</td>\n",
       "      <td>0.000000</td>\n",
       "    </tr>\n",
       "    <tr>\n",
       "      <th>2017-01-18</th>\n",
       "      <td>-0.026677</td>\n",
       "      <td>-0.006897</td>\n",
       "      <td>-0.015625</td>\n",
       "      <td>0.019531</td>\n",
       "    </tr>\n",
       "    <tr>\n",
       "      <th>2019-07-15</th>\n",
       "      <td>-0.010463</td>\n",
       "      <td>-0.006993</td>\n",
       "      <td>0.000000</td>\n",
       "      <td>0.003984</td>\n",
       "    </tr>\n",
       "    <tr>\n",
       "      <th>...</th>\n",
       "      <td>...</td>\n",
       "      <td>...</td>\n",
       "      <td>...</td>\n",
       "      <td>...</td>\n",
       "    </tr>\n",
       "    <tr>\n",
       "      <th>2018-08-16</th>\n",
       "      <td>0.006922</td>\n",
       "      <td>0.025180</td>\n",
       "      <td>-0.010989</td>\n",
       "      <td>-0.009202</td>\n",
       "    </tr>\n",
       "    <tr>\n",
       "      <th>2018-11-01</th>\n",
       "      <td>-0.024805</td>\n",
       "      <td>-0.012987</td>\n",
       "      <td>-0.010753</td>\n",
       "      <td>-0.006472</td>\n",
       "    </tr>\n",
       "    <tr>\n",
       "      <th>2017-03-15</th>\n",
       "      <td>0.023889</td>\n",
       "      <td>0.040000</td>\n",
       "      <td>-0.008380</td>\n",
       "      <td>-0.013514</td>\n",
       "    </tr>\n",
       "    <tr>\n",
       "      <th>2018-02-01</th>\n",
       "      <td>0.016530</td>\n",
       "      <td>-0.009009</td>\n",
       "      <td>0.021008</td>\n",
       "      <td>0.000000</td>\n",
       "    </tr>\n",
       "    <tr>\n",
       "      <th>2018-09-05</th>\n",
       "      <td>-0.016459</td>\n",
       "      <td>-0.031142</td>\n",
       "      <td>-0.024561</td>\n",
       "      <td>-0.018692</td>\n",
       "    </tr>\n",
       "  </tbody>\n",
       "</table>\n",
       "<p>983 rows × 4 columns</p>\n",
       "</div>"
      ],
      "text/plain": [
       "                CL=F   GPSC.BK  PTTEP.BK  PTTGC.BK\n",
       "Date                                              \n",
       "2017-05-22  0.007948  0.007353  0.005319  0.000000\n",
       "2017-11-22  0.020940  0.008621  0.005391  0.003185\n",
       "2021-08-12 -0.002311  0.000000  0.000000  0.000000\n",
       "2017-01-18 -0.026677 -0.006897 -0.015625  0.019531\n",
       "2019-07-15 -0.010463 -0.006993  0.000000  0.003984\n",
       "...              ...       ...       ...       ...\n",
       "2018-08-16  0.006922  0.025180 -0.010989 -0.009202\n",
       "2018-11-01 -0.024805 -0.012987 -0.010753 -0.006472\n",
       "2017-03-15  0.023889  0.040000 -0.008380 -0.013514\n",
       "2018-02-01  0.016530 -0.009009  0.021008  0.000000\n",
       "2018-09-05 -0.016459 -0.031142 -0.024561 -0.018692\n",
       "\n",
       "[983 rows x 4 columns]"
      ]
     },
     "execution_count": 61,
     "metadata": {},
     "output_type": "execute_result"
    }
   ],
   "source": [
    "X_train"
   ]
  },
  {
   "cell_type": "code",
   "execution_count": 62,
   "metadata": {},
   "outputs": [],
   "source": [
    "model = LinearRegression()\n",
    "reg = model.fit(X_train, y_train)"
   ]
  },
  {
   "cell_type": "code",
   "execution_count": 63,
   "metadata": {},
   "outputs": [
    {
     "data": {
      "text/plain": [
       "0.6235514031859479"
      ]
     },
     "execution_count": 63,
     "metadata": {},
     "output_type": "execute_result"
    }
   ],
   "source": [
    "reg.score(X_test, y_test)"
   ]
  },
  {
   "cell_type": "code",
   "execution_count": 64,
   "metadata": {},
   "outputs": [],
   "source": [
    "y_pred = model.predict(X_test)"
   ]
  },
  {
   "cell_type": "code",
   "execution_count": 65,
   "metadata": {},
   "outputs": [
    {
     "data": {
      "text/plain": [
       "array([-2.87205330e-03,  5.21676897e-03, -1.74017172e-03, -8.35842737e-03,\n",
       "        1.77056515e-02,  1.19958651e-02,  1.12298584e-02,  5.92860983e-03,\n",
       "        9.48352870e-03,  3.45002896e-03,  2.55401446e-04,  2.50900950e-03,\n",
       "       -1.69553576e-04, -1.84201754e-04,  7.08004912e-03,  5.81711121e-03,\n",
       "        1.79974439e-02, -7.02017114e-03,  1.20956030e-02, -8.79043921e-03,\n",
       "        1.40947659e-02, -5.24994502e-03,  5.12177909e-03, -5.31820894e-03,\n",
       "       -5.32191501e-03,  8.10722990e-03,  4.51478913e-04, -2.04278302e-03,\n",
       "        5.65096073e-03,  2.11686410e-03, -4.12766118e-02, -7.68324498e-03,\n",
       "       -1.18937750e-02, -1.13992127e-02,  3.50338713e-03, -1.28651256e-02,\n",
       "       -7.08058500e-03, -3.50347186e-03,  2.57029676e-03, -3.65371053e-03,\n",
       "        1.58108585e-02,  2.31624603e-03, -9.94886299e-03, -1.51274908e-04,\n",
       "        1.25883904e-02,  1.98615764e-03, -1.01127521e-02, -8.40726866e-03,\n",
       "        1.60832195e-02, -2.11560958e-02, -1.53689597e-04,  5.63168488e-03,\n",
       "        2.32786967e-04, -1.56147620e-02, -5.43040563e-03,  5.74200876e-03,\n",
       "       -4.13892580e-03,  6.41397130e-02,  2.00207634e-02, -4.47139458e-02,\n",
       "        3.49893095e-03, -9.28803194e-03, -1.84171529e-04, -2.31332541e-03,\n",
       "       -1.73887436e-04,  7.66693658e-03,  1.51268251e-03, -2.28758647e-03,\n",
       "       -1.33223573e-02,  1.27915134e-02,  9.64514165e-03,  1.16729995e-04,\n",
       "       -1.89185938e-04, -2.38310030e-03,  9.78176562e-05,  5.37692605e-04,\n",
       "       -8.33903416e-03, -6.32083825e-03,  2.79634001e-03, -5.85829130e-03,\n",
       "       -9.59762528e-04,  1.79768531e-04, -1.71052592e-02, -1.92260206e-02,\n",
       "        5.86932735e-03, -1.35229696e-02, -3.22841850e-03, -1.74649013e-04,\n",
       "        6.89021154e-04, -1.62674655e-03,  2.70268983e-03, -1.74874498e-04,\n",
       "        5.18330684e-03, -4.48554969e-03,  1.51737402e-02, -1.33969411e-02,\n",
       "        4.95986372e-04, -2.38611688e-03, -1.68348217e-02,  1.68995898e-02,\n",
       "       -5.94717030e-03,  5.85723643e-03,  1.03751525e-02, -1.32816972e-02,\n",
       "        1.60664623e-02,  8.31410140e-03,  4.28357600e-03,  4.71673200e-04,\n",
       "       -3.63142332e-03, -1.64571413e-02, -3.29499715e-03, -8.86880536e-04,\n",
       "        7.35526128e-03, -5.80136342e-03, -1.13955243e-02, -1.96128118e-02,\n",
       "        2.82249389e-03,  1.99592461e-02,  3.66836258e-03,  1.75512524e-02,\n",
       "       -1.48661044e-02, -1.11240439e-02, -6.71085541e-03,  8.51139449e-03,\n",
       "        2.48959518e-02, -3.30008677e-03,  4.01813981e-02, -3.29247951e-03,\n",
       "        3.27245066e-03,  1.83897923e-02,  1.09266518e-02, -2.80708209e-03,\n",
       "       -1.73462539e-04, -1.50555116e-02,  7.08281041e-04, -1.01305922e-02,\n",
       "        8.38893122e-04,  2.24650189e-03,  4.33368456e-03, -7.87459756e-03,\n",
       "       -3.73489924e-03,  3.06303108e-02,  4.03758629e-02, -1.13049503e-02,\n",
       "       -8.14395227e-03,  8.35746235e-03,  4.10796444e-03, -7.26708031e-03,\n",
       "       -2.26461434e-02,  9.10974235e-03, -2.58451361e-03, -6.79276737e-03,\n",
       "        1.21370847e-02, -4.34512967e-03,  6.97571652e-03,  2.98861909e-03,\n",
       "        1.01129018e-02,  1.43632953e-03, -6.33181028e-03,  2.64594290e-02,\n",
       "        9.38391986e-03, -1.74506310e-04,  2.12110466e-02, -1.02052226e-02,\n",
       "       -1.59970508e-03,  1.02145850e-02, -9.64632185e-03, -2.61087584e-04,\n",
       "       -6.93657010e-03, -1.97970617e-03, -1.35855482e-04, -8.90301251e-03,\n",
       "        8.26557620e-03, -2.39250025e-02, -7.11857457e-03, -4.41901942e-03,\n",
       "       -6.92126122e-03,  1.36493024e-02, -1.91146150e-02, -9.07869771e-03,\n",
       "        6.55011593e-03,  3.68683687e-03, -3.42230202e-02, -7.71907358e-03,\n",
       "       -2.08289631e-03, -2.03385840e-02, -1.67470503e-04, -1.20881997e-01,\n",
       "        6.65677300e-03, -1.70872742e-02, -9.49339953e-02,  2.42175284e-03,\n",
       "       -1.34537081e-02,  2.23356702e-03,  2.36670902e-02,  5.05952795e-03,\n",
       "        3.18062030e-02,  8.57760804e-03, -8.10899141e-03,  4.95712604e-03,\n",
       "       -1.78569199e-02,  2.30486801e-02, -6.09308173e-03,  2.05089231e-02,\n",
       "       -2.18070100e-02,  7.04851666e-03,  4.07194562e-03, -6.64197895e-03,\n",
       "       -1.08277804e-02, -1.43046393e-04,  1.40571822e-02,  1.67304869e-02,\n",
       "       -1.48668952e-02,  6.70806146e-03, -9.39352721e-03,  2.33473620e-03,\n",
       "       -1.48387171e-03,  8.59546455e-03,  1.05731867e-02, -1.79883961e-02,\n",
       "       -1.59448042e-04,  6.98307769e-03, -1.24698181e-02,  1.12550327e-02,\n",
       "       -7.40002388e-03,  1.38657900e-02,  1.71233104e-02,  1.98082479e-02,\n",
       "        1.38643863e-02,  6.18916146e-03, -1.59698744e-02, -7.93367941e-03,\n",
       "       -1.01796797e-02, -1.14453391e-02, -1.94142852e-04,  6.94662071e-03,\n",
       "       -1.78404371e-03, -1.76052284e-04, -1.89562182e-04, -2.20677124e-03,\n",
       "       -1.00639975e-02, -8.04759671e-03, -1.57713231e-03, -1.87327990e-03,\n",
       "        6.22668383e-04, -2.33623503e-02])"
      ]
     },
     "execution_count": 65,
     "metadata": {},
     "output_type": "execute_result"
    }
   ],
   "source": [
    "y_pred"
   ]
  },
  {
   "cell_type": "code",
   "execution_count": 66,
   "metadata": {},
   "outputs": [
    {
     "name": "stdout",
     "output_type": "stream",
     "text": [
      "Score =  0.6235514031859479\n"
     ]
    }
   ],
   "source": [
    "print(\"Score = \", metrics.r2_score(y_test, y_pred))"
   ]
  },
  {
   "cell_type": "code",
   "execution_count": 67,
   "metadata": {},
   "outputs": [
    {
     "data": {
      "text/plain": [
       "array([-0.00079811,  0.06184102,  0.47774415,  0.25535312])"
      ]
     },
     "execution_count": 67,
     "metadata": {},
     "output_type": "execute_result"
    }
   ],
   "source": [
    "reg.coef_"
   ]
  },
  {
   "cell_type": "code",
   "execution_count": 68,
   "metadata": {},
   "outputs": [],
   "source": [
    "m = model.coef_\n",
    "b = model.intercept_"
   ]
  },
  {
   "cell_type": "code",
   "execution_count": 69,
   "metadata": {},
   "outputs": [
    {
     "data": {
      "text/plain": [
       "array([-0.00079811,  0.06184102,  0.47774415,  0.25535312])"
      ]
     },
     "execution_count": 69,
     "metadata": {},
     "output_type": "execute_result"
    }
   ],
   "source": [
    "m"
   ]
  },
  {
   "cell_type": "code",
   "execution_count": 70,
   "metadata": {},
   "outputs": [
    {
     "data": {
      "text/plain": [
       "-0.00016747050286924437"
      ]
     },
     "execution_count": 70,
     "metadata": {},
     "output_type": "execute_result"
    }
   ],
   "source": [
    "b"
   ]
  },
  {
   "cell_type": "code",
   "execution_count": 71,
   "metadata": {},
   "outputs": [
    {
     "data": {
      "text/plain": [
       "<matplotlib.collections.PathCollection at 0x23cd1949ca0>"
      ]
     },
     "execution_count": 71,
     "metadata": {},
     "output_type": "execute_result"
    },
    {
     "data": {
      "image/png": "[encoded data removed]",
      "text/plain": [
       "<Figure size 432x288 with 1 Axes>"
      ]
     },
     "metadata": {
      "needs_background": "light"
     },
     "output_type": "display_data"
    }
   ],
   "source": [
    "plt.scatter(y_pred, y_test)"
   ]
  },
  {
   "cell_type": "code",
   "execution_count": 72,
   "metadata": {},
   "outputs": [
    {
     "name": "stdout",
     "output_type": "stream",
     "text": [
      "MAE =  0.007849103325943891\n",
      "MSE =  0.00011615140940896554\n",
      "RMSE =  0.01077735632745645\n"
     ]
    }
   ],
   "source": [
    "print(\"MAE = \", metrics.mean_absolute_error(y_test, y_pred))\n",
    "print(\"MSE = \", metrics.mean_squared_error(y_test, y_pred))\n",
    "print(\"RMSE = \", np.sqrt(metrics.mean_squared_error(y_test, y_pred)))"
   ]
  },
  {
   "cell_type": "code",
   "execution_count": 73,
   "metadata": {},
   "outputs": [
    {
     "name": "stdout",
     "output_type": "stream",
     "text": [
      "MSE =  0.00010339880972787798\n"
     ]
    }
   ],
   "source": [
    "X_train, X_test, y_train, y_test = train_test_split(X, y, test_size=0.3, random_state=12)\n",
    "model = LinearRegression()\n",
    "reg = model.fit(X_train, y_train)\n",
    "y_pred = model.predict(X_test)\n",
    "print(\"MSE = \", metrics.mean_squared_error(y_test, y_pred))"
   ]
  },
  {
   "cell_type": "code",
   "execution_count": 74,
   "metadata": {},
   "outputs": [
    {
     "name": "stdout",
     "output_type": "stream",
     "text": [
      "MSE =  0.00010667261419913869\n",
      "MSE =  8.739830730684709e-05\n",
      "MSE =  0.00010968007060649692\n",
      "MSE =  9.495565402083982e-05\n",
      "MSE =  0.00010259023579312972\n"
     ]
    }
   ],
   "source": [
    "score = []\n",
    "\n",
    "for i in range(0,5):\n",
    "    X_train, X_test, y_train, y_test = train_test_split(X, y, test_size=0.2, random_state=i)\n",
    "    model = LinearRegression()\n",
    "    reg = model.fit(X_train, y_train)\n",
    "    y_pred = model.predict(X_test)\n",
    "    score.append(metrics.mean_squared_error(y_test, y_pred))\n",
    "    print(\"MSE = \", metrics.mean_squared_error(y_test, y_pred))"
   ]
  },
  {
   "cell_type": "code",
   "execution_count": 75,
   "metadata": {},
   "outputs": [
    {
     "data": {
      "text/plain": [
       "[0.00010667261419913869,\n",
       " 8.739830730684709e-05,\n",
       " 0.00010968007060649692,\n",
       " 9.495565402083982e-05,\n",
       " 0.00010259023579312972]"
      ]
     },
     "execution_count": 75,
     "metadata": {},
     "output_type": "execute_result"
    }
   ],
   "source": [
    "score"
   ]
  },
  {
   "cell_type": "code",
   "execution_count": 76,
   "metadata": {},
   "outputs": [
    {
     "data": {
      "text/plain": [
       "0.00010025937638529045"
      ]
     },
     "execution_count": 76,
     "metadata": {},
     "output_type": "execute_result"
    }
   ],
   "source": [
    "np.mean(score)"
   ]
  },
  {
   "cell_type": "code",
   "execution_count": 77,
   "metadata": {},
   "outputs": [
    {
     "data": {
      "text/plain": [
       "1229"
      ]
     },
     "execution_count": 77,
     "metadata": {},
     "output_type": "execute_result"
    }
   ],
   "source": [
    "len(X.index)"
   ]
  },
  {
   "cell_type": "markdown",
   "metadata": {},
   "source": [
    "### Scikit Learn - Cross Validation"
   ]
  },
  {
   "cell_type": "code",
   "execution_count": 78,
   "metadata": {},
   "outputs": [],
   "source": [
    "from sklearn.model_selection import KFold"
   ]
  },
  {
   "cell_type": "code",
   "execution_count": 79,
   "metadata": {},
   "outputs": [],
   "source": [
    "kfold = KFold(10, shuffle=True, random_state=42)"
   ]
  },
  {
   "cell_type": "code",
   "execution_count": 80,
   "metadata": {},
   "outputs": [
    {
     "data": {
      "text/plain": [
       "KFold(n_splits=10, random_state=42, shuffle=True)"
      ]
     },
     "execution_count": 80,
     "metadata": {},
     "output_type": "execute_result"
    }
   ],
   "source": [
    "kfold"
   ]
  },
  {
   "cell_type": "code",
   "execution_count": 81,
   "metadata": {},
   "outputs": [],
   "source": [
    "kfold = KFold(5, shuffle=False, random_state=None)"
   ]
  },
  {
   "cell_type": "code",
   "execution_count": 82,
   "metadata": {},
   "outputs": [
    {
     "data": {
      "text/plain": [
       "KFold(n_splits=5, random_state=None, shuffle=False)"
      ]
     },
     "execution_count": 82,
     "metadata": {},
     "output_type": "execute_result"
    }
   ],
   "source": [
    "kfold"
   ]
  },
  {
   "cell_type": "code",
   "execution_count": 83,
   "metadata": {},
   "outputs": [
    {
     "name": "stdout",
     "output_type": "stream",
     "text": [
      "train: Date\n",
      "2017-12-18    0.009259\n",
      "2017-12-19    0.004587\n",
      "2017-12-20    0.004566\n",
      "2017-12-21   -0.004545\n",
      "2017-12-22    0.018265\n",
      "                ...   \n",
      "2021-09-24    0.000000\n",
      "2021-09-27    0.012500\n",
      "2021-09-28    0.000000\n",
      "2021-09-29   -0.001272\n",
      "2021-09-30   -0.006370\n",
      "Name: PTT.BK, Length: 983, dtype: float64, test: Date\n",
      "2017-01-05    0.018421\n",
      "2017-01-06    0.005168\n",
      "2017-01-09   -0.015424\n",
      "2017-01-10    0.013055\n",
      "2017-01-11   -0.007732\n",
      "                ...   \n",
      "2017-12-11    0.000000\n",
      "2017-12-12    0.014218\n",
      "2017-12-13   -0.004673\n",
      "2017-12-14    0.009390\n",
      "2017-12-15    0.004651\n",
      "Name: PTT.BK, Length: 246, dtype: float64\n",
      "train: Date\n",
      "2017-01-05    0.018421\n",
      "2017-01-06    0.005168\n",
      "2017-01-09   -0.015424\n",
      "2017-01-10    0.013055\n",
      "2017-01-11   -0.007732\n",
      "                ...   \n",
      "2021-09-24    0.000000\n",
      "2021-09-27    0.012500\n",
      "2021-09-28    0.000000\n",
      "2021-09-29   -0.001272\n",
      "2021-09-30   -0.006370\n",
      "Name: PTT.BK, Length: 983, dtype: float64, test: Date\n",
      "2017-12-18    0.009259\n",
      "2017-12-19    0.004587\n",
      "2017-12-20    0.004566\n",
      "2017-12-21   -0.004545\n",
      "2017-12-22    0.018265\n",
      "                ...   \n",
      "2018-11-21   -0.005155\n",
      "2018-11-22   -0.005181\n",
      "2018-11-23    0.015625\n",
      "2018-11-26   -0.005128\n",
      "2018-11-27    0.005155\n",
      "Name: PTT.BK, Length: 246, dtype: float64\n",
      "train: Date\n",
      "2017-01-05    0.018421\n",
      "2017-01-06    0.005168\n",
      "2017-01-09   -0.015424\n",
      "2017-01-10    0.013055\n",
      "2017-01-11   -0.007732\n",
      "                ...   \n",
      "2021-09-24    0.000000\n",
      "2021-09-27    0.012500\n",
      "2021-09-28    0.000000\n",
      "2021-09-29   -0.001272\n",
      "2021-09-30   -0.006370\n",
      "Name: PTT.BK, Length: 983, dtype: float64, test: Date\n",
      "2018-11-28    0.005128\n",
      "2018-11-29    0.005102\n",
      "2018-11-30    0.000000\n",
      "2018-12-03    0.050761\n",
      "2018-12-04   -0.004831\n",
      "                ...   \n",
      "2019-11-04    0.005525\n",
      "2019-11-05    0.005494\n",
      "2019-11-06   -0.005464\n",
      "2019-11-07    0.010989\n",
      "2019-11-08   -0.010870\n",
      "Name: PTT.BK, Length: 246, dtype: float64\n",
      "train: Date\n",
      "2017-01-05    0.018421\n",
      "2017-01-06    0.005168\n",
      "2017-01-09   -0.015424\n",
      "2017-01-10    0.013055\n",
      "2017-01-11   -0.007732\n",
      "                ...   \n",
      "2021-09-24    0.000000\n",
      "2021-09-27    0.012500\n",
      "2021-09-28    0.000000\n",
      "2021-09-29   -0.001272\n",
      "2021-09-30   -0.006370\n",
      "Name: PTT.BK, Length: 983, dtype: float64, test: Date\n",
      "2019-11-11   -0.005495\n",
      "2019-11-12    0.000000\n",
      "2019-11-13    0.000000\n",
      "2019-11-14   -0.011050\n",
      "2019-11-15    0.000000\n",
      "                ...   \n",
      "2020-10-15   -0.007519\n",
      "2020-10-16   -0.007576\n",
      "2020-10-19   -0.007634\n",
      "2020-10-20   -0.007692\n",
      "2020-10-21    0.000000\n",
      "Name: PTT.BK, Length: 246, dtype: float64\n",
      "train: Date\n",
      "2017-01-05    0.018421\n",
      "2017-01-06    0.005168\n",
      "2017-01-09   -0.015424\n",
      "2017-01-10    0.013055\n",
      "2017-01-11   -0.007732\n",
      "                ...   \n",
      "2020-10-15   -0.007519\n",
      "2020-10-16   -0.007576\n",
      "2020-10-19   -0.007634\n",
      "2020-10-20   -0.007692\n",
      "2020-10-21    0.000000\n",
      "Name: PTT.BK, Length: 984, dtype: float64, test: Date\n",
      "2020-10-22    0.000000\n",
      "2020-10-23    0.000000\n",
      "2020-10-26    0.000000\n",
      "2020-10-27   -0.007752\n",
      "2020-10-28   -0.015625\n",
      "                ...   \n",
      "2021-09-24    0.000000\n",
      "2021-09-27    0.012500\n",
      "2021-09-28    0.000000\n",
      "2021-09-29   -0.001272\n",
      "2021-09-30   -0.006370\n",
      "Name: PTT.BK, Length: 245, dtype: float64\n"
     ]
    }
   ],
   "source": [
    "for train, test in kfold.split(y):\n",
    "    print('train: %s, test: %s' % (y[train], y[test]))"
   ]
  },
  {
   "cell_type": "code",
   "execution_count": 84,
   "metadata": {},
   "outputs": [],
   "source": [
    "from sklearn.model_selection import cross_val_score"
   ]
  },
  {
   "cell_type": "code",
   "execution_count": 85,
   "metadata": {},
   "outputs": [
    {
     "data": {
      "text/plain": [
       "array([0.80374958, 0.58454901, 0.56168417, 0.56713709, 0.51992505])"
      ]
     },
     "execution_count": 85,
     "metadata": {},
     "output_type": "execute_result"
    }
   ],
   "source": [
    "lm = LinearRegression()\n",
    "scores = cross_val_score(lm, X_train, y_train, scoring='r2', cv=5)\n",
    "scores"
   ]
  },
  {
   "cell_type": "code",
   "execution_count": 86,
   "metadata": {},
   "outputs": [],
   "source": [
    "from numpy import mean\n",
    "from numpy import std"
   ]
  },
  {
   "cell_type": "code",
   "execution_count": 87,
   "metadata": {},
   "outputs": [
    {
     "name": "stdout",
     "output_type": "stream",
     "text": [
      "Accuracy: 0.61 (0.10)\n"
     ]
    }
   ],
   "source": [
    "print('Accuracy: %.2f (%.2f)' % (mean(scores), std(scores)))"
   ]
  },
  {
   "cell_type": "code",
   "execution_count": 88,
   "metadata": {},
   "outputs": [
    {
     "data": {
      "text/plain": [
       "array([0.77233954, 0.57118652, 0.5422285 ])"
      ]
     },
     "execution_count": 88,
     "metadata": {},
     "output_type": "execute_result"
    }
   ],
   "source": [
    "kfold = KFold(3, shuffle=False, random_state=None)\n",
    "lm = LinearRegression()\n",
    "scores = cross_val_score(lm, X_train, y_train, scoring='r2', cv=kfold)\n",
    "scores"
   ]
  },
  {
   "cell_type": "markdown",
   "metadata": {},
   "source": [
    "#### Vary number of foldes to find out variations result for each fold"
   ]
  },
  {
   "cell_type": "code",
   "execution_count": 89,
   "metadata": {},
   "outputs": [
    {
     "data": {
      "text/plain": [
       "array([0.80374958, 0.58454901, 0.56168417, 0.56713709, 0.51992505])"
      ]
     },
     "execution_count": 89,
     "metadata": {},
     "output_type": "execute_result"
    }
   ],
   "source": [
    "kfold = KFold(5, shuffle=False, random_state=None)\n",
    "lm = LinearRegression()\n",
    "scores = cross_val_score(lm, X_train, y_train, scoring='r2', cv=kfold)\n",
    "scores"
   ]
  },
  {
   "cell_type": "code",
   "execution_count": 90,
   "metadata": {},
   "outputs": [
    {
     "data": {
      "text/plain": [
       "array([0.52395252, 0.84471523, 0.41427141, 0.66561153, 0.58882279,\n",
       "       0.53340655, 0.51055517, 0.63667925, 0.5869287 , 0.35879978])"
      ]
     },
     "execution_count": 90,
     "metadata": {},
     "output_type": "execute_result"
    }
   ],
   "source": [
    "kfold = KFold(10, shuffle=False, random_state=None)\n",
    "lm = LinearRegression()\n",
    "scores = cross_val_score(lm, X_train, y_train, scoring='r2', cv=kfold)\n",
    "scores"
   ]
  },
  {
   "cell_type": "code",
   "execution_count": 91,
   "metadata": {},
   "outputs": [
    {
     "data": {
      "text/plain": [
       "array([0.52395252, 0.84471523, 0.41427141, 0.66561153, 0.58882279,\n",
       "       0.53340655, 0.51055517, 0.63667925, 0.5869287 , 0.35879978])"
      ]
     },
     "execution_count": 91,
     "metadata": {},
     "output_type": "execute_result"
    }
   ],
   "source": [
    "scores = cross_val_score(lm, X_train, y_train, scoring='r2', cv=10)\n",
    "scores"
   ]
  },
  {
   "cell_type": "code",
   "execution_count": 92,
   "metadata": {},
   "outputs": [
    {
     "data": {
      "text/plain": [
       "array([-1.23000045e-04, -1.78971413e-04, -8.18210216e-05, -8.95380023e-05,\n",
       "       -9.68332638e-05, -9.59733242e-05, -1.31720373e-04, -7.70226864e-05,\n",
       "       -1.21751568e-04, -1.06263629e-04])"
      ]
     },
     "execution_count": 92,
     "metadata": {},
     "output_type": "execute_result"
    }
   ],
   "source": [
    "scores = cross_val_score(lm, X_train, y_train, scoring='neg_mean_squared_error', cv=10)\n",
    "scores"
   ]
  },
  {
   "cell_type": "code",
   "execution_count": 93,
   "metadata": {},
   "outputs": [
    {
     "name": "stdout",
     "output_type": "stream",
     "text": [
      "24.1 ms ± 1.7 ms per loop (mean ± std. dev. of 7 runs, 10 loops each)\n"
     ]
    }
   ],
   "source": [
    "%%timeit\n",
    "scores3 = cross_val_score(lm, X_train, y_train, scoring='neg_mean_squared_error', cv=5, n_jobs=1)"
   ]
  },
  {
   "cell_type": "code",
   "execution_count": 94,
   "metadata": {},
   "outputs": [],
   "source": [
    "# %%timeit\n",
    "# scores4 = cross_val_score(lm, X_train, y_train, scoring='neg_mean_squared_error', cv=5, n_jobs=-1)"
   ]
  }
 ],
 "metadata": {
  "kernelspec": {
   "display_name": "Python 3.8.13 ('investing')",
   "language": "python",
   "name": "python3"
  },
  "language_info": {
   "codemirror_mode": {
    "name": "ipython",
    "version": 3
   },
   "file_extension": ".py",
   "mimetype": "text/x-python",
   "name": "python",
   "nbconvert_exporter": "python",
   "pygments_lexer": "ipython3",
   "version": "3.8.13"
  },
  "orig_nbformat": 4,
  "vscode": {
   "interpreter": {
    "hash": "d2497507432cfc585cd7327480b40494886a92263503e9edae1616dd76c3ce3b"
   }
  }
 },
 "nbformat": 4,
 "nbformat_minor": 2
}
