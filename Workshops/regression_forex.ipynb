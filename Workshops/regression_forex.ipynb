{
 "cells": [
  {
   "cell_type": "code",
   "execution_count": 1,
   "metadata": {},
   "outputs": [],
   "source": [
    "import pandas as pd\n",
    "import yfinance as yf\n",
    "import pandas_ta as ta\n",
    "import numpy as np\n",
    "import matplotlib.pyplot as plt"
   ]
  },
  {
   "cell_type": "code",
   "execution_count": 2,
   "metadata": {},
   "outputs": [],
   "source": [
    "start = '2018-01-01'\n",
    "end = '2021-01-01'"
   ]
  },
  {
   "cell_type": "code",
   "execution_count": 3,
   "metadata": {},
   "outputs": [
    {
     "name": "stdout",
     "output_type": "stream",
     "text": [
      "[*********************100%***********************]  1 of 1 completed\n"
     ]
    }
   ],
   "source": [
    "data = yf.download('GBPUSD=X', start=start, end=end, interval='1d')"
   ]
  },
  {
   "cell_type": "code",
   "execution_count": 4,
   "metadata": {},
   "outputs": [
    {
     "data": {
      "text/html": [
       "<div>\n",
       "<style scoped>\n",
       "    .dataframe tbody tr th:only-of-type {\n",
       "        vertical-align: middle;\n",
       "    }\n",
       "\n",
       "    .dataframe tbody tr th {\n",
       "        vertical-align: top;\n",
       "    }\n",
       "\n",
       "    .dataframe thead th {\n",
       "        text-align: right;\n",
       "    }\n",
       "</style>\n",
       "<table border=\"1\" class=\"dataframe\">\n",
       "  <thead>\n",
       "    <tr style=\"text-align: right;\">\n",
       "      <th></th>\n",
       "      <th>Open</th>\n",
       "      <th>High</th>\n",
       "      <th>Low</th>\n",
       "      <th>Close</th>\n",
       "      <th>Adj Close</th>\n",
       "      <th>Volume</th>\n",
       "    </tr>\n",
       "    <tr>\n",
       "      <th>Date</th>\n",
       "      <th></th>\n",
       "      <th></th>\n",
       "      <th></th>\n",
       "      <th></th>\n",
       "      <th></th>\n",
       "      <th></th>\n",
       "    </tr>\n",
       "  </thead>\n",
       "  <tbody>\n",
       "    <tr>\n",
       "      <th>2018-01-01</th>\n",
       "      <td>1.351607</td>\n",
       "      <td>1.351607</td>\n",
       "      <td>1.348199</td>\n",
       "      <td>1.351607</td>\n",
       "      <td>1.351607</td>\n",
       "      <td>0</td>\n",
       "    </tr>\n",
       "    <tr>\n",
       "      <th>2018-01-02</th>\n",
       "      <td>1.351114</td>\n",
       "      <td>1.359675</td>\n",
       "      <td>1.350931</td>\n",
       "      <td>1.351132</td>\n",
       "      <td>1.351132</td>\n",
       "      <td>0</td>\n",
       "    </tr>\n",
       "    <tr>\n",
       "      <th>2018-01-03</th>\n",
       "      <td>1.359453</td>\n",
       "      <td>1.361470</td>\n",
       "      <td>1.349874</td>\n",
       "      <td>1.359619</td>\n",
       "      <td>1.359619</td>\n",
       "      <td>0</td>\n",
       "    </tr>\n",
       "    <tr>\n",
       "      <th>2018-01-04</th>\n",
       "      <td>1.351169</td>\n",
       "      <td>1.356116</td>\n",
       "      <td>1.350658</td>\n",
       "      <td>1.351132</td>\n",
       "      <td>1.351132</td>\n",
       "      <td>0</td>\n",
       "    </tr>\n",
       "    <tr>\n",
       "      <th>2018-01-05</th>\n",
       "      <td>1.355381</td>\n",
       "      <td>1.358031</td>\n",
       "      <td>1.352667</td>\n",
       "      <td>1.355289</td>\n",
       "      <td>1.355289</td>\n",
       "      <td>0</td>\n",
       "    </tr>\n",
       "    <tr>\n",
       "      <th>...</th>\n",
       "      <td>...</td>\n",
       "      <td>...</td>\n",
       "      <td>...</td>\n",
       "      <td>...</td>\n",
       "      <td>...</td>\n",
       "      <td>...</td>\n",
       "    </tr>\n",
       "    <tr>\n",
       "      <th>2020-12-25</th>\n",
       "      <td>1.356963</td>\n",
       "      <td>1.361300</td>\n",
       "      <td>1.351534</td>\n",
       "      <td>1.355201</td>\n",
       "      <td>1.355201</td>\n",
       "      <td>0</td>\n",
       "    </tr>\n",
       "    <tr>\n",
       "      <th>2020-12-28</th>\n",
       "      <td>1.357368</td>\n",
       "      <td>1.357773</td>\n",
       "      <td>1.343598</td>\n",
       "      <td>1.357239</td>\n",
       "      <td>1.357239</td>\n",
       "      <td>0</td>\n",
       "    </tr>\n",
       "    <tr>\n",
       "      <th>2020-12-29</th>\n",
       "      <td>1.346566</td>\n",
       "      <td>1.352064</td>\n",
       "      <td>1.346185</td>\n",
       "      <td>1.346602</td>\n",
       "      <td>1.346602</td>\n",
       "      <td>0</td>\n",
       "    </tr>\n",
       "    <tr>\n",
       "      <th>2020-12-30</th>\n",
       "      <td>1.349764</td>\n",
       "      <td>1.361748</td>\n",
       "      <td>1.349455</td>\n",
       "      <td>1.349990</td>\n",
       "      <td>1.349990</td>\n",
       "      <td>0</td>\n",
       "    </tr>\n",
       "    <tr>\n",
       "      <th>2020-12-31</th>\n",
       "      <td>1.362992</td>\n",
       "      <td>1.368457</td>\n",
       "      <td>1.360933</td>\n",
       "      <td>1.363066</td>\n",
       "      <td>1.363066</td>\n",
       "      <td>0</td>\n",
       "    </tr>\n",
       "  </tbody>\n",
       "</table>\n",
       "<p>783 rows × 6 columns</p>\n",
       "</div>"
      ],
      "text/plain": [
       "                Open      High       Low     Close  Adj Close  Volume\n",
       "Date                                                                 \n",
       "2018-01-01  1.351607  1.351607  1.348199  1.351607   1.351607       0\n",
       "2018-01-02  1.351114  1.359675  1.350931  1.351132   1.351132       0\n",
       "2018-01-03  1.359453  1.361470  1.349874  1.359619   1.359619       0\n",
       "2018-01-04  1.351169  1.356116  1.350658  1.351132   1.351132       0\n",
       "2018-01-05  1.355381  1.358031  1.352667  1.355289   1.355289       0\n",
       "...              ...       ...       ...       ...        ...     ...\n",
       "2020-12-25  1.356963  1.361300  1.351534  1.355201   1.355201       0\n",
       "2020-12-28  1.357368  1.357773  1.343598  1.357239   1.357239       0\n",
       "2020-12-29  1.346566  1.352064  1.346185  1.346602   1.346602       0\n",
       "2020-12-30  1.349764  1.361748  1.349455  1.349990   1.349990       0\n",
       "2020-12-31  1.362992  1.368457  1.360933  1.363066   1.363066       0\n",
       "\n",
       "[783 rows x 6 columns]"
      ]
     },
     "execution_count": 4,
     "metadata": {},
     "output_type": "execute_result"
    }
   ],
   "source": [
    "data"
   ]
  },
  {
   "cell_type": "code",
   "execution_count": 5,
   "metadata": {},
   "outputs": [],
   "source": [
    "#Golden Cross\n",
    "golden_strategy = ta.Strategy(\n",
    "    name = 'golden_cross',\n",
    "    description = 'golden_cross',\n",
    "    ta = [\n",
    "        {'kind':'ema','length':50},\n",
    "        {'kind':'ema','length':200}\n",
    "    ])"
   ]
  },
  {
   "cell_type": "code",
   "execution_count": 6,
   "metadata": {},
   "outputs": [],
   "source": [
    "# macd\n",
    "macd = ta.Strategy(\n",
    "    name='macd',\n",
    "    description='macd',\n",
    "    ta = [\n",
    "        {'kind':'macd'}\n",
    "    ])"
   ]
  },
  {
   "cell_type": "code",
   "execution_count": 7,
   "metadata": {},
   "outputs": [],
   "source": [
    "rsi = ta.Strategy(\n",
    "    name='rsi',\n",
    "    description='rsi',\n",
    "    ta = [\n",
    "        {'kind':'rsi', 'length': 14}\n",
    "    ])"
   ]
  },
  {
   "cell_type": "code",
   "execution_count": 8,
   "metadata": {},
   "outputs": [],
   "source": [
    "data.ta.strategy(golden_strategy)"
   ]
  },
  {
   "cell_type": "code",
   "execution_count": 9,
   "metadata": {},
   "outputs": [],
   "source": [
    "data.ta.strategy(macd)"
   ]
  },
  {
   "cell_type": "code",
   "execution_count": 10,
   "metadata": {},
   "outputs": [],
   "source": [
    "data.ta.strategy(rsi)"
   ]
  },
  {
   "cell_type": "code",
   "execution_count": 11,
   "metadata": {},
   "outputs": [
    {
     "data": {
      "text/html": [
       "<div>\n",
       "<style scoped>\n",
       "    .dataframe tbody tr th:only-of-type {\n",
       "        vertical-align: middle;\n",
       "    }\n",
       "\n",
       "    .dataframe tbody tr th {\n",
       "        vertical-align: top;\n",
       "    }\n",
       "\n",
       "    .dataframe thead th {\n",
       "        text-align: right;\n",
       "    }\n",
       "</style>\n",
       "<table border=\"1\" class=\"dataframe\">\n",
       "  <thead>\n",
       "    <tr style=\"text-align: right;\">\n",
       "      <th></th>\n",
       "      <th>Open</th>\n",
       "      <th>High</th>\n",
       "      <th>Low</th>\n",
       "      <th>Close</th>\n",
       "      <th>Adj Close</th>\n",
       "      <th>Volume</th>\n",
       "      <th>EMA_50</th>\n",
       "      <th>EMA_200</th>\n",
       "      <th>MACD_12_26_9</th>\n",
       "      <th>MACDh_12_26_9</th>\n",
       "      <th>MACDs_12_26_9</th>\n",
       "      <th>RSI_14</th>\n",
       "    </tr>\n",
       "    <tr>\n",
       "      <th>Date</th>\n",
       "      <th></th>\n",
       "      <th></th>\n",
       "      <th></th>\n",
       "      <th></th>\n",
       "      <th></th>\n",
       "      <th></th>\n",
       "      <th></th>\n",
       "      <th></th>\n",
       "      <th></th>\n",
       "      <th></th>\n",
       "      <th></th>\n",
       "      <th></th>\n",
       "    </tr>\n",
       "  </thead>\n",
       "  <tbody>\n",
       "    <tr>\n",
       "      <th>2018-01-01</th>\n",
       "      <td>1.351607</td>\n",
       "      <td>1.351607</td>\n",
       "      <td>1.348199</td>\n",
       "      <td>1.351607</td>\n",
       "      <td>1.351607</td>\n",
       "      <td>0</td>\n",
       "      <td>NaN</td>\n",
       "      <td>NaN</td>\n",
       "      <td>NaN</td>\n",
       "      <td>NaN</td>\n",
       "      <td>NaN</td>\n",
       "      <td>NaN</td>\n",
       "    </tr>\n",
       "    <tr>\n",
       "      <th>2018-01-02</th>\n",
       "      <td>1.351114</td>\n",
       "      <td>1.359675</td>\n",
       "      <td>1.350931</td>\n",
       "      <td>1.351132</td>\n",
       "      <td>1.351132</td>\n",
       "      <td>0</td>\n",
       "      <td>NaN</td>\n",
       "      <td>NaN</td>\n",
       "      <td>NaN</td>\n",
       "      <td>NaN</td>\n",
       "      <td>NaN</td>\n",
       "      <td>NaN</td>\n",
       "    </tr>\n",
       "    <tr>\n",
       "      <th>2018-01-03</th>\n",
       "      <td>1.359453</td>\n",
       "      <td>1.361470</td>\n",
       "      <td>1.349874</td>\n",
       "      <td>1.359619</td>\n",
       "      <td>1.359619</td>\n",
       "      <td>0</td>\n",
       "      <td>NaN</td>\n",
       "      <td>NaN</td>\n",
       "      <td>NaN</td>\n",
       "      <td>NaN</td>\n",
       "      <td>NaN</td>\n",
       "      <td>NaN</td>\n",
       "    </tr>\n",
       "    <tr>\n",
       "      <th>2018-01-04</th>\n",
       "      <td>1.351169</td>\n",
       "      <td>1.356116</td>\n",
       "      <td>1.350658</td>\n",
       "      <td>1.351132</td>\n",
       "      <td>1.351132</td>\n",
       "      <td>0</td>\n",
       "      <td>NaN</td>\n",
       "      <td>NaN</td>\n",
       "      <td>NaN</td>\n",
       "      <td>NaN</td>\n",
       "      <td>NaN</td>\n",
       "      <td>NaN</td>\n",
       "    </tr>\n",
       "    <tr>\n",
       "      <th>2018-01-05</th>\n",
       "      <td>1.355381</td>\n",
       "      <td>1.358031</td>\n",
       "      <td>1.352667</td>\n",
       "      <td>1.355289</td>\n",
       "      <td>1.355289</td>\n",
       "      <td>0</td>\n",
       "      <td>NaN</td>\n",
       "      <td>NaN</td>\n",
       "      <td>NaN</td>\n",
       "      <td>NaN</td>\n",
       "      <td>NaN</td>\n",
       "      <td>NaN</td>\n",
       "    </tr>\n",
       "    <tr>\n",
       "      <th>...</th>\n",
       "      <td>...</td>\n",
       "      <td>...</td>\n",
       "      <td>...</td>\n",
       "      <td>...</td>\n",
       "      <td>...</td>\n",
       "      <td>...</td>\n",
       "      <td>...</td>\n",
       "      <td>...</td>\n",
       "      <td>...</td>\n",
       "      <td>...</td>\n",
       "      <td>...</td>\n",
       "      <td>...</td>\n",
       "    </tr>\n",
       "    <tr>\n",
       "      <th>2020-12-25</th>\n",
       "      <td>1.356963</td>\n",
       "      <td>1.361300</td>\n",
       "      <td>1.351534</td>\n",
       "      <td>1.355201</td>\n",
       "      <td>1.355201</td>\n",
       "      <td>0</td>\n",
       "      <td>1.327918</td>\n",
       "      <td>1.297550</td>\n",
       "      <td>0.006744</td>\n",
       "      <td>0.000239</td>\n",
       "      <td>0.006504</td>\n",
       "      <td>61.748510</td>\n",
       "    </tr>\n",
       "    <tr>\n",
       "      <th>2020-12-28</th>\n",
       "      <td>1.357368</td>\n",
       "      <td>1.357773</td>\n",
       "      <td>1.343598</td>\n",
       "      <td>1.357239</td>\n",
       "      <td>1.357239</td>\n",
       "      <td>0</td>\n",
       "      <td>1.329068</td>\n",
       "      <td>1.298144</td>\n",
       "      <td>0.007251</td>\n",
       "      <td>0.000597</td>\n",
       "      <td>0.006654</td>\n",
       "      <td>62.751029</td>\n",
       "    </tr>\n",
       "    <tr>\n",
       "      <th>2020-12-29</th>\n",
       "      <td>1.346566</td>\n",
       "      <td>1.352064</td>\n",
       "      <td>1.346185</td>\n",
       "      <td>1.346602</td>\n",
       "      <td>1.346602</td>\n",
       "      <td>0</td>\n",
       "      <td>1.329756</td>\n",
       "      <td>1.298626</td>\n",
       "      <td>0.006717</td>\n",
       "      <td>0.000050</td>\n",
       "      <td>0.006666</td>\n",
       "      <td>54.693837</td>\n",
       "    </tr>\n",
       "    <tr>\n",
       "      <th>2020-12-30</th>\n",
       "      <td>1.349764</td>\n",
       "      <td>1.361748</td>\n",
       "      <td>1.349455</td>\n",
       "      <td>1.349990</td>\n",
       "      <td>1.349990</td>\n",
       "      <td>0</td>\n",
       "      <td>1.330549</td>\n",
       "      <td>1.299137</td>\n",
       "      <td>0.006492</td>\n",
       "      <td>-0.000139</td>\n",
       "      <td>0.006631</td>\n",
       "      <td>56.605333</td>\n",
       "    </tr>\n",
       "    <tr>\n",
       "      <th>2020-12-31</th>\n",
       "      <td>1.362992</td>\n",
       "      <td>1.368457</td>\n",
       "      <td>1.360933</td>\n",
       "      <td>1.363066</td>\n",
       "      <td>1.363066</td>\n",
       "      <td>0</td>\n",
       "      <td>1.331824</td>\n",
       "      <td>1.299773</td>\n",
       "      <td>0.007285</td>\n",
       "      <td>0.000523</td>\n",
       "      <td>0.006762</td>\n",
       "      <td>63.078830</td>\n",
       "    </tr>\n",
       "  </tbody>\n",
       "</table>\n",
       "<p>783 rows × 12 columns</p>\n",
       "</div>"
      ],
      "text/plain": [
       "                Open      High       Low     Close  Adj Close  Volume  \\\n",
       "Date                                                                    \n",
       "2018-01-01  1.351607  1.351607  1.348199  1.351607   1.351607       0   \n",
       "2018-01-02  1.351114  1.359675  1.350931  1.351132   1.351132       0   \n",
       "2018-01-03  1.359453  1.361470  1.349874  1.359619   1.359619       0   \n",
       "2018-01-04  1.351169  1.356116  1.350658  1.351132   1.351132       0   \n",
       "2018-01-05  1.355381  1.358031  1.352667  1.355289   1.355289       0   \n",
       "...              ...       ...       ...       ...        ...     ...   \n",
       "2020-12-25  1.356963  1.361300  1.351534  1.355201   1.355201       0   \n",
       "2020-12-28  1.357368  1.357773  1.343598  1.357239   1.357239       0   \n",
       "2020-12-29  1.346566  1.352064  1.346185  1.346602   1.346602       0   \n",
       "2020-12-30  1.349764  1.361748  1.349455  1.349990   1.349990       0   \n",
       "2020-12-31  1.362992  1.368457  1.360933  1.363066   1.363066       0   \n",
       "\n",
       "              EMA_50   EMA_200  MACD_12_26_9  MACDh_12_26_9  MACDs_12_26_9  \\\n",
       "Date                                                                         \n",
       "2018-01-01       NaN       NaN           NaN            NaN            NaN   \n",
       "2018-01-02       NaN       NaN           NaN            NaN            NaN   \n",
       "2018-01-03       NaN       NaN           NaN            NaN            NaN   \n",
       "2018-01-04       NaN       NaN           NaN            NaN            NaN   \n",
       "2018-01-05       NaN       NaN           NaN            NaN            NaN   \n",
       "...              ...       ...           ...            ...            ...   \n",
       "2020-12-25  1.327918  1.297550      0.006744       0.000239       0.006504   \n",
       "2020-12-28  1.329068  1.298144      0.007251       0.000597       0.006654   \n",
       "2020-12-29  1.329756  1.298626      0.006717       0.000050       0.006666   \n",
       "2020-12-30  1.330549  1.299137      0.006492      -0.000139       0.006631   \n",
       "2020-12-31  1.331824  1.299773      0.007285       0.000523       0.006762   \n",
       "\n",
       "               RSI_14  \n",
       "Date                   \n",
       "2018-01-01        NaN  \n",
       "2018-01-02        NaN  \n",
       "2018-01-03        NaN  \n",
       "2018-01-04        NaN  \n",
       "2018-01-05        NaN  \n",
       "...               ...  \n",
       "2020-12-25  61.748510  \n",
       "2020-12-28  62.751029  \n",
       "2020-12-29  54.693837  \n",
       "2020-12-30  56.605333  \n",
       "2020-12-31  63.078830  \n",
       "\n",
       "[783 rows x 12 columns]"
      ]
     },
     "execution_count": 11,
     "metadata": {},
     "output_type": "execute_result"
    }
   ],
   "source": [
    "data"
   ]
  },
  {
   "cell_type": "code",
   "execution_count": 12,
   "metadata": {},
   "outputs": [],
   "source": [
    "def golden_cross(data):\n",
    "    if (data.EMA_50 > data.EMA_200):\n",
    "        return 1\n",
    "    else:\n",
    "        return 0"
   ]
  },
  {
   "cell_type": "code",
   "execution_count": 13,
   "metadata": {},
   "outputs": [],
   "source": [
    "def macd_cross(data):\n",
    "    if (data.MACD_12_26_9 > data.MACDs_12_26_9):\n",
    "        return 1\n",
    "    else:\n",
    "        return 0"
   ]
  },
  {
   "cell_type": "code",
   "execution_count": 14,
   "metadata": {},
   "outputs": [],
   "source": [
    "def rsi_cross(data):\n",
    "    if (data.RSI_14 > 70) or (data.RSI_14 < 30):\n",
    "        return 1\n",
    "    else:\n",
    "        return 0"
   ]
  },
  {
   "cell_type": "code",
   "execution_count": 15,
   "metadata": {},
   "outputs": [],
   "source": [
    "data['golden_sig'] = data.apply(golden_cross,axis=1)\n",
    "data['macd_sig'] = data.apply(macd_cross, axis=1)\n",
    "data['rsi_sig'] = data.apply(rsi_cross, axis=1)"
   ]
  },
  {
   "cell_type": "code",
   "execution_count": 16,
   "metadata": {},
   "outputs": [],
   "source": [
    "df = data[['Close','golden_sig','macd_sig','rsi_sig']]"
   ]
  },
  {
   "cell_type": "code",
   "execution_count": 17,
   "metadata": {},
   "outputs": [
    {
     "data": {
      "text/html": [
       "<div>\n",
       "<style scoped>\n",
       "    .dataframe tbody tr th:only-of-type {\n",
       "        vertical-align: middle;\n",
       "    }\n",
       "\n",
       "    .dataframe tbody tr th {\n",
       "        vertical-align: top;\n",
       "    }\n",
       "\n",
       "    .dataframe thead th {\n",
       "        text-align: right;\n",
       "    }\n",
       "</style>\n",
       "<table border=\"1\" class=\"dataframe\">\n",
       "  <thead>\n",
       "    <tr style=\"text-align: right;\">\n",
       "      <th></th>\n",
       "      <th>Close</th>\n",
       "      <th>golden_sig</th>\n",
       "      <th>macd_sig</th>\n",
       "      <th>rsi_sig</th>\n",
       "    </tr>\n",
       "    <tr>\n",
       "      <th>Date</th>\n",
       "      <th></th>\n",
       "      <th></th>\n",
       "      <th></th>\n",
       "      <th></th>\n",
       "    </tr>\n",
       "  </thead>\n",
       "  <tbody>\n",
       "    <tr>\n",
       "      <th>2018-01-01</th>\n",
       "      <td>1.351607</td>\n",
       "      <td>0</td>\n",
       "      <td>0</td>\n",
       "      <td>0</td>\n",
       "    </tr>\n",
       "    <tr>\n",
       "      <th>2018-01-02</th>\n",
       "      <td>1.351132</td>\n",
       "      <td>0</td>\n",
       "      <td>0</td>\n",
       "      <td>0</td>\n",
       "    </tr>\n",
       "    <tr>\n",
       "      <th>2018-01-03</th>\n",
       "      <td>1.359619</td>\n",
       "      <td>0</td>\n",
       "      <td>0</td>\n",
       "      <td>0</td>\n",
       "    </tr>\n",
       "    <tr>\n",
       "      <th>2018-01-04</th>\n",
       "      <td>1.351132</td>\n",
       "      <td>0</td>\n",
       "      <td>0</td>\n",
       "      <td>0</td>\n",
       "    </tr>\n",
       "    <tr>\n",
       "      <th>2018-01-05</th>\n",
       "      <td>1.355289</td>\n",
       "      <td>0</td>\n",
       "      <td>0</td>\n",
       "      <td>0</td>\n",
       "    </tr>\n",
       "    <tr>\n",
       "      <th>...</th>\n",
       "      <td>...</td>\n",
       "      <td>...</td>\n",
       "      <td>...</td>\n",
       "      <td>...</td>\n",
       "    </tr>\n",
       "    <tr>\n",
       "      <th>2020-12-25</th>\n",
       "      <td>1.355201</td>\n",
       "      <td>1</td>\n",
       "      <td>1</td>\n",
       "      <td>0</td>\n",
       "    </tr>\n",
       "    <tr>\n",
       "      <th>2020-12-28</th>\n",
       "      <td>1.357239</td>\n",
       "      <td>1</td>\n",
       "      <td>1</td>\n",
       "      <td>0</td>\n",
       "    </tr>\n",
       "    <tr>\n",
       "      <th>2020-12-29</th>\n",
       "      <td>1.346602</td>\n",
       "      <td>1</td>\n",
       "      <td>1</td>\n",
       "      <td>0</td>\n",
       "    </tr>\n",
       "    <tr>\n",
       "      <th>2020-12-30</th>\n",
       "      <td>1.349990</td>\n",
       "      <td>1</td>\n",
       "      <td>0</td>\n",
       "      <td>0</td>\n",
       "    </tr>\n",
       "    <tr>\n",
       "      <th>2020-12-31</th>\n",
       "      <td>1.363066</td>\n",
       "      <td>1</td>\n",
       "      <td>1</td>\n",
       "      <td>0</td>\n",
       "    </tr>\n",
       "  </tbody>\n",
       "</table>\n",
       "<p>783 rows × 4 columns</p>\n",
       "</div>"
      ],
      "text/plain": [
       "               Close  golden_sig  macd_sig  rsi_sig\n",
       "Date                                               \n",
       "2018-01-01  1.351607           0         0        0\n",
       "2018-01-02  1.351132           0         0        0\n",
       "2018-01-03  1.359619           0         0        0\n",
       "2018-01-04  1.351132           0         0        0\n",
       "2018-01-05  1.355289           0         0        0\n",
       "...              ...         ...       ...      ...\n",
       "2020-12-25  1.355201           1         1        0\n",
       "2020-12-28  1.357239           1         1        0\n",
       "2020-12-29  1.346602           1         1        0\n",
       "2020-12-30  1.349990           1         0        0\n",
       "2020-12-31  1.363066           1         1        0\n",
       "\n",
       "[783 rows x 4 columns]"
      ]
     },
     "execution_count": 17,
     "metadata": {},
     "output_type": "execute_result"
    }
   ],
   "source": [
    "df"
   ]
  },
  {
   "cell_type": "code",
   "execution_count": 18,
   "metadata": {},
   "outputs": [],
   "source": [
    "ret = df.Close.pct_change()"
   ]
  },
  {
   "cell_type": "code",
   "execution_count": 19,
   "metadata": {},
   "outputs": [],
   "source": [
    "X = df.iloc[1:, 1:]\n",
    "y = ret[1:]"
   ]
  },
  {
   "cell_type": "code",
   "execution_count": 20,
   "metadata": {},
   "outputs": [],
   "source": [
    "from sklearn.model_selection import train_test_split\n",
    "from sklearn.linear_model import LinearRegression\n",
    "from sklearn.preprocessing import scale\n",
    "from sklearn import metrics"
   ]
  },
  {
   "cell_type": "code",
   "execution_count": 21,
   "metadata": {},
   "outputs": [],
   "source": [
    "X_train, X_test, y_train, y_test = train_test_split(X, y, test_size=0.2, random_state=12)"
   ]
  },
  {
   "cell_type": "code",
   "execution_count": 22,
   "metadata": {},
   "outputs": [],
   "source": [
    "model = LinearRegression()"
   ]
  },
  {
   "cell_type": "code",
   "execution_count": 23,
   "metadata": {},
   "outputs": [],
   "source": [
    "reg = model.fit(X_train, y_train)"
   ]
  },
  {
   "cell_type": "code",
   "execution_count": 24,
   "metadata": {},
   "outputs": [],
   "source": [
    "y_pred = model.predict(X_test)"
   ]
  },
  {
   "cell_type": "code",
   "execution_count": 25,
   "metadata": {},
   "outputs": [
    {
     "name": "stdout",
     "output_type": "stream",
     "text": [
      "Score =  0.0022805800710510304\n"
     ]
    }
   ],
   "source": [
    "print('Score = ', metrics.r2_score(y_test,y_pred))"
   ]
  },
  {
   "cell_type": "code",
   "execution_count": 26,
   "metadata": {},
   "outputs": [],
   "source": [
    "m = model.coef_\n",
    "b = model.intercept_"
   ]
  },
  {
   "cell_type": "code",
   "execution_count": 27,
   "metadata": {},
   "outputs": [
    {
     "data": {
      "text/plain": [
       "array([-0.00035019,  0.00113223, -0.00032477])"
      ]
     },
     "execution_count": 27,
     "metadata": {},
     "output_type": "execute_result"
    }
   ],
   "source": [
    "m"
   ]
  },
  {
   "cell_type": "code",
   "execution_count": 28,
   "metadata": {},
   "outputs": [
    {
     "data": {
      "text/plain": [
       "-0.0004767433794592634"
      ]
     },
     "execution_count": 28,
     "metadata": {},
     "output_type": "execute_result"
    }
   ],
   "source": [
    "b"
   ]
  },
  {
   "cell_type": "code",
   "execution_count": 29,
   "metadata": {},
   "outputs": [
    {
     "name": "stdout",
     "output_type": "stream",
     "text": [
      "MAE =  0.004200890379384132\n",
      "MSE =  3.178045779361241e-05\n",
      "RMSE =  0.005637415879071936\n"
     ]
    }
   ],
   "source": [
    "print(\"MAE = \",  metrics.mean_absolute_error(y_test,y_pred))\n",
    "print(\"MSE = \",  metrics.mean_squared_error(y_test,y_pred))\n",
    "print(\"RMSE = \", np.sqrt(metrics.mean_squared_error(y_test,y_pred)))"
   ]
  },
  {
   "cell_type": "code",
   "execution_count": 30,
   "metadata": {},
   "outputs": [],
   "source": [
    "df_report = pd.DataFrame({'Actually': y_test, 'Predicted':y_pred})"
   ]
  },
  {
   "cell_type": "code",
   "execution_count": 31,
   "metadata": {},
   "outputs": [
    {
     "data": {
      "image/png": "[encoded data removed]",
      "text/plain": [
       "<Figure size 1152x720 with 1 Axes>"
      ]
     },
     "metadata": {
      "needs_background": "light"
     },
     "output_type": "display_data"
    }
   ],
   "source": [
    "df1 = df_report.head(20)\n",
    "df1.plot(kind=\"bar\",figsize=(16,10))\n",
    "plt.show()"
   ]
  },
  {
   "cell_type": "code",
   "execution_count": null,
   "metadata": {},
   "outputs": [],
   "source": []
  }
 ],
 "metadata": {
  "kernelspec": {
   "display_name": "Python 3.8.13 ('investing')",
   "language": "python",
   "name": "python3"
  },
  "language_info": {
   "codemirror_mode": {
    "name": "ipython",
    "version": 3
   },
   "file_extension": ".py",
   "mimetype": "text/x-python",
   "name": "python",
   "nbconvert_exporter": "python",
   "pygments_lexer": "ipython3",
   "version": "3.8.13"
  },
  "orig_nbformat": 4,
  "vscode": {
   "interpreter": {
    "hash": "d2497507432cfc585cd7327480b40494886a92263503e9edae1616dd76c3ce3b"
   }
  }
 },
 "nbformat": 4,
 "nbformat_minor": 2
}
