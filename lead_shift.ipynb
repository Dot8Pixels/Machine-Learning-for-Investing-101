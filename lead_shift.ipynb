{
 "cells": [
  {
   "cell_type": "code",
   "execution_count": 7,
   "metadata": {},
   "outputs": [],
   "source": [
    "import pandas as pd\n",
    "import yfinance as yf\n",
    "import numpy as np\n",
    "import matplotlib.pyplot as plt"
   ]
  },
  {
   "cell_type": "code",
   "execution_count": 8,
   "metadata": {},
   "outputs": [],
   "source": [
    "start = '2017-01-01'\n",
    "end = '2021-10-01'"
   ]
  },
  {
   "cell_type": "code",
   "execution_count": 9,
   "metadata": {},
   "outputs": [
    {
     "name": "stdout",
     "output_type": "stream",
     "text": [
      "[*********************100%***********************]  2 of 2 completed\n"
     ]
    }
   ],
   "source": [
    "data = yf.download('CL=F PTTEP.BK', start=start, end=end, periods=1)"
   ]
  },
  {
   "cell_type": "code",
   "execution_count": 10,
   "metadata": {},
   "outputs": [
    {
     "data": {
      "text/html": [
       "<div>\n",
       "<style scoped>\n",
       "    .dataframe tbody tr th:only-of-type {\n",
       "        vertical-align: middle;\n",
       "    }\n",
       "\n",
       "    .dataframe tbody tr th {\n",
       "        vertical-align: top;\n",
       "    }\n",
       "\n",
       "    .dataframe thead tr th {\n",
       "        text-align: left;\n",
       "    }\n",
       "\n",
       "    .dataframe thead tr:last-of-type th {\n",
       "        text-align: right;\n",
       "    }\n",
       "</style>\n",
       "<table border=\"1\" class=\"dataframe\">\n",
       "  <thead>\n",
       "    <tr>\n",
       "      <th></th>\n",
       "      <th colspan=\"2\" halign=\"left\">Adj Close</th>\n",
       "      <th colspan=\"2\" halign=\"left\">Close</th>\n",
       "      <th colspan=\"2\" halign=\"left\">High</th>\n",
       "      <th colspan=\"2\" halign=\"left\">Low</th>\n",
       "      <th colspan=\"2\" halign=\"left\">Open</th>\n",
       "      <th colspan=\"2\" halign=\"left\">Volume</th>\n",
       "    </tr>\n",
       "    <tr>\n",
       "      <th></th>\n",
       "      <th>CL=F</th>\n",
       "      <th>PTTEP.BK</th>\n",
       "      <th>CL=F</th>\n",
       "      <th>PTTEP.BK</th>\n",
       "      <th>CL=F</th>\n",
       "      <th>PTTEP.BK</th>\n",
       "      <th>CL=F</th>\n",
       "      <th>PTTEP.BK</th>\n",
       "      <th>CL=F</th>\n",
       "      <th>PTTEP.BK</th>\n",
       "      <th>CL=F</th>\n",
       "      <th>PTTEP.BK</th>\n",
       "    </tr>\n",
       "    <tr>\n",
       "      <th>Date</th>\n",
       "      <th></th>\n",
       "      <th></th>\n",
       "      <th></th>\n",
       "      <th></th>\n",
       "      <th></th>\n",
       "      <th></th>\n",
       "      <th></th>\n",
       "      <th></th>\n",
       "      <th></th>\n",
       "      <th></th>\n",
       "      <th></th>\n",
       "      <th></th>\n",
       "    </tr>\n",
       "  </thead>\n",
       "  <tbody>\n",
       "    <tr>\n",
       "      <th>2017-01-03</th>\n",
       "      <td>52.330002</td>\n",
       "      <td>NaN</td>\n",
       "      <td>52.330002</td>\n",
       "      <td>NaN</td>\n",
       "      <td>55.240002</td>\n",
       "      <td>NaN</td>\n",
       "      <td>52.110001</td>\n",
       "      <td>NaN</td>\n",
       "      <td>54.200001</td>\n",
       "      <td>NaN</td>\n",
       "      <td>727793.0</td>\n",
       "      <td>NaN</td>\n",
       "    </tr>\n",
       "    <tr>\n",
       "      <th>2017-01-04</th>\n",
       "      <td>53.259998</td>\n",
       "      <td>74.474815</td>\n",
       "      <td>53.259998</td>\n",
       "      <td>98.50</td>\n",
       "      <td>53.430000</td>\n",
       "      <td>98.75</td>\n",
       "      <td>52.150002</td>\n",
       "      <td>96.00</td>\n",
       "      <td>52.490002</td>\n",
       "      <td>96.25</td>\n",
       "      <td>512641.0</td>\n",
       "      <td>17352200.0</td>\n",
       "    </tr>\n",
       "    <tr>\n",
       "      <th>2017-01-05</th>\n",
       "      <td>53.759998</td>\n",
       "      <td>74.096779</td>\n",
       "      <td>53.759998</td>\n",
       "      <td>98.00</td>\n",
       "      <td>54.119999</td>\n",
       "      <td>99.50</td>\n",
       "      <td>52.790001</td>\n",
       "      <td>98.00</td>\n",
       "      <td>53.389999</td>\n",
       "      <td>98.50</td>\n",
       "      <td>517362.0</td>\n",
       "      <td>18246200.0</td>\n",
       "    </tr>\n",
       "    <tr>\n",
       "      <th>2017-01-06</th>\n",
       "      <td>53.990002</td>\n",
       "      <td>74.474815</td>\n",
       "      <td>53.990002</td>\n",
       "      <td>98.50</td>\n",
       "      <td>54.320000</td>\n",
       "      <td>99.50</td>\n",
       "      <td>53.320000</td>\n",
       "      <td>97.25</td>\n",
       "      <td>53.730000</td>\n",
       "      <td>98.00</td>\n",
       "      <td>528333.0</td>\n",
       "      <td>11993700.0</td>\n",
       "    </tr>\n",
       "    <tr>\n",
       "      <th>2017-01-09</th>\n",
       "      <td>51.959999</td>\n",
       "      <td>73.907753</td>\n",
       "      <td>51.959999</td>\n",
       "      <td>97.75</td>\n",
       "      <td>53.830002</td>\n",
       "      <td>98.75</td>\n",
       "      <td>51.759998</td>\n",
       "      <td>97.50</td>\n",
       "      <td>53.750000</td>\n",
       "      <td>98.50</td>\n",
       "      <td>564893.0</td>\n",
       "      <td>4042300.0</td>\n",
       "    </tr>\n",
       "    <tr>\n",
       "      <th>...</th>\n",
       "      <td>...</td>\n",
       "      <td>...</td>\n",
       "      <td>...</td>\n",
       "      <td>...</td>\n",
       "      <td>...</td>\n",
       "      <td>...</td>\n",
       "      <td>...</td>\n",
       "      <td>...</td>\n",
       "      <td>...</td>\n",
       "      <td>...</td>\n",
       "      <td>...</td>\n",
       "      <td>...</td>\n",
       "    </tr>\n",
       "    <tr>\n",
       "      <th>2021-09-24</th>\n",
       "      <td>73.980003</td>\n",
       "      <td>NaN</td>\n",
       "      <td>73.980003</td>\n",
       "      <td>NaN</td>\n",
       "      <td>74.269997</td>\n",
       "      <td>NaN</td>\n",
       "      <td>72.809998</td>\n",
       "      <td>NaN</td>\n",
       "      <td>73.239998</td>\n",
       "      <td>NaN</td>\n",
       "      <td>350382.0</td>\n",
       "      <td>NaN</td>\n",
       "    </tr>\n",
       "    <tr>\n",
       "      <th>2021-09-27</th>\n",
       "      <td>75.449997</td>\n",
       "      <td>111.294357</td>\n",
       "      <td>75.449997</td>\n",
       "      <td>117.00</td>\n",
       "      <td>75.750000</td>\n",
       "      <td>117.50</td>\n",
       "      <td>74.160004</td>\n",
       "      <td>114.50</td>\n",
       "      <td>74.190002</td>\n",
       "      <td>115.00</td>\n",
       "      <td>417829.0</td>\n",
       "      <td>25185600.0</td>\n",
       "    </tr>\n",
       "    <tr>\n",
       "      <th>2021-09-28</th>\n",
       "      <td>75.290001</td>\n",
       "      <td>113.196823</td>\n",
       "      <td>75.290001</td>\n",
       "      <td>119.00</td>\n",
       "      <td>76.669998</td>\n",
       "      <td>121.00</td>\n",
       "      <td>74.239998</td>\n",
       "      <td>118.00</td>\n",
       "      <td>75.430000</td>\n",
       "      <td>118.50</td>\n",
       "      <td>476143.0</td>\n",
       "      <td>34817500.0</td>\n",
       "    </tr>\n",
       "    <tr>\n",
       "      <th>2021-09-29</th>\n",
       "      <td>74.830002</td>\n",
       "      <td>113.196823</td>\n",
       "      <td>74.830002</td>\n",
       "      <td>119.00</td>\n",
       "      <td>75.790001</td>\n",
       "      <td>120.00</td>\n",
       "      <td>73.739998</td>\n",
       "      <td>117.00</td>\n",
       "      <td>74.379997</td>\n",
       "      <td>117.00</td>\n",
       "      <td>424193.0</td>\n",
       "      <td>13055700.0</td>\n",
       "    </tr>\n",
       "    <tr>\n",
       "      <th>2021-09-30</th>\n",
       "      <td>75.029999</td>\n",
       "      <td>111.769974</td>\n",
       "      <td>75.029999</td>\n",
       "      <td>117.50</td>\n",
       "      <td>76.070000</td>\n",
       "      <td>119.50</td>\n",
       "      <td>73.139999</td>\n",
       "      <td>117.00</td>\n",
       "      <td>74.779999</td>\n",
       "      <td>119.00</td>\n",
       "      <td>583189.0</td>\n",
       "      <td>11996900.0</td>\n",
       "    </tr>\n",
       "  </tbody>\n",
       "</table>\n",
       "<p>1231 rows × 12 columns</p>\n",
       "</div>"
      ],
      "text/plain": [
       "            Adj Close                  Close                High           \\\n",
       "                 CL=F    PTTEP.BK       CL=F PTTEP.BK       CL=F PTTEP.BK   \n",
       "Date                                                                        \n",
       "2017-01-03  52.330002         NaN  52.330002      NaN  55.240002      NaN   \n",
       "2017-01-04  53.259998   74.474815  53.259998    98.50  53.430000    98.75   \n",
       "2017-01-05  53.759998   74.096779  53.759998    98.00  54.119999    99.50   \n",
       "2017-01-06  53.990002   74.474815  53.990002    98.50  54.320000    99.50   \n",
       "2017-01-09  51.959999   73.907753  51.959999    97.75  53.830002    98.75   \n",
       "...               ...         ...        ...      ...        ...      ...   \n",
       "2021-09-24  73.980003         NaN  73.980003      NaN  74.269997      NaN   \n",
       "2021-09-27  75.449997  111.294357  75.449997   117.00  75.750000   117.50   \n",
       "2021-09-28  75.290001  113.196823  75.290001   119.00  76.669998   121.00   \n",
       "2021-09-29  74.830002  113.196823  74.830002   119.00  75.790001   120.00   \n",
       "2021-09-30  75.029999  111.769974  75.029999   117.50  76.070000   119.50   \n",
       "\n",
       "                  Low                Open             Volume              \n",
       "                 CL=F PTTEP.BK       CL=F PTTEP.BK      CL=F    PTTEP.BK  \n",
       "Date                                                                      \n",
       "2017-01-03  52.110001      NaN  54.200001      NaN  727793.0         NaN  \n",
       "2017-01-04  52.150002    96.00  52.490002    96.25  512641.0  17352200.0  \n",
       "2017-01-05  52.790001    98.00  53.389999    98.50  517362.0  18246200.0  \n",
       "2017-01-06  53.320000    97.25  53.730000    98.00  528333.0  11993700.0  \n",
       "2017-01-09  51.759998    97.50  53.750000    98.50  564893.0   4042300.0  \n",
       "...               ...      ...        ...      ...       ...         ...  \n",
       "2021-09-24  72.809998      NaN  73.239998      NaN  350382.0         NaN  \n",
       "2021-09-27  74.160004   114.50  74.190002   115.00  417829.0  25185600.0  \n",
       "2021-09-28  74.239998   118.00  75.430000   118.50  476143.0  34817500.0  \n",
       "2021-09-29  73.739998   117.00  74.379997   117.00  424193.0  13055700.0  \n",
       "2021-09-30  73.139999   117.00  74.779999   119.00  583189.0  11996900.0  \n",
       "\n",
       "[1231 rows x 12 columns]"
      ]
     },
     "execution_count": 10,
     "metadata": {},
     "output_type": "execute_result"
    }
   ],
   "source": [
    "data"
   ]
  },
  {
   "cell_type": "code",
   "execution_count": 11,
   "metadata": {},
   "outputs": [],
   "source": [
    "df = data['Adj Close']"
   ]
  },
  {
   "cell_type": "code",
   "execution_count": 12,
   "metadata": {},
   "outputs": [
    {
     "data": {
      "text/html": [
       "<div>\n",
       "<style scoped>\n",
       "    .dataframe tbody tr th:only-of-type {\n",
       "        vertical-align: middle;\n",
       "    }\n",
       "\n",
       "    .dataframe tbody tr th {\n",
       "        vertical-align: top;\n",
       "    }\n",
       "\n",
       "    .dataframe thead th {\n",
       "        text-align: right;\n",
       "    }\n",
       "</style>\n",
       "<table border=\"1\" class=\"dataframe\">\n",
       "  <thead>\n",
       "    <tr style=\"text-align: right;\">\n",
       "      <th></th>\n",
       "      <th>CL=F</th>\n",
       "      <th>PTTEP.BK</th>\n",
       "    </tr>\n",
       "    <tr>\n",
       "      <th>Date</th>\n",
       "      <th></th>\n",
       "      <th></th>\n",
       "    </tr>\n",
       "  </thead>\n",
       "  <tbody>\n",
       "    <tr>\n",
       "      <th>2017-01-03</th>\n",
       "      <td>52.330002</td>\n",
       "      <td>NaN</td>\n",
       "    </tr>\n",
       "    <tr>\n",
       "      <th>2017-01-04</th>\n",
       "      <td>53.259998</td>\n",
       "      <td>74.474815</td>\n",
       "    </tr>\n",
       "    <tr>\n",
       "      <th>2017-01-05</th>\n",
       "      <td>53.759998</td>\n",
       "      <td>74.096779</td>\n",
       "    </tr>\n",
       "    <tr>\n",
       "      <th>2017-01-06</th>\n",
       "      <td>53.990002</td>\n",
       "      <td>74.474815</td>\n",
       "    </tr>\n",
       "    <tr>\n",
       "      <th>2017-01-09</th>\n",
       "      <td>51.959999</td>\n",
       "      <td>73.907753</td>\n",
       "    </tr>\n",
       "    <tr>\n",
       "      <th>...</th>\n",
       "      <td>...</td>\n",
       "      <td>...</td>\n",
       "    </tr>\n",
       "    <tr>\n",
       "      <th>2021-09-24</th>\n",
       "      <td>73.980003</td>\n",
       "      <td>NaN</td>\n",
       "    </tr>\n",
       "    <tr>\n",
       "      <th>2021-09-27</th>\n",
       "      <td>75.449997</td>\n",
       "      <td>111.294357</td>\n",
       "    </tr>\n",
       "    <tr>\n",
       "      <th>2021-09-28</th>\n",
       "      <td>75.290001</td>\n",
       "      <td>113.196823</td>\n",
       "    </tr>\n",
       "    <tr>\n",
       "      <th>2021-09-29</th>\n",
       "      <td>74.830002</td>\n",
       "      <td>113.196823</td>\n",
       "    </tr>\n",
       "    <tr>\n",
       "      <th>2021-09-30</th>\n",
       "      <td>75.029999</td>\n",
       "      <td>111.769974</td>\n",
       "    </tr>\n",
       "  </tbody>\n",
       "</table>\n",
       "<p>1231 rows × 2 columns</p>\n",
       "</div>"
      ],
      "text/plain": [
       "                 CL=F    PTTEP.BK\n",
       "Date                             \n",
       "2017-01-03  52.330002         NaN\n",
       "2017-01-04  53.259998   74.474815\n",
       "2017-01-05  53.759998   74.096779\n",
       "2017-01-06  53.990002   74.474815\n",
       "2017-01-09  51.959999   73.907753\n",
       "...               ...         ...\n",
       "2021-09-24  73.980003         NaN\n",
       "2021-09-27  75.449997  111.294357\n",
       "2021-09-28  75.290001  113.196823\n",
       "2021-09-29  74.830002  113.196823\n",
       "2021-09-30  75.029999  111.769974\n",
       "\n",
       "[1231 rows x 2 columns]"
      ]
     },
     "execution_count": 12,
     "metadata": {},
     "output_type": "execute_result"
    }
   ],
   "source": [
    "df"
   ]
  },
  {
   "cell_type": "code",
   "execution_count": 15,
   "metadata": {},
   "outputs": [
    {
     "data": {
      "text/html": [
       "<div>\n",
       "<style scoped>\n",
       "    .dataframe tbody tr th:only-of-type {\n",
       "        vertical-align: middle;\n",
       "    }\n",
       "\n",
       "    .dataframe tbody tr th {\n",
       "        vertical-align: top;\n",
       "    }\n",
       "\n",
       "    .dataframe thead th {\n",
       "        text-align: right;\n",
       "    }\n",
       "</style>\n",
       "<table border=\"1\" class=\"dataframe\">\n",
       "  <thead>\n",
       "    <tr style=\"text-align: right;\">\n",
       "      <th></th>\n",
       "      <th>CL=F</th>\n",
       "      <th>PTTEP.BK</th>\n",
       "    </tr>\n",
       "    <tr>\n",
       "      <th>Date</th>\n",
       "      <th></th>\n",
       "      <th></th>\n",
       "    </tr>\n",
       "  </thead>\n",
       "  <tbody>\n",
       "    <tr>\n",
       "      <th>2017-01-03</th>\n",
       "      <td>NaN</td>\n",
       "      <td>NaN</td>\n",
       "    </tr>\n",
       "    <tr>\n",
       "      <th>2017-01-04</th>\n",
       "      <td>52.330002</td>\n",
       "      <td>NaN</td>\n",
       "    </tr>\n",
       "    <tr>\n",
       "      <th>2017-01-05</th>\n",
       "      <td>53.259998</td>\n",
       "      <td>74.474815</td>\n",
       "    </tr>\n",
       "    <tr>\n",
       "      <th>2017-01-06</th>\n",
       "      <td>53.759998</td>\n",
       "      <td>74.096779</td>\n",
       "    </tr>\n",
       "    <tr>\n",
       "      <th>2017-01-09</th>\n",
       "      <td>53.990002</td>\n",
       "      <td>74.474815</td>\n",
       "    </tr>\n",
       "    <tr>\n",
       "      <th>...</th>\n",
       "      <td>...</td>\n",
       "      <td>...</td>\n",
       "    </tr>\n",
       "    <tr>\n",
       "      <th>2021-09-24</th>\n",
       "      <td>73.300003</td>\n",
       "      <td>107.489418</td>\n",
       "    </tr>\n",
       "    <tr>\n",
       "      <th>2021-09-27</th>\n",
       "      <td>73.980003</td>\n",
       "      <td>NaN</td>\n",
       "    </tr>\n",
       "    <tr>\n",
       "      <th>2021-09-28</th>\n",
       "      <td>75.449997</td>\n",
       "      <td>111.294357</td>\n",
       "    </tr>\n",
       "    <tr>\n",
       "      <th>2021-09-29</th>\n",
       "      <td>75.290001</td>\n",
       "      <td>113.196823</td>\n",
       "    </tr>\n",
       "    <tr>\n",
       "      <th>2021-09-30</th>\n",
       "      <td>74.830002</td>\n",
       "      <td>113.196823</td>\n",
       "    </tr>\n",
       "  </tbody>\n",
       "</table>\n",
       "<p>1231 rows × 2 columns</p>\n",
       "</div>"
      ],
      "text/plain": [
       "                 CL=F    PTTEP.BK\n",
       "Date                             \n",
       "2017-01-03        NaN         NaN\n",
       "2017-01-04  52.330002         NaN\n",
       "2017-01-05  53.259998   74.474815\n",
       "2017-01-06  53.759998   74.096779\n",
       "2017-01-09  53.990002   74.474815\n",
       "...               ...         ...\n",
       "2021-09-24  73.300003  107.489418\n",
       "2021-09-27  73.980003         NaN\n",
       "2021-09-28  75.449997  111.294357\n",
       "2021-09-29  75.290001  113.196823\n",
       "2021-09-30  74.830002  113.196823\n",
       "\n",
       "[1231 rows x 2 columns]"
      ]
     },
     "execution_count": 15,
     "metadata": {},
     "output_type": "execute_result"
    }
   ],
   "source": [
    "df.shift(1)"
   ]
  },
  {
   "cell_type": "code",
   "execution_count": 16,
   "metadata": {},
   "outputs": [
    {
     "name": "stderr",
     "output_type": "stream",
     "text": [
      "C:\\Users\\gunsr\\AppData\\Local\\Temp\\ipykernel_6072\\823199384.py:1: SettingWithCopyWarning: \n",
      "A value is trying to be set on a copy of a slice from a DataFrame.\n",
      "Try using .loc[row_indexer,col_indexer] = value instead\n",
      "\n",
      "See the caveats in the documentation: https://pandas.pydata.org/pandas-docs/stable/user_guide/indexing.html#returning-a-view-versus-a-copy\n",
      "  df['PTTEP.BK_shifted'] = df['PTTEP.BK'].shift(1)\n"
     ]
    }
   ],
   "source": [
    "df['PTTEP.BK_shifted'] = df['PTTEP.BK'].shift(1)"
   ]
  },
  {
   "cell_type": "code",
   "execution_count": 17,
   "metadata": {},
   "outputs": [
    {
     "data": {
      "text/html": [
       "<div>\n",
       "<style scoped>\n",
       "    .dataframe tbody tr th:only-of-type {\n",
       "        vertical-align: middle;\n",
       "    }\n",
       "\n",
       "    .dataframe tbody tr th {\n",
       "        vertical-align: top;\n",
       "    }\n",
       "\n",
       "    .dataframe thead th {\n",
       "        text-align: right;\n",
       "    }\n",
       "</style>\n",
       "<table border=\"1\" class=\"dataframe\">\n",
       "  <thead>\n",
       "    <tr style=\"text-align: right;\">\n",
       "      <th></th>\n",
       "      <th>CL=F</th>\n",
       "      <th>PTTEP.BK</th>\n",
       "      <th>PTTEP.BK_shifted</th>\n",
       "    </tr>\n",
       "    <tr>\n",
       "      <th>Date</th>\n",
       "      <th></th>\n",
       "      <th></th>\n",
       "      <th></th>\n",
       "    </tr>\n",
       "  </thead>\n",
       "  <tbody>\n",
       "    <tr>\n",
       "      <th>2017-01-03</th>\n",
       "      <td>52.330002</td>\n",
       "      <td>NaN</td>\n",
       "      <td>NaN</td>\n",
       "    </tr>\n",
       "    <tr>\n",
       "      <th>2017-01-04</th>\n",
       "      <td>53.259998</td>\n",
       "      <td>74.474815</td>\n",
       "      <td>NaN</td>\n",
       "    </tr>\n",
       "    <tr>\n",
       "      <th>2017-01-05</th>\n",
       "      <td>53.759998</td>\n",
       "      <td>74.096779</td>\n",
       "      <td>74.474815</td>\n",
       "    </tr>\n",
       "    <tr>\n",
       "      <th>2017-01-06</th>\n",
       "      <td>53.990002</td>\n",
       "      <td>74.474815</td>\n",
       "      <td>74.096779</td>\n",
       "    </tr>\n",
       "    <tr>\n",
       "      <th>2017-01-09</th>\n",
       "      <td>51.959999</td>\n",
       "      <td>73.907753</td>\n",
       "      <td>74.474815</td>\n",
       "    </tr>\n",
       "    <tr>\n",
       "      <th>...</th>\n",
       "      <td>...</td>\n",
       "      <td>...</td>\n",
       "      <td>...</td>\n",
       "    </tr>\n",
       "    <tr>\n",
       "      <th>2021-09-24</th>\n",
       "      <td>73.980003</td>\n",
       "      <td>NaN</td>\n",
       "      <td>107.489418</td>\n",
       "    </tr>\n",
       "    <tr>\n",
       "      <th>2021-09-27</th>\n",
       "      <td>75.449997</td>\n",
       "      <td>111.294357</td>\n",
       "      <td>NaN</td>\n",
       "    </tr>\n",
       "    <tr>\n",
       "      <th>2021-09-28</th>\n",
       "      <td>75.290001</td>\n",
       "      <td>113.196823</td>\n",
       "      <td>111.294357</td>\n",
       "    </tr>\n",
       "    <tr>\n",
       "      <th>2021-09-29</th>\n",
       "      <td>74.830002</td>\n",
       "      <td>113.196823</td>\n",
       "      <td>113.196823</td>\n",
       "    </tr>\n",
       "    <tr>\n",
       "      <th>2021-09-30</th>\n",
       "      <td>75.029999</td>\n",
       "      <td>111.769974</td>\n",
       "      <td>113.196823</td>\n",
       "    </tr>\n",
       "  </tbody>\n",
       "</table>\n",
       "<p>1231 rows × 3 columns</p>\n",
       "</div>"
      ],
      "text/plain": [
       "                 CL=F    PTTEP.BK  PTTEP.BK_shifted\n",
       "Date                                               \n",
       "2017-01-03  52.330002         NaN               NaN\n",
       "2017-01-04  53.259998   74.474815               NaN\n",
       "2017-01-05  53.759998   74.096779         74.474815\n",
       "2017-01-06  53.990002   74.474815         74.096779\n",
       "2017-01-09  51.959999   73.907753         74.474815\n",
       "...               ...         ...               ...\n",
       "2021-09-24  73.980003         NaN        107.489418\n",
       "2021-09-27  75.449997  111.294357               NaN\n",
       "2021-09-28  75.290001  113.196823        111.294357\n",
       "2021-09-29  74.830002  113.196823        113.196823\n",
       "2021-09-30  75.029999  111.769974        113.196823\n",
       "\n",
       "[1231 rows x 3 columns]"
      ]
     },
     "execution_count": 17,
     "metadata": {},
     "output_type": "execute_result"
    }
   ],
   "source": [
    "df"
   ]
  },
  {
   "cell_type": "code",
   "execution_count": 22,
   "metadata": {},
   "outputs": [
    {
     "data": {
      "text/plain": [
       "Date\n",
       "2017-01-03         NaN\n",
       "2017-01-04         NaN\n",
       "2017-01-05   -0.005076\n",
       "2017-01-06    0.005102\n",
       "2017-01-09   -0.007614\n",
       "                ...   \n",
       "2021-09-24         NaN\n",
       "2021-09-27         NaN\n",
       "2021-09-28    0.017094\n",
       "2021-09-29    0.000000\n",
       "2021-09-30   -0.012605\n",
       "Name: PTTEP.BK, Length: 1231, dtype: float64"
      ]
     },
     "execution_count": 22,
     "metadata": {},
     "output_type": "execute_result"
    }
   ],
   "source": [
    "(df['PTTEP.BK'] / df['PTTEP.BK'].shift(1)) - 1"
   ]
  },
  {
   "cell_type": "code",
   "execution_count": 18,
   "metadata": {},
   "outputs": [
    {
     "name": "stderr",
     "output_type": "stream",
     "text": [
      "C:\\Users\\gunsr\\AppData\\Local\\Temp\\ipykernel_6072\\3693659604.py:1: SettingWithCopyWarning: \n",
      "A value is trying to be set on a copy of a slice from a DataFrame.\n",
      "Try using .loc[row_indexer,col_indexer] = value instead\n",
      "\n",
      "See the caveats in the documentation: https://pandas.pydata.org/pandas-docs/stable/user_guide/indexing.html#returning-a-view-versus-a-copy\n",
      "  df['return'] = (df['PTTEP.BK'] / df['PTTEP.BK_shifted']) - 1\n"
     ]
    }
   ],
   "source": [
    "df['return'] = (df['PTTEP.BK'] / df['PTTEP.BK_shifted']) - 1"
   ]
  },
  {
   "cell_type": "code",
   "execution_count": 19,
   "metadata": {},
   "outputs": [
    {
     "data": {
      "text/html": [
       "<div>\n",
       "<style scoped>\n",
       "    .dataframe tbody tr th:only-of-type {\n",
       "        vertical-align: middle;\n",
       "    }\n",
       "\n",
       "    .dataframe tbody tr th {\n",
       "        vertical-align: top;\n",
       "    }\n",
       "\n",
       "    .dataframe thead th {\n",
       "        text-align: right;\n",
       "    }\n",
       "</style>\n",
       "<table border=\"1\" class=\"dataframe\">\n",
       "  <thead>\n",
       "    <tr style=\"text-align: right;\">\n",
       "      <th></th>\n",
       "      <th>CL=F</th>\n",
       "      <th>PTTEP.BK</th>\n",
       "      <th>PTTEP.BK_shifted</th>\n",
       "      <th>return</th>\n",
       "    </tr>\n",
       "    <tr>\n",
       "      <th>Date</th>\n",
       "      <th></th>\n",
       "      <th></th>\n",
       "      <th></th>\n",
       "      <th></th>\n",
       "    </tr>\n",
       "  </thead>\n",
       "  <tbody>\n",
       "    <tr>\n",
       "      <th>2017-01-03</th>\n",
       "      <td>52.330002</td>\n",
       "      <td>NaN</td>\n",
       "      <td>NaN</td>\n",
       "      <td>NaN</td>\n",
       "    </tr>\n",
       "    <tr>\n",
       "      <th>2017-01-04</th>\n",
       "      <td>53.259998</td>\n",
       "      <td>74.474815</td>\n",
       "      <td>NaN</td>\n",
       "      <td>NaN</td>\n",
       "    </tr>\n",
       "    <tr>\n",
       "      <th>2017-01-05</th>\n",
       "      <td>53.759998</td>\n",
       "      <td>74.096779</td>\n",
       "      <td>74.474815</td>\n",
       "      <td>-0.005076</td>\n",
       "    </tr>\n",
       "    <tr>\n",
       "      <th>2017-01-06</th>\n",
       "      <td>53.990002</td>\n",
       "      <td>74.474815</td>\n",
       "      <td>74.096779</td>\n",
       "      <td>0.005102</td>\n",
       "    </tr>\n",
       "    <tr>\n",
       "      <th>2017-01-09</th>\n",
       "      <td>51.959999</td>\n",
       "      <td>73.907753</td>\n",
       "      <td>74.474815</td>\n",
       "      <td>-0.007614</td>\n",
       "    </tr>\n",
       "    <tr>\n",
       "      <th>...</th>\n",
       "      <td>...</td>\n",
       "      <td>...</td>\n",
       "      <td>...</td>\n",
       "      <td>...</td>\n",
       "    </tr>\n",
       "    <tr>\n",
       "      <th>2021-09-24</th>\n",
       "      <td>73.980003</td>\n",
       "      <td>NaN</td>\n",
       "      <td>107.489418</td>\n",
       "      <td>NaN</td>\n",
       "    </tr>\n",
       "    <tr>\n",
       "      <th>2021-09-27</th>\n",
       "      <td>75.449997</td>\n",
       "      <td>111.294357</td>\n",
       "      <td>NaN</td>\n",
       "      <td>NaN</td>\n",
       "    </tr>\n",
       "    <tr>\n",
       "      <th>2021-09-28</th>\n",
       "      <td>75.290001</td>\n",
       "      <td>113.196823</td>\n",
       "      <td>111.294357</td>\n",
       "      <td>0.017094</td>\n",
       "    </tr>\n",
       "    <tr>\n",
       "      <th>2021-09-29</th>\n",
       "      <td>74.830002</td>\n",
       "      <td>113.196823</td>\n",
       "      <td>113.196823</td>\n",
       "      <td>0.000000</td>\n",
       "    </tr>\n",
       "    <tr>\n",
       "      <th>2021-09-30</th>\n",
       "      <td>75.029999</td>\n",
       "      <td>111.769974</td>\n",
       "      <td>113.196823</td>\n",
       "      <td>-0.012605</td>\n",
       "    </tr>\n",
       "  </tbody>\n",
       "</table>\n",
       "<p>1231 rows × 4 columns</p>\n",
       "</div>"
      ],
      "text/plain": [
       "                 CL=F    PTTEP.BK  PTTEP.BK_shifted    return\n",
       "Date                                                         \n",
       "2017-01-03  52.330002         NaN               NaN       NaN\n",
       "2017-01-04  53.259998   74.474815               NaN       NaN\n",
       "2017-01-05  53.759998   74.096779         74.474815 -0.005076\n",
       "2017-01-06  53.990002   74.474815         74.096779  0.005102\n",
       "2017-01-09  51.959999   73.907753         74.474815 -0.007614\n",
       "...               ...         ...               ...       ...\n",
       "2021-09-24  73.980003         NaN        107.489418       NaN\n",
       "2021-09-27  75.449997  111.294357               NaN       NaN\n",
       "2021-09-28  75.290001  113.196823        111.294357  0.017094\n",
       "2021-09-29  74.830002  113.196823        113.196823  0.000000\n",
       "2021-09-30  75.029999  111.769974        113.196823 -0.012605\n",
       "\n",
       "[1231 rows x 4 columns]"
      ]
     },
     "execution_count": 19,
     "metadata": {},
     "output_type": "execute_result"
    }
   ],
   "source": [
    "df"
   ]
  },
  {
   "cell_type": "code",
   "execution_count": 23,
   "metadata": {},
   "outputs": [],
   "source": [
    "df = data['Adj Close'].pct_change()"
   ]
  },
  {
   "cell_type": "code",
   "execution_count": 24,
   "metadata": {},
   "outputs": [
    {
     "data": {
      "text/html": [
       "<div>\n",
       "<style scoped>\n",
       "    .dataframe tbody tr th:only-of-type {\n",
       "        vertical-align: middle;\n",
       "    }\n",
       "\n",
       "    .dataframe tbody tr th {\n",
       "        vertical-align: top;\n",
       "    }\n",
       "\n",
       "    .dataframe thead th {\n",
       "        text-align: right;\n",
       "    }\n",
       "</style>\n",
       "<table border=\"1\" class=\"dataframe\">\n",
       "  <thead>\n",
       "    <tr style=\"text-align: right;\">\n",
       "      <th></th>\n",
       "      <th>CL=F</th>\n",
       "      <th>PTTEP.BK</th>\n",
       "    </tr>\n",
       "    <tr>\n",
       "      <th>Date</th>\n",
       "      <th></th>\n",
       "      <th></th>\n",
       "    </tr>\n",
       "  </thead>\n",
       "  <tbody>\n",
       "    <tr>\n",
       "      <th>2017-01-03</th>\n",
       "      <td>NaN</td>\n",
       "      <td>NaN</td>\n",
       "    </tr>\n",
       "    <tr>\n",
       "      <th>2017-01-04</th>\n",
       "      <td>0.017772</td>\n",
       "      <td>NaN</td>\n",
       "    </tr>\n",
       "    <tr>\n",
       "      <th>2017-01-05</th>\n",
       "      <td>0.009388</td>\n",
       "      <td>-0.005076</td>\n",
       "    </tr>\n",
       "    <tr>\n",
       "      <th>2017-01-06</th>\n",
       "      <td>0.004278</td>\n",
       "      <td>0.005102</td>\n",
       "    </tr>\n",
       "    <tr>\n",
       "      <th>2017-01-09</th>\n",
       "      <td>-0.037600</td>\n",
       "      <td>-0.007614</td>\n",
       "    </tr>\n",
       "    <tr>\n",
       "      <th>...</th>\n",
       "      <td>...</td>\n",
       "      <td>...</td>\n",
       "    </tr>\n",
       "    <tr>\n",
       "      <th>2021-09-24</th>\n",
       "      <td>0.009277</td>\n",
       "      <td>0.000000</td>\n",
       "    </tr>\n",
       "    <tr>\n",
       "      <th>2021-09-27</th>\n",
       "      <td>0.019870</td>\n",
       "      <td>0.035398</td>\n",
       "    </tr>\n",
       "    <tr>\n",
       "      <th>2021-09-28</th>\n",
       "      <td>-0.002121</td>\n",
       "      <td>0.017094</td>\n",
       "    </tr>\n",
       "    <tr>\n",
       "      <th>2021-09-29</th>\n",
       "      <td>-0.006110</td>\n",
       "      <td>0.000000</td>\n",
       "    </tr>\n",
       "    <tr>\n",
       "      <th>2021-09-30</th>\n",
       "      <td>0.002673</td>\n",
       "      <td>-0.012605</td>\n",
       "    </tr>\n",
       "  </tbody>\n",
       "</table>\n",
       "<p>1231 rows × 2 columns</p>\n",
       "</div>"
      ],
      "text/plain": [
       "                CL=F  PTTEP.BK\n",
       "Date                          \n",
       "2017-01-03       NaN       NaN\n",
       "2017-01-04  0.017772       NaN\n",
       "2017-01-05  0.009388 -0.005076\n",
       "2017-01-06  0.004278  0.005102\n",
       "2017-01-09 -0.037600 -0.007614\n",
       "...              ...       ...\n",
       "2021-09-24  0.009277  0.000000\n",
       "2021-09-27  0.019870  0.035398\n",
       "2021-09-28 -0.002121  0.017094\n",
       "2021-09-29 -0.006110  0.000000\n",
       "2021-09-30  0.002673 -0.012605\n",
       "\n",
       "[1231 rows x 2 columns]"
      ]
     },
     "execution_count": 24,
     "metadata": {},
     "output_type": "execute_result"
    }
   ],
   "source": [
    "df"
   ]
  },
  {
   "cell_type": "code",
   "execution_count": 25,
   "metadata": {},
   "outputs": [
    {
     "data": {
      "text/plain": [
       "Date\n",
       "2017-01-03         NaN\n",
       "2017-01-04   -0.005076\n",
       "2017-01-05    0.005102\n",
       "2017-01-06   -0.007614\n",
       "2017-01-09   -0.017903\n",
       "                ...   \n",
       "2021-09-24    0.035398\n",
       "2021-09-27    0.017094\n",
       "2021-09-28    0.000000\n",
       "2021-09-29   -0.012605\n",
       "2021-09-30         NaN\n",
       "Name: PTTEP.BK, Length: 1231, dtype: float64"
      ]
     },
     "execution_count": 25,
     "metadata": {},
     "output_type": "execute_result"
    }
   ],
   "source": [
    "df['PTTEP.BK'].shift(-1)"
   ]
  },
  {
   "cell_type": "code",
   "execution_count": 26,
   "metadata": {},
   "outputs": [],
   "source": [
    "df['PTTEP.BK_shifted'] = df['PTTEP.BK'].shift(-1)"
   ]
  },
  {
   "cell_type": "code",
   "execution_count": 27,
   "metadata": {},
   "outputs": [
    {
     "data": {
      "text/html": [
       "<div>\n",
       "<style scoped>\n",
       "    .dataframe tbody tr th:only-of-type {\n",
       "        vertical-align: middle;\n",
       "    }\n",
       "\n",
       "    .dataframe tbody tr th {\n",
       "        vertical-align: top;\n",
       "    }\n",
       "\n",
       "    .dataframe thead th {\n",
       "        text-align: right;\n",
       "    }\n",
       "</style>\n",
       "<table border=\"1\" class=\"dataframe\">\n",
       "  <thead>\n",
       "    <tr style=\"text-align: right;\">\n",
       "      <th></th>\n",
       "      <th>CL=F</th>\n",
       "      <th>PTTEP.BK</th>\n",
       "      <th>PTTEP.BK_shifted</th>\n",
       "    </tr>\n",
       "    <tr>\n",
       "      <th>Date</th>\n",
       "      <th></th>\n",
       "      <th></th>\n",
       "      <th></th>\n",
       "    </tr>\n",
       "  </thead>\n",
       "  <tbody>\n",
       "    <tr>\n",
       "      <th>2017-01-03</th>\n",
       "      <td>NaN</td>\n",
       "      <td>NaN</td>\n",
       "      <td>NaN</td>\n",
       "    </tr>\n",
       "    <tr>\n",
       "      <th>2017-01-04</th>\n",
       "      <td>0.017772</td>\n",
       "      <td>NaN</td>\n",
       "      <td>-0.005076</td>\n",
       "    </tr>\n",
       "    <tr>\n",
       "      <th>2017-01-05</th>\n",
       "      <td>0.009388</td>\n",
       "      <td>-0.005076</td>\n",
       "      <td>0.005102</td>\n",
       "    </tr>\n",
       "    <tr>\n",
       "      <th>2017-01-06</th>\n",
       "      <td>0.004278</td>\n",
       "      <td>0.005102</td>\n",
       "      <td>-0.007614</td>\n",
       "    </tr>\n",
       "    <tr>\n",
       "      <th>2017-01-09</th>\n",
       "      <td>-0.037600</td>\n",
       "      <td>-0.007614</td>\n",
       "      <td>-0.017903</td>\n",
       "    </tr>\n",
       "    <tr>\n",
       "      <th>...</th>\n",
       "      <td>...</td>\n",
       "      <td>...</td>\n",
       "      <td>...</td>\n",
       "    </tr>\n",
       "    <tr>\n",
       "      <th>2021-09-24</th>\n",
       "      <td>0.009277</td>\n",
       "      <td>0.000000</td>\n",
       "      <td>0.035398</td>\n",
       "    </tr>\n",
       "    <tr>\n",
       "      <th>2021-09-27</th>\n",
       "      <td>0.019870</td>\n",
       "      <td>0.035398</td>\n",
       "      <td>0.017094</td>\n",
       "    </tr>\n",
       "    <tr>\n",
       "      <th>2021-09-28</th>\n",
       "      <td>-0.002121</td>\n",
       "      <td>0.017094</td>\n",
       "      <td>0.000000</td>\n",
       "    </tr>\n",
       "    <tr>\n",
       "      <th>2021-09-29</th>\n",
       "      <td>-0.006110</td>\n",
       "      <td>0.000000</td>\n",
       "      <td>-0.012605</td>\n",
       "    </tr>\n",
       "    <tr>\n",
       "      <th>2021-09-30</th>\n",
       "      <td>0.002673</td>\n",
       "      <td>-0.012605</td>\n",
       "      <td>NaN</td>\n",
       "    </tr>\n",
       "  </tbody>\n",
       "</table>\n",
       "<p>1231 rows × 3 columns</p>\n",
       "</div>"
      ],
      "text/plain": [
       "                CL=F  PTTEP.BK  PTTEP.BK_shifted\n",
       "Date                                            \n",
       "2017-01-03       NaN       NaN               NaN\n",
       "2017-01-04  0.017772       NaN         -0.005076\n",
       "2017-01-05  0.009388 -0.005076          0.005102\n",
       "2017-01-06  0.004278  0.005102         -0.007614\n",
       "2017-01-09 -0.037600 -0.007614         -0.017903\n",
       "...              ...       ...               ...\n",
       "2021-09-24  0.009277  0.000000          0.035398\n",
       "2021-09-27  0.019870  0.035398          0.017094\n",
       "2021-09-28 -0.002121  0.017094          0.000000\n",
       "2021-09-29 -0.006110  0.000000         -0.012605\n",
       "2021-09-30  0.002673 -0.012605               NaN\n",
       "\n",
       "[1231 rows x 3 columns]"
      ]
     },
     "execution_count": 27,
     "metadata": {},
     "output_type": "execute_result"
    }
   ],
   "source": [
    "df"
   ]
  },
  {
   "cell_type": "code",
   "execution_count": 28,
   "metadata": {},
   "outputs": [],
   "source": [
    "df.dropna(inplace=True)"
   ]
  },
  {
   "cell_type": "code",
   "execution_count": 30,
   "metadata": {},
   "outputs": [
    {
     "data": {
      "text/plain": [
       "<AxesSubplot:xlabel='CL=F', ylabel='PTTEP.BK_shifted'>"
      ]
     },
     "execution_count": 30,
     "metadata": {},
     "output_type": "execute_result"
    },
    {
     "data": {
      "image/png": "[encoded data removed]",
      "text/plain": [
       "<Figure size 432x288 with 1 Axes>"
      ]
     },
     "metadata": {
      "needs_background": "light"
     },
     "output_type": "display_data"
    }
   ],
   "source": [
    "df.plot.scatter(x='CL=F', y='PTTEP.BK_shifted')"
   ]
  },
  {
   "cell_type": "code",
   "execution_count": 33,
   "metadata": {},
   "outputs": [],
   "source": [
    "df = df.loc[df['CL=F'] > -.5]"
   ]
  },
  {
   "cell_type": "code",
   "execution_count": 34,
   "metadata": {},
   "outputs": [
    {
     "data": {
      "text/plain": [
       "<AxesSubplot:xlabel='CL=F', ylabel='PTTEP.BK_shifted'>"
      ]
     },
     "execution_count": 34,
     "metadata": {},
     "output_type": "execute_result"
    },
    {
     "data": {
      "image/png": "[encoded data removed]",
      "text/plain": [
       "<Figure size 432x288 with 1 Axes>"
      ]
     },
     "metadata": {
      "needs_background": "light"
     },
     "output_type": "display_data"
    }
   ],
   "source": [
    "df.plot.scatter(x='CL=F', y='PTTEP.BK_shifted')"
   ]
  },
  {
   "cell_type": "code",
   "execution_count": 36,
   "metadata": {},
   "outputs": [
    {
     "data": {
      "text/plain": [
       "<AxesSubplot:xlabel='Date'>"
      ]
     },
     "execution_count": 36,
     "metadata": {},
     "output_type": "execute_result"
    },
    {
     "data": {
      "image/png": "[encoded data removed]",
      "text/plain": [
       "<Figure size 432x288 with 1 Axes>"
      ]
     },
     "metadata": {
      "needs_background": "light"
     },
     "output_type": "display_data"
    }
   ],
   "source": [
    "df.plot()"
   ]
  },
  {
   "cell_type": "code",
   "execution_count": 35,
   "metadata": {},
   "outputs": [
    {
     "data": {
      "text/plain": [
       "<AxesSubplot:xlabel='Date'>"
      ]
     },
     "execution_count": 35,
     "metadata": {},
     "output_type": "execute_result"
    },
    {
     "data": {
      "image/png": "[encoded data removed]",
      "text/plain": [
       "<Figure size 432x288 with 1 Axes>"
      ]
     },
     "metadata": {
      "needs_background": "light"
     },
     "output_type": "display_data"
    }
   ],
   "source": [
    "df.loc['2020-04-15':'2020-06-01'].plot()"
   ]
  },
  {
   "cell_type": "code",
   "execution_count": 38,
   "metadata": {},
   "outputs": [],
   "source": [
    "df_clean = df.loc[:'2020-04-13'].append(df.loc['2020-05-10':])"
   ]
  },
  {
   "cell_type": "code",
   "execution_count": 40,
   "metadata": {},
   "outputs": [
    {
     "data": {
      "text/html": [
       "<div>\n",
       "<style scoped>\n",
       "    .dataframe tbody tr th:only-of-type {\n",
       "        vertical-align: middle;\n",
       "    }\n",
       "\n",
       "    .dataframe tbody tr th {\n",
       "        vertical-align: top;\n",
       "    }\n",
       "\n",
       "    .dataframe thead th {\n",
       "        text-align: right;\n",
       "    }\n",
       "</style>\n",
       "<table border=\"1\" class=\"dataframe\">\n",
       "  <thead>\n",
       "    <tr style=\"text-align: right;\">\n",
       "      <th></th>\n",
       "      <th>CL=F</th>\n",
       "      <th>PTTEP.BK</th>\n",
       "      <th>PTTEP.BK_shifted</th>\n",
       "    </tr>\n",
       "    <tr>\n",
       "      <th>Date</th>\n",
       "      <th></th>\n",
       "      <th></th>\n",
       "      <th></th>\n",
       "    </tr>\n",
       "  </thead>\n",
       "  <tbody>\n",
       "    <tr>\n",
       "      <th>2020-04-13</th>\n",
       "      <td>-0.015378</td>\n",
       "      <td>-0.003135</td>\n",
       "      <td>0.012579</td>\n",
       "    </tr>\n",
       "    <tr>\n",
       "      <th>2020-05-11</th>\n",
       "      <td>-0.024252</td>\n",
       "      <td>0.000000</td>\n",
       "      <td>0.012048</td>\n",
       "    </tr>\n",
       "    <tr>\n",
       "      <th>2020-05-12</th>\n",
       "      <td>0.067937</td>\n",
       "      <td>0.012048</td>\n",
       "      <td>-0.005952</td>\n",
       "    </tr>\n",
       "    <tr>\n",
       "      <th>2020-05-13</th>\n",
       "      <td>-0.019007</td>\n",
       "      <td>-0.005952</td>\n",
       "      <td>-0.020958</td>\n",
       "    </tr>\n",
       "    <tr>\n",
       "      <th>2020-05-14</th>\n",
       "      <td>0.089759</td>\n",
       "      <td>-0.020958</td>\n",
       "      <td>0.021407</td>\n",
       "    </tr>\n",
       "    <tr>\n",
       "      <th>2020-05-15</th>\n",
       "      <td>0.067852</td>\n",
       "      <td>0.021407</td>\n",
       "      <td>0.023952</td>\n",
       "    </tr>\n",
       "    <tr>\n",
       "      <th>2020-05-18</th>\n",
       "      <td>0.081210</td>\n",
       "      <td>0.023952</td>\n",
       "      <td>0.029240</td>\n",
       "    </tr>\n",
       "    <tr>\n",
       "      <th>2020-05-19</th>\n",
       "      <td>0.021370</td>\n",
       "      <td>0.029240</td>\n",
       "      <td>0.005682</td>\n",
       "    </tr>\n",
       "    <tr>\n",
       "      <th>2020-05-20</th>\n",
       "      <td>0.030462</td>\n",
       "      <td>0.005682</td>\n",
       "      <td>0.005650</td>\n",
       "    </tr>\n",
       "  </tbody>\n",
       "</table>\n",
       "</div>"
      ],
      "text/plain": [
       "                CL=F  PTTEP.BK  PTTEP.BK_shifted\n",
       "Date                                            \n",
       "2020-04-13 -0.015378 -0.003135          0.012579\n",
       "2020-05-11 -0.024252  0.000000          0.012048\n",
       "2020-05-12  0.067937  0.012048         -0.005952\n",
       "2020-05-13 -0.019007 -0.005952         -0.020958\n",
       "2020-05-14  0.089759 -0.020958          0.021407\n",
       "2020-05-15  0.067852  0.021407          0.023952\n",
       "2020-05-18  0.081210  0.023952          0.029240\n",
       "2020-05-19  0.021370  0.029240          0.005682\n",
       "2020-05-20  0.030462  0.005682          0.005650"
      ]
     },
     "execution_count": 40,
     "metadata": {},
     "output_type": "execute_result"
    }
   ],
   "source": [
    "df_clean.loc['2020-04-12':'2020-05-20']"
   ]
  },
  {
   "cell_type": "code",
   "execution_count": 42,
   "metadata": {},
   "outputs": [
    {
     "data": {
      "text/plain": [
       "<AxesSubplot:xlabel='Date'>"
      ]
     },
     "execution_count": 42,
     "metadata": {},
     "output_type": "execute_result"
    },
    {
     "data": {
      "image/png": "[encoded data removed]",
      "text/plain": [
       "<Figure size 432x288 with 1 Axes>"
      ]
     },
     "metadata": {
      "needs_background": "light"
     },
     "output_type": "display_data"
    }
   ],
   "source": [
    "df_clean.plot()"
   ]
  },
  {
   "cell_type": "code",
   "execution_count": 43,
   "metadata": {},
   "outputs": [
    {
     "data": {
      "text/plain": [
       "<AxesSubplot:xlabel='CL=F', ylabel='PTTEP.BK_shifted'>"
      ]
     },
     "execution_count": 43,
     "metadata": {},
     "output_type": "execute_result"
    },
    {
     "data": {
      "image/png": "[encoded data removed]",
      "text/plain": [
       "<Figure size 432x288 with 1 Axes>"
      ]
     },
     "metadata": {
      "needs_background": "light"
     },
     "output_type": "display_data"
    }
   ],
   "source": [
    "df_clean.plot.scatter(x='CL=F', y='PTTEP.BK_shifted')"
   ]
  },
  {
   "cell_type": "code",
   "execution_count": 45,
   "metadata": {},
   "outputs": [],
   "source": [
    "X = df_clean['CL=F']\n",
    "y = df_clean['PTTEP.BK_shifted']"
   ]
  },
  {
   "cell_type": "code",
   "execution_count": 46,
   "metadata": {},
   "outputs": [],
   "source": [
    "m, c = np.polyfit(X,y,1)"
   ]
  },
  {
   "cell_type": "code",
   "execution_count": 49,
   "metadata": {},
   "outputs": [
    {
     "data": {
      "text/plain": [
       "[<matplotlib.lines.Line2D at 0x17732460af0>]"
      ]
     },
     "execution_count": 49,
     "metadata": {},
     "output_type": "execute_result"
    },
    {
     "data": {
      "image/png": "[encoded data removed]",
      "text/plain": [
       "<Figure size 432x288 with 1 Axes>"
      ]
     },
     "metadata": {
      "needs_background": "light"
     },
     "output_type": "display_data"
    }
   ],
   "source": [
    "df_clean.plot.scatter(x='CL=F', y='PTTEP.BK_shifted', c='k')\n",
    "plt.plot(X,m*X+c)"
   ]
  },
  {
   "cell_type": "code",
   "execution_count": 50,
   "metadata": {},
   "outputs": [],
   "source": [
    "df_clean.drop('PTTEP.BK', axis=1, inplace=True)"
   ]
  },
  {
   "cell_type": "code",
   "execution_count": 51,
   "metadata": {},
   "outputs": [],
   "source": [
    "Lower_limit = df_clean.quantile(0.01)\n",
    "Upper_limit = df_clean.quantile(0.99)"
   ]
  },
  {
   "cell_type": "code",
   "execution_count": 52,
   "metadata": {},
   "outputs": [
    {
     "data": {
      "text/plain": [
       "CL=F               -0.075635\n",
       "PTTEP.BK_shifted   -0.053263\n",
       "Name: 0.01, dtype: float64"
      ]
     },
     "execution_count": 52,
     "metadata": {},
     "output_type": "execute_result"
    }
   ],
   "source": [
    "Lower_limit"
   ]
  },
  {
   "cell_type": "code",
   "execution_count": 53,
   "metadata": {},
   "outputs": [
    {
     "data": {
      "text/html": [
       "<div>\n",
       "<style scoped>\n",
       "    .dataframe tbody tr th:only-of-type {\n",
       "        vertical-align: middle;\n",
       "    }\n",
       "\n",
       "    .dataframe tbody tr th {\n",
       "        vertical-align: top;\n",
       "    }\n",
       "\n",
       "    .dataframe thead th {\n",
       "        text-align: right;\n",
       "    }\n",
       "</style>\n",
       "<table border=\"1\" class=\"dataframe\">\n",
       "  <thead>\n",
       "    <tr style=\"text-align: right;\">\n",
       "      <th></th>\n",
       "      <th>CL=F</th>\n",
       "      <th>PTTEP.BK_shifted</th>\n",
       "    </tr>\n",
       "    <tr>\n",
       "      <th>Date</th>\n",
       "      <th></th>\n",
       "      <th></th>\n",
       "    </tr>\n",
       "  </thead>\n",
       "  <tbody>\n",
       "    <tr>\n",
       "      <th>2017-01-05</th>\n",
       "      <td>False</td>\n",
       "      <td>False</td>\n",
       "    </tr>\n",
       "    <tr>\n",
       "      <th>2017-01-06</th>\n",
       "      <td>False</td>\n",
       "      <td>False</td>\n",
       "    </tr>\n",
       "    <tr>\n",
       "      <th>2017-01-09</th>\n",
       "      <td>False</td>\n",
       "      <td>False</td>\n",
       "    </tr>\n",
       "    <tr>\n",
       "      <th>2017-01-10</th>\n",
       "      <td>False</td>\n",
       "      <td>False</td>\n",
       "    </tr>\n",
       "    <tr>\n",
       "      <th>2017-01-11</th>\n",
       "      <td>False</td>\n",
       "      <td>False</td>\n",
       "    </tr>\n",
       "    <tr>\n",
       "      <th>...</th>\n",
       "      <td>...</td>\n",
       "      <td>...</td>\n",
       "    </tr>\n",
       "    <tr>\n",
       "      <th>2021-09-23</th>\n",
       "      <td>False</td>\n",
       "      <td>False</td>\n",
       "    </tr>\n",
       "    <tr>\n",
       "      <th>2021-09-24</th>\n",
       "      <td>False</td>\n",
       "      <td>False</td>\n",
       "    </tr>\n",
       "    <tr>\n",
       "      <th>2021-09-27</th>\n",
       "      <td>False</td>\n",
       "      <td>False</td>\n",
       "    </tr>\n",
       "    <tr>\n",
       "      <th>2021-09-28</th>\n",
       "      <td>False</td>\n",
       "      <td>False</td>\n",
       "    </tr>\n",
       "    <tr>\n",
       "      <th>2021-09-29</th>\n",
       "      <td>False</td>\n",
       "      <td>False</td>\n",
       "    </tr>\n",
       "  </tbody>\n",
       "</table>\n",
       "<p>1209 rows × 2 columns</p>\n",
       "</div>"
      ],
      "text/plain": [
       "             CL=F  PTTEP.BK_shifted\n",
       "Date                               \n",
       "2017-01-05  False             False\n",
       "2017-01-06  False             False\n",
       "2017-01-09  False             False\n",
       "2017-01-10  False             False\n",
       "2017-01-11  False             False\n",
       "...           ...               ...\n",
       "2021-09-23  False             False\n",
       "2021-09-24  False             False\n",
       "2021-09-27  False             False\n",
       "2021-09-28  False             False\n",
       "2021-09-29  False             False\n",
       "\n",
       "[1209 rows x 2 columns]"
      ]
     },
     "execution_count": 53,
     "metadata": {},
     "output_type": "execute_result"
    }
   ],
   "source": [
    "(df_clean < Lower_limit) | (df_clean > Upper_limit)"
   ]
  },
  {
   "cell_type": "code",
   "execution_count": 56,
   "metadata": {},
   "outputs": [],
   "source": [
    "df_cleaner = df_clean[~((df_clean < Lower_limit) | (df_clean > Upper_limit)).any(1)]"
   ]
  },
  {
   "cell_type": "code",
   "execution_count": 57,
   "metadata": {},
   "outputs": [
    {
     "data": {
      "text/html": [
       "<div>\n",
       "<style scoped>\n",
       "    .dataframe tbody tr th:only-of-type {\n",
       "        vertical-align: middle;\n",
       "    }\n",
       "\n",
       "    .dataframe tbody tr th {\n",
       "        vertical-align: top;\n",
       "    }\n",
       "\n",
       "    .dataframe thead th {\n",
       "        text-align: right;\n",
       "    }\n",
       "</style>\n",
       "<table border=\"1\" class=\"dataframe\">\n",
       "  <thead>\n",
       "    <tr style=\"text-align: right;\">\n",
       "      <th></th>\n",
       "      <th>CL=F</th>\n",
       "      <th>PTTEP.BK_shifted</th>\n",
       "    </tr>\n",
       "    <tr>\n",
       "      <th>Date</th>\n",
       "      <th></th>\n",
       "      <th></th>\n",
       "    </tr>\n",
       "  </thead>\n",
       "  <tbody>\n",
       "    <tr>\n",
       "      <th>2017-01-05</th>\n",
       "      <td>0.009388</td>\n",
       "      <td>0.005102</td>\n",
       "    </tr>\n",
       "    <tr>\n",
       "      <th>2017-01-06</th>\n",
       "      <td>0.004278</td>\n",
       "      <td>-0.007614</td>\n",
       "    </tr>\n",
       "    <tr>\n",
       "      <th>2017-01-09</th>\n",
       "      <td>-0.037600</td>\n",
       "      <td>-0.017903</td>\n",
       "    </tr>\n",
       "    <tr>\n",
       "      <th>2017-01-10</th>\n",
       "      <td>-0.021940</td>\n",
       "      <td>0.005209</td>\n",
       "    </tr>\n",
       "    <tr>\n",
       "      <th>2017-01-11</th>\n",
       "      <td>0.028139</td>\n",
       "      <td>0.002591</td>\n",
       "    </tr>\n",
       "    <tr>\n",
       "      <th>...</th>\n",
       "      <td>...</td>\n",
       "      <td>...</td>\n",
       "    </tr>\n",
       "    <tr>\n",
       "      <th>2021-09-23</th>\n",
       "      <td>0.014814</td>\n",
       "      <td>0.000000</td>\n",
       "    </tr>\n",
       "    <tr>\n",
       "      <th>2021-09-24</th>\n",
       "      <td>0.009277</td>\n",
       "      <td>0.035398</td>\n",
       "    </tr>\n",
       "    <tr>\n",
       "      <th>2021-09-27</th>\n",
       "      <td>0.019870</td>\n",
       "      <td>0.017094</td>\n",
       "    </tr>\n",
       "    <tr>\n",
       "      <th>2021-09-28</th>\n",
       "      <td>-0.002121</td>\n",
       "      <td>0.000000</td>\n",
       "    </tr>\n",
       "    <tr>\n",
       "      <th>2021-09-29</th>\n",
       "      <td>-0.006110</td>\n",
       "      <td>-0.012605</td>\n",
       "    </tr>\n",
       "  </tbody>\n",
       "</table>\n",
       "<p>1163 rows × 2 columns</p>\n",
       "</div>"
      ],
      "text/plain": [
       "                CL=F  PTTEP.BK_shifted\n",
       "Date                                  \n",
       "2017-01-05  0.009388          0.005102\n",
       "2017-01-06  0.004278         -0.007614\n",
       "2017-01-09 -0.037600         -0.017903\n",
       "2017-01-10 -0.021940          0.005209\n",
       "2017-01-11  0.028139          0.002591\n",
       "...              ...               ...\n",
       "2021-09-23  0.014814          0.000000\n",
       "2021-09-24  0.009277          0.035398\n",
       "2021-09-27  0.019870          0.017094\n",
       "2021-09-28 -0.002121          0.000000\n",
       "2021-09-29 -0.006110         -0.012605\n",
       "\n",
       "[1163 rows x 2 columns]"
      ]
     },
     "execution_count": 57,
     "metadata": {},
     "output_type": "execute_result"
    }
   ],
   "source": [
    "df_cleaner"
   ]
  },
  {
   "cell_type": "code",
   "execution_count": 58,
   "metadata": {},
   "outputs": [
    {
     "data": {
      "text/plain": [
       "1163"
      ]
     },
     "execution_count": 58,
     "metadata": {},
     "output_type": "execute_result"
    }
   ],
   "source": [
    "len(df_cleaner.index)"
   ]
  },
  {
   "cell_type": "code",
   "execution_count": 59,
   "metadata": {},
   "outputs": [
    {
     "data": {
      "text/plain": [
       "<AxesSubplot:xlabel='CL=F', ylabel='PTTEP.BK_shifted'>"
      ]
     },
     "execution_count": 59,
     "metadata": {},
     "output_type": "execute_result"
    },
    {
     "data": {
      "image/png": "[encoded data removed]",
      "text/plain": [
       "<Figure size 432x288 with 1 Axes>"
      ]
     },
     "metadata": {
      "needs_background": "light"
     },
     "output_type": "display_data"
    }
   ],
   "source": [
    "df_cleaner.plot.scatter(x='CL=F', y='PTTEP.BK_shifted')"
   ]
  },
  {
   "cell_type": "code",
   "execution_count": 60,
   "metadata": {},
   "outputs": [],
   "source": [
    "X = df_cleaner['CL=F']\n",
    "y = df_cleaner['PTTEP.BK_shifted']\n",
    "m, c = np.polyfit(X,y,1)"
   ]
  },
  {
   "cell_type": "code",
   "execution_count": 61,
   "metadata": {},
   "outputs": [
    {
     "data": {
      "text/plain": [
       "[<matplotlib.lines.Line2D at 0x1773253aa90>]"
      ]
     },
     "execution_count": 61,
     "metadata": {},
     "output_type": "execute_result"
    },
    {
     "data": {
      "image/png": "[encoded data removed]",
      "text/plain": [
       "<Figure size 432x288 with 1 Axes>"
      ]
     },
     "metadata": {
      "needs_background": "light"
     },
     "output_type": "display_data"
    }
   ],
   "source": [
    "df_cleaner.plot.scatter(x='CL=F', y='PTTEP.BK_shifted', c='k')\n",
    "plt.plot(X,m*X+c)"
   ]
  },
  {
   "cell_type": "code",
   "execution_count": 62,
   "metadata": {},
   "outputs": [
    {
     "name": "stdout",
     "output_type": "stream",
     "text": [
      "slope = 0.24668088292926107\n",
      "intercept = 0.0005534685229257232\n"
     ]
    }
   ],
   "source": [
    "print('slope = ' + str(m))\n",
    "print('intercept = ' + str(c))"
   ]
  },
  {
   "cell_type": "code",
   "execution_count": 63,
   "metadata": {},
   "outputs": [
    {
     "data": {
      "text/html": [
       "<div>\n",
       "<style scoped>\n",
       "    .dataframe tbody tr th:only-of-type {\n",
       "        vertical-align: middle;\n",
       "    }\n",
       "\n",
       "    .dataframe tbody tr th {\n",
       "        vertical-align: top;\n",
       "    }\n",
       "\n",
       "    .dataframe thead th {\n",
       "        text-align: right;\n",
       "    }\n",
       "</style>\n",
       "<table border=\"1\" class=\"dataframe\">\n",
       "  <thead>\n",
       "    <tr style=\"text-align: right;\">\n",
       "      <th></th>\n",
       "      <th>CL=F</th>\n",
       "      <th>PTTEP.BK_shifted</th>\n",
       "    </tr>\n",
       "  </thead>\n",
       "  <tbody>\n",
       "    <tr>\n",
       "      <th>CL=F</th>\n",
       "      <td>1.000000</td>\n",
       "      <td>0.297379</td>\n",
       "    </tr>\n",
       "    <tr>\n",
       "      <th>PTTEP.BK_shifted</th>\n",
       "      <td>0.297379</td>\n",
       "      <td>1.000000</td>\n",
       "    </tr>\n",
       "  </tbody>\n",
       "</table>\n",
       "</div>"
      ],
      "text/plain": [
       "                      CL=F  PTTEP.BK_shifted\n",
       "CL=F              1.000000          0.297379\n",
       "PTTEP.BK_shifted  0.297379          1.000000"
      ]
     },
     "execution_count": 63,
     "metadata": {},
     "output_type": "execute_result"
    }
   ],
   "source": [
    "df_cleaner.corr()"
   ]
  },
  {
   "cell_type": "code",
   "execution_count": 64,
   "metadata": {},
   "outputs": [
    {
     "data": {
      "text/plain": [
       "Date\n",
       "2017-01-05         NaN\n",
       "2017-01-06         NaN\n",
       "2017-01-09         NaN\n",
       "2017-01-10         NaN\n",
       "2017-01-11         NaN\n",
       "                ...   \n",
       "2021-09-23    0.216007\n",
       "2021-09-24    0.223892\n",
       "2021-09-27    0.238265\n",
       "2021-09-28    0.217149\n",
       "2021-09-29    0.201573\n",
       "Length: 1163, dtype: float64"
      ]
     },
     "execution_count": 64,
     "metadata": {},
     "output_type": "execute_result"
    }
   ],
   "source": [
    "df_cleaner['CL=F'].rolling(60).corr(df_cleaner['PTTEP.BK_shifted'])"
   ]
  },
  {
   "cell_type": "code",
   "execution_count": 65,
   "metadata": {},
   "outputs": [
    {
     "data": {
      "text/plain": [
       "<AxesSubplot:xlabel='Date'>"
      ]
     },
     "execution_count": 65,
     "metadata": {},
     "output_type": "execute_result"
    },
    {
     "data": {
      "image/png": "[encoded data removed]",
      "text/plain": [
       "<Figure size 432x288 with 1 Axes>"
      ]
     },
     "metadata": {
      "needs_background": "light"
     },
     "output_type": "display_data"
    }
   ],
   "source": [
    "df_cleaner['CL=F'].rolling(60).corr(df_cleaner['PTTEP.BK_shifted']).plot()"
   ]
  },
  {
   "cell_type": "code",
   "execution_count": 67,
   "metadata": {},
   "outputs": [
    {
     "data": {
      "text/plain": [
       "<AxesSubplot:xlabel='Date'>"
      ]
     },
     "execution_count": 67,
     "metadata": {},
     "output_type": "execute_result"
    },
    {
     "data": {
      "image/png": "[encoded data removed]",
      "text/plain": [
       "<Figure size 432x288 with 1 Axes>"
      ]
     },
     "metadata": {
      "needs_background": "light"
     },
     "output_type": "display_data"
    }
   ],
   "source": [
    "df['CL=F'].rolling(60).corr(df['PTTEP.BK']).plot()"
   ]
  },
  {
   "cell_type": "code",
   "execution_count": null,
   "metadata": {},
   "outputs": [],
   "source": []
  }
 ],
 "metadata": {
  "kernelspec": {
   "display_name": "Python 3.8.13 ('investing')",
   "language": "python",
   "name": "python3"
  },
  "language_info": {
   "codemirror_mode": {
    "name": "ipython",
    "version": 3
   },
   "file_extension": ".py",
   "mimetype": "text/x-python",
   "name": "python",
   "nbconvert_exporter": "python",
   "pygments_lexer": "ipython3",
   "version": "3.8.13"
  },
  "orig_nbformat": 4,
  "vscode": {
   "interpreter": {
    "hash": "d2497507432cfc585cd7327480b40494886a92263503e9edae1616dd76c3ce3b"
   }
  }
 },
 "nbformat": 4,
 "nbformat_minor": 2
}
